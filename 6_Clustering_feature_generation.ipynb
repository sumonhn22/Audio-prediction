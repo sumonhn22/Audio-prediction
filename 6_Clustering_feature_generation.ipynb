{
 "cells": [
  {
   "cell_type": "markdown",
   "id": "5PfLyAPVM-O5",
   "metadata": {
    "id": "5PfLyAPVM-O5"
   },
   "source": [
    "# Notebook 6:  Clustering\n",
    "### Feature Generation\n",
    "* By calculating Spectral Centroid Arrays, Mean, Max and Min of the Spectral Centroid Arrays for 'E', 'f_tract' and 's_tract' features.\n",
    "* By calculating Mean, Max and Min of 'energy', 'noise', 'pulse' and 'tone' features.\n",
    "\n",
    "### Clustering\n",
    "* After generating Features Applying different Clustering Algorithms.\n",
    "* If the Feature Space is large (length of the Feature Vector) we can either select the best features or reduce dimension using Principal Component Analysis (PCA)."
   ]
  },
  {
   "cell_type": "markdown",
   "id": "cf4c7c1f",
   "metadata": {},
   "source": [
    "### Setting up working directory:"
   ]
  },
  {
   "cell_type": "code",
   "execution_count": 1,
   "id": "ssPEMK-3L5LU",
   "metadata": {
    "executionInfo": {
     "elapsed": 4,
     "status": "ok",
     "timestamp": 1644388941123,
     "user": {
      "displayName": "Chanaka Prabath",
      "photoUrl": "https://lh3.googleusercontent.com/a-/AOh14GgY5HW7P6KjGUyZKUMsO5Mog94LL5YjDTBpJrgS=s64",
      "userId": "17014943137112987779"
     },
     "user_tz": -330
    },
    "id": "ssPEMK-3L5LU"
   },
   "outputs": [],
   "source": [
    "AED_C_dir = 'ESC50/Dataset'"
   ]
  },
  {
   "cell_type": "markdown",
   "id": "cf465ec7",
   "metadata": {},
   "source": [
    "### Importing necessary libraries:"
   ]
  },
  {
   "cell_type": "code",
   "execution_count": 2,
   "id": "ui_9dVdVU32s",
   "metadata": {
    "executionInfo": {
     "elapsed": 517,
     "status": "ok",
     "timestamp": 1644391557924,
     "user": {
      "displayName": "Chanaka Prabath",
      "photoUrl": "https://lh3.googleusercontent.com/a-/AOh14GgY5HW7P6KjGUyZKUMsO5Mog94LL5YjDTBpJrgS=s64",
      "userId": "17014943137112987779"
     },
     "user_tz": -330
    },
    "id": "ui_9dVdVU32s"
   },
   "outputs": [],
   "source": [
    "import pandas as pd\n",
    "import numpy as np\n",
    "import matplotlib.pyplot as plt\n",
    "import seaborn as sn\n",
    "from sklearn.ensemble import ExtraTreesClassifier\n",
    "from sklearn.ensemble import RandomForestClassifier\n",
    "from sklearn.model_selection import RandomizedSearchCV\n",
    "from sklearn.multiclass import OneVsRestClassifier\n",
    "from sklearn.svm import LinearSVC\n",
    "from sklearn.linear_model import LogisticRegression\n",
    "from sklearn.model_selection import train_test_split\n",
    "from xgboost import XGBClassifier\n",
    "from sklearn.metrics import confusion_matrix,roc_auc_score,roc_curve\n",
    "import pickle\n",
    "from sklearn.preprocessing import OneHotEncoder\n",
    "import librosa.display\n",
    "import librosa\n",
    "import h5py\n",
    "\n",
    "from sklearn.cluster import KMeans, MeanShift, AgglomerativeClustering, SpectralClustering, DBSCAN, Birch\n",
    "from sklearn.mixture import GaussianMixture\n",
    "from sklearn.decomposition import PCA"
   ]
  },
  {
   "cell_type": "markdown",
   "id": "TF1DgTjodmTO",
   "metadata": {
    "id": "TF1DgTjodmTO"
   },
   "source": [
    "### Preprocessing and Feature Engineering"
   ]
  },
  {
   "cell_type": "code",
   "execution_count": 3,
   "id": "i2tMpnlLxfgv",
   "metadata": {
    "executionInfo": {
     "elapsed": 613,
     "status": "ok",
     "timestamp": 1644388949249,
     "user": {
      "displayName": "Chanaka Prabath",
      "photoUrl": "https://lh3.googleusercontent.com/a-/AOh14GgY5HW7P6KjGUyZKUMsO5Mog94LL5YjDTBpJrgS=s64",
      "userId": "17014943137112987779"
     },
     "user_tz": -330
    },
    "id": "i2tMpnlLxfgv"
   },
   "outputs": [],
   "source": [
    "meta_data = pd.read_csv(AED_C_dir+'/metadata.csv')"
   ]
  },
  {
   "cell_type": "code",
   "execution_count": 4,
   "id": "wJF3Mk_RO09n",
   "metadata": {
    "executionInfo": {
     "elapsed": 12,
     "status": "ok",
     "timestamp": 1644389261918,
     "user": {
      "displayName": "Chanaka Prabath",
      "photoUrl": "https://lh3.googleusercontent.com/a-/AOh14GgY5HW7P6KjGUyZKUMsO5Mog94LL5YjDTBpJrgS=s64",
      "userId": "17014943137112987779"
     },
     "user_tz": -330
    },
    "id": "wJF3Mk_RO09n"
   },
   "outputs": [],
   "source": [
    "ptne_features = np.load(AED_C_dir+'\\ptne_features.npy')\n",
    "spectrum_features = np.load(AED_C_dir+'\\spectrum_features.npy')\n",
    "meta_data = pd.read_csv(AED_C_dir+'/metadata.csv')"
   ]
  },
  {
   "cell_type": "code",
   "execution_count": 5,
   "id": "nuIOPVLxOySF",
   "metadata": {
    "executionInfo": {
     "elapsed": 524,
     "status": "ok",
     "timestamp": 1644389290834,
     "user": {
      "displayName": "Chanaka Prabath",
      "photoUrl": "https://lh3.googleusercontent.com/a-/AOh14GgY5HW7P6KjGUyZKUMsO5Mog94LL5YjDTBpJrgS=s64",
      "userId": "17014943137112987779"
     },
     "user_tz": -330
    },
    "id": "nuIOPVLxOySF"
   },
   "outputs": [],
   "source": [
    "### Manually selecting 9 features\n",
    "X = np.hstack((spectrum_features[:,-9:], ptne_features))\n",
    "classes = meta_data['category'].unique()\n",
    "Y = np.array([np.where(classes == meta_data['category'][i])[0][0] for i in range(len(meta_data))])"
   ]
  },
  {
   "cell_type": "markdown",
   "id": "2J3QZladi_5q",
   "metadata": {
    "id": "2J3QZladi_5q"
   },
   "source": [
    "# Clustering"
   ]
  },
  {
   "cell_type": "markdown",
   "id": "bspqaIq1QdYR",
   "metadata": {
    "id": "bspqaIq1QdYR"
   },
   "source": [
    "### K-Means\n",
    "Reference: https://scikit-learn.org/stable/modules/generated/sklearn.cluster.KMeans.html\n",
    "\n",
    "Assigning points to clusters in an effort to minimize the Variance within each cluster. K is the number of clusters."
   ]
  },
  {
   "cell_type": "code",
   "execution_count": 6,
   "id": "pK_HnJqAQclp",
   "metadata": {
    "colab": {
     "base_uri": "https://localhost:8080/",
     "height": 265
    },
    "executionInfo": {
     "elapsed": 2486,
     "status": "ok",
     "timestamp": 1644390120533,
     "user": {
      "displayName": "Chanaka Prabath",
      "photoUrl": "https://lh3.googleusercontent.com/a-/AOh14GgY5HW7P6KjGUyZKUMsO5Mog94LL5YjDTBpJrgS=s64",
      "userId": "17014943137112987779"
     },
     "user_tz": -330
    },
    "id": "pK_HnJqAQclp",
    "outputId": "f8d3ea44-027e-4b90-8290-59972a3f8500"
   },
   "outputs": [
    {
     "data": {
      "image/png": "[encoded data removed]",
      "text/plain": [
       "<Figure size 432x288 with 1 Axes>"
      ]
     },
     "metadata": {
      "needs_background": "light"
     },
     "output_type": "display_data"
    }
   ],
   "source": [
    "model = KMeans(n_clusters = 9)\n",
    "model.fit(X) # Fitting the model\n",
    "yhat = model.predict(X) # Assigning a cluster to each sample\n",
    "clusters = np.unique(yhat) # Retrieving unique clusters\n",
    "# Creating Scatter Plot for samples from each cluster\n",
    "pca = PCA(n_components = 2)\n",
    "principalComponents = pca.fit_transform(X)\n",
    "for cluster in clusters:\n",
    "\t# Getting row indexes for samples within this cluster\n",
    "\trow_ix = np.where(yhat == cluster)\n",
    "\t# Creating Scatter of these samples\n",
    "\tplt.scatter(principalComponents[row_ix, 0], principalComponents[row_ix, 1])\n",
    "\n",
    "plt.show()"
   ]
  },
  {
   "cell_type": "markdown",
   "id": "bIAHyNayTCTo",
   "metadata": {
    "id": "bIAHyNayTCTo"
   },
   "source": [
    "### Mean Shift\n",
    "Reference: https://scikit-learn.org/stable/modules/generated/sklearn.cluster.MeanShift.html\n",
    "\n",
    "Mean shift clustering involves finding and adapting centroids based on the density of samples in the feature space. Mean shift clustering aims to discover “blobs” in a smooth density of samples. It is a centroid-based algorithm, which works by updating candidates for centroids to be the mean of the points within a given region."
   ]
  },
  {
   "cell_type": "code",
   "execution_count": 7,
   "id": "CuuiWBQXTK8L",
   "metadata": {
    "colab": {
     "base_uri": "https://localhost:8080/",
     "height": 265
    },
    "executionInfo": {
     "elapsed": 2536,
     "status": "ok",
     "timestamp": 1644390595401,
     "user": {
      "displayName": "Chanaka Prabath",
      "photoUrl": "https://lh3.googleusercontent.com/a-/AOh14GgY5HW7P6KjGUyZKUMsO5Mog94LL5YjDTBpJrgS=s64",
      "userId": "17014943137112987779"
     },
     "user_tz": -330
    },
    "id": "CuuiWBQXTK8L",
    "outputId": "84bad471-17c2-4aa9-e977-e3ae39c44448"
   },
   "outputs": [
    {
     "data": {
      "image/png": "[encoded data removed]",
      "text/plain": [
       "<Figure size 432x288 with 1 Axes>"
      ]
     },
     "metadata": {
      "needs_background": "light"
     },
     "output_type": "display_data"
    }
   ],
   "source": [
    "model = MeanShift()\n",
    "# Fiting model and predicting clusters\n",
    "yhat = model.fit_predict(X)\n",
    "# Retrieving unique clusters\n",
    "clusters = np.unique(yhat)\n",
    "pca = PCA(n_components = 2)\n",
    "principalComponents = pca.fit_transform(X)\n",
    "for cluster in clusters:\n",
    "\t# Getting row indexes for samples within this cluster\n",
    "\trow_ix = np.where(yhat == cluster)\n",
    "\t# Creating Scatter of these samples\n",
    "\tplt.scatter(principalComponents[row_ix, 0], principalComponents[row_ix, 1])\n",
    "\n",
    "plt.show()"
   ]
  },
  {
   "cell_type": "markdown",
   "id": "gDyvq2dDWG4h",
   "metadata": {
    "id": "gDyvq2dDWG4h"
   },
   "source": [
    "### Gaussian Mixture Model\n",
    "Reference: https://scikit-learn.org/stable/modules/mixture.html\n",
    "\n",
    "The GaussianMixture implements the expectation-maximization (EM) algorithm for fitting mixture-of-Gaussian models."
   ]
  },
  {
   "cell_type": "code",
   "execution_count": 8,
   "id": "BWdaEgy8WGXw",
   "metadata": {
    "colab": {
     "base_uri": "https://localhost:8080/",
     "height": 265
    },
    "executionInfo": {
     "elapsed": 1006,
     "status": "ok",
     "timestamp": 1644391160997,
     "user": {
      "displayName": "Chanaka Prabath",
      "photoUrl": "https://lh3.googleusercontent.com/a-/AOh14GgY5HW7P6KjGUyZKUMsO5Mog94LL5YjDTBpJrgS=s64",
      "userId": "17014943137112987779"
     },
     "user_tz": -330
    },
    "id": "BWdaEgy8WGXw",
    "outputId": "f8664117-b380-4de9-8997-88d7f69cd2e3"
   },
   "outputs": [
    {
     "data": {
      "image/png": "[encoded data removed]",
      "text/plain": [
       "<Figure size 432x288 with 1 Axes>"
      ]
     },
     "metadata": {
      "needs_background": "light"
     },
     "output_type": "display_data"
    }
   ],
   "source": [
    "model = GaussianMixture(n_components=9)\n",
    "model.fit(X) # Fitting the model\n",
    "yhat = model.predict(X) # Assigning a cluster to each sample\n",
    "clusters = np.unique(yhat) # Retrieving unique clusters\n",
    "# Creating Scatter Plot for samples from each cluster\n",
    "pca = PCA(n_components=2)\n",
    "principalComponents = pca.fit_transform(X)\n",
    "for cluster in clusters:\n",
    "\t# Getting row indexes for samples within this cluster\n",
    "\trow_ix = np.where(yhat== cluster)\n",
    "\t# Creating Scatter of these samples\n",
    "\tplt.scatter(principalComponents[row_ix, 0], principalComponents[row_ix, 1])\n",
    "\n",
    "plt.show()"
   ]
  },
  {
   "cell_type": "markdown",
   "id": "S22nHJ1bXnmT",
   "metadata": {
    "id": "S22nHJ1bXnmT"
   },
   "source": [
    "## Agglomerative Clustering\n",
    "Reference: https://scikit-learn.org/stable/modules/generated/sklearn.cluster.AgglomerativeClustering.html\n",
    "\n",
    "Agglomerative clustering involves merging samples until the desired number of clusters is achieved."
   ]
  },
  {
   "cell_type": "code",
   "execution_count": 9,
   "id": "R1HO7yFmXsT9",
   "metadata": {
    "colab": {
     "base_uri": "https://localhost:8080/",
     "height": 265
    },
    "executionInfo": {
     "elapsed": 5,
     "status": "ok",
     "timestamp": 1644391599583,
     "user": {
      "displayName": "Chanaka Prabath",
      "photoUrl": "https://lh3.googleusercontent.com/a-/AOh14GgY5HW7P6KjGUyZKUMsO5Mog94LL5YjDTBpJrgS=s64",
      "userId": "17014943137112987779"
     },
     "user_tz": -330
    },
    "id": "R1HO7yFmXsT9",
    "outputId": "e4ac3582-6550-4d47-fe50-1400a2a212a8"
   },
   "outputs": [
    {
     "data": {
      "image/png": "[encoded data removed]",
      "text/plain": [
       "<Figure size 432x288 with 1 Axes>"
      ]
     },
     "metadata": {
      "needs_background": "light"
     },
     "output_type": "display_data"
    }
   ],
   "source": [
    "model = AgglomerativeClustering(n_clusters = 9)\n",
    "yhat = model.fit_predict(X) # Assigning a cluster to each sample\n",
    "clusters = np.unique(yhat) # Retrieving unique clusters\n",
    "# Creating Scatter Plot for samples from each cluster\n",
    "pca = PCA(n_components = 2)\n",
    "principalComponents = pca.fit_transform(X)\n",
    "for cluster in clusters:\n",
    "\t# Getting row indexes for samples within this cluster\n",
    "\trow_ix = np.where(yhat == cluster)\n",
    "\t# Creating Scatter of these samples\n",
    "\tplt.scatter(principalComponents[row_ix, 0], principalComponents[row_ix, 1])\n",
    "\n",
    "plt.show()"
   ]
  },
  {
   "cell_type": "markdown",
   "id": "e7522ba7",
   "metadata": {},
   "source": [
    "#### Conclusion: \n",
    "All clustering methods described and used above are examples of Unsupervised Learning where the Data Labels are not available. For any classification, Supervised Learning is the better approach where Labelled Data can be used to train the Machine Learning Algorithms."
   ]
  },
  {
   "cell_type": "code",
   "execution_count": null,
   "id": "a7394f03",
   "metadata": {},
   "outputs": [],
   "source": []
  }
 ],
 "metadata": {
  "accelerator": "GPU",
  "colab": {
   "collapsed_sections": [],
   "name": "clustering.ipynb",
   "provenance": []
  },
  "kernelspec": {
   "display_name": "Python 3 (ipykernel)",
   "language": "python",
   "name": "python3"
  },
  "language_info": {
   "codemirror_mode": {
    "name": "ipython",
    "version": 3
   },
   "file_extension": ".py",
   "mimetype": "text/x-python",
   "name": "python",
   "nbconvert_exporter": "python",
   "pygments_lexer": "ipython3",
   "version": "3.9.12"
  }
 },
 "nbformat": 4,
 "nbformat_minor": 5
}
