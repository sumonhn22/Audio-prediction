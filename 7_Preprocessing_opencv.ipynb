{
 "cells": [
  {
   "cell_type": "markdown",
   "id": "3BvgzANWqtRC",
   "metadata": {
    "id": "3BvgzANWqtRC"
   },
   "source": [
    "# Notebook 7:  OpenCV Preprocessing\n",
    "### Feature Generation\n",
    "* Saving Spectrograms of 'E', 's_tract', 'f_tract' as seperate images.\n",
    "* Load E, s_tract and f_tract Spectrogram images for each audio file and concatenate them to create a single training array.\n",
    "* Classification audios using a CNN. CNN performs well with image data."
   ]
  },
  {
   "cell_type": "markdown",
   "id": "6688518f",
   "metadata": {},
   "source": [
    "### Setting up working directory:"
   ]
  },
  {
   "cell_type": "code",
   "execution_count": 1,
   "id": "ssPEMK-3L5LU",
   "metadata": {
    "executionInfo": {
     "elapsed": 5,
     "status": "ok",
     "timestamp": 1644242771545,
     "user": {
      "displayName": "Chanaka Prabath",
      "photoUrl": "https://lh3.googleusercontent.com/a-/AOh14GgY5HW7P6KjGUyZKUMsO5Mog94LL5YjDTBpJrgS=s64",
      "userId": "17014943137112987779"
     },
     "user_tz": -330
    },
    "id": "ssPEMK-3L5LU"
   },
   "outputs": [],
   "source": [
    "AED_C_dir = 'ESC50/Dataset'\n",
    "# Working directory can be setup externally as long as both 'tract' and 'ptne' folders are present within the directory.\n",
    "# The working directory shoud also contain the Metadata CSV file."
   ]
  },
  {
   "cell_type": "markdown",
   "id": "2e9c6efa",
   "metadata": {},
   "source": [
    "### Importing necessary libraries:"
   ]
  },
  {
   "cell_type": "code",
   "execution_count": 2,
   "id": "Cr_dkc68MQLx",
   "metadata": {
    "executionInfo": {
     "elapsed": 4885,
     "status": "ok",
     "timestamp": 1644242799669,
     "user": {
      "displayName": "Chanaka Prabath",
      "photoUrl": "https://lh3.googleusercontent.com/a-/AOh14GgY5HW7P6KjGUyZKUMsO5Mog94LL5YjDTBpJrgS=s64",
      "userId": "17014943137112987779"
     },
     "user_tz": -330
    },
    "id": "Cr_dkc68MQLx"
   },
   "outputs": [
    {
     "name": "stderr",
     "output_type": "stream",
     "text": [
      "2022-09-29 21:34:38.967831: W tensorflow/stream_executor/platform/default/dso_loader.cc:64] Could not load dynamic library 'libcudart.so.11.0'; dlerror: libcudart.so.11.0: cannot open shared object file: No such file or directory; LD_LIBRARY_PATH: /home/sumon/anaconda3/lib/python3.9/site-packages/cv2/../../lib64:\n",
      "2022-09-29 21:34:38.967860: I tensorflow/stream_executor/cuda/cudart_stub.cc:29] Ignore above cudart dlerror if you do not have a GPU set up on your machine.\n"
     ]
    }
   ],
   "source": [
    "import pandas as pd\n",
    "import h5py\n",
    "import os\n",
    "import numpy as np\n",
    "import librosa.display\n",
    "import matplotlib.pyplot as plt\n",
    "import librosa\n",
    "import cv2\n",
    "from tensorflow.keras.utils import to_categorical\n",
    "from keras.layers import Dense, Activation, Flatten, Dropout, BatchNormalization\n",
    "from keras.models import Sequential, Model\n",
    "from keras.layers import Conv2D, MaxPooling2D\n",
    "from tensorflow.keras import optimizers\n",
    "from sklearn.model_selection import train_test_split\n",
    "from sklearn.metrics import accuracy_score"
   ]
  },
  {
   "cell_type": "markdown",
   "id": "M-BOk8efsi_T",
   "metadata": {
    "id": "M-BOk8efsi_T"
   },
   "source": [
    "## Preprocessing and Feature Engineering\n",
    "### Reading the Metadata (CSV) file:"
   ]
  },
  {
   "cell_type": "code",
   "execution_count": 3,
   "id": "Zs7AVaoFMT-X",
   "metadata": {
    "executionInfo": {
     "elapsed": 607,
     "status": "ok",
     "timestamp": 1644242800271,
     "user": {
      "displayName": "Chanaka Prabath",
      "photoUrl": "https://lh3.googleusercontent.com/a-/AOh14GgY5HW7P6KjGUyZKUMsO5Mog94LL5YjDTBpJrgS=s64",
      "userId": "17014943137112987779"
     },
     "user_tz": -330
    },
    "id": "Zs7AVaoFMT-X"
   },
   "outputs": [],
   "source": [
    "meta_data = pd.read_csv(AED_C_dir+'/metadata.csv')"
   ]
  },
  {
   "cell_type": "markdown",
   "id": "f4077e6f",
   "metadata": {},
   "source": [
    "#### Creating images of Spectrograms for 'E' , 'f_tract' & 's_tract' data:"
   ]
  },
  {
   "cell_type": "code",
   "execution_count": 4,
   "id": "f6PM9Qmc58CO",
   "metadata": {
    "executionInfo": {
     "elapsed": 399,
     "status": "ok",
     "timestamp": 1644242808202,
     "user": {
      "displayName": "Chanaka Prabath",
      "photoUrl": "https://lh3.googleusercontent.com/a-/AOh14GgY5HW7P6KjGUyZKUMsO5Mog94LL5YjDTBpJrgS=s64",
      "userId": "17014943137112987779"
     },
     "user_tz": -330
    },
    "id": "f6PM9Qmc58CO"
   },
   "outputs": [],
   "source": [
    "def save_spectrogram(save_loc, name, Spectrogram):\n",
    "    plt.interactive(False)\n",
    "    fig = plt.figure(figsize=[0.72, 0.72])\n",
    "    ax = fig.add_subplot(111)\n",
    "    ax.axes.get_xaxis().set_visible(False)\n",
    "    ax.axes.get_yaxis().set_visible(False)\n",
    "    ax.set_frame_on(False)\n",
    "    S = Spectrogram                   #spectrogram\n",
    "    librosa.display.specshow(librosa.power_to_db(S, ref = np.max))     # Displaying Spectrogram as an image\n",
    "    filename  = save_loc +name+ '.jpg'\n",
    "    plt.savefig(filename, dpi = 400, bbox_inches = 'tight', pad_inches = 0) #Saving Spectrogram as an image\n",
    "    plt.close()    \n",
    "    fig.clf()\n",
    "    plt.close(fig)\n",
    "    plt.close('all')\n",
    "    del name, fig, ax, S"
   ]
  },
  {
   "cell_type": "markdown",
   "id": "fbe5b474",
   "metadata": {},
   "source": [
    "#### Saving the generated Spectrograms as seperate images in Dataset_image folder. \n",
    "#### The Spectrogram Images will be later used to train and test a CNN Classifier."
   ]
  },
  {
   "cell_type": "code",
   "execution_count": 5,
   "id": "mNvIdvBBN_6l",
   "metadata": {
    "id": "mNvIdvBBN_6l"
   },
   "outputs": [],
   "source": [
    "save_loc = 'ESC50/Dataset/Dataset_image/'\n",
    "for i in range(len(meta_data)):\n",
    "    name = meta_data['filename'][i].split('.')[0]\n",
    "    hf = h5py.File(AED_C_dir+'/tracts/'+name+'.hdf5', 'r')\n",
    "    S_E = np.array(hf.get('E'))\n",
    "    save_spectrogram(save_loc, 'E_'+name, S_E)\n",
    "    S_f_tract = np.array(hf.get('f_tract'))\n",
    "    save_spectrogram(save_loc, 'f_tract_'+name, S_f_tract)\n",
    "    S_s_tract = np.array(hf.get('s_tract'))\n",
    "    save_spectrogram(save_loc,'s_tract_'+name, S_s_tract)"
   ]
  },
  {
   "cell_type": "code",
   "execution_count": null,
   "id": "7160bb26",
   "metadata": {},
   "outputs": [],
   "source": []
  }
 ],
 "metadata": {
  "accelerator": "GPU",
  "colab": {
   "collapsed_sections": [],
   "name": "audio clasification_preprocessing_method1.ipynb",
   "provenance": []
  },
  "kernelspec": {
   "display_name": "Python 3 (ipykernel)",
   "language": "python",
   "name": "python3"
  },
  "language_info": {
   "codemirror_mode": {
    "name": "ipython",
    "version": 3
   },
   "file_extension": ".py",
   "mimetype": "text/x-python",
   "name": "python",
   "nbconvert_exporter": "python",
   "pygments_lexer": "ipython3",
   "version": "3.9.12"
  }
 },
 "nbformat": 4,
 "nbformat_minor": 5
}
