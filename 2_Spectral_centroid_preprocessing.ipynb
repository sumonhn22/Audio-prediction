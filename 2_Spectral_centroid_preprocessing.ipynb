{
 "cells": [
  {
   "cell_type": "markdown",
   "id": "5PfLyAPVM-O5",
   "metadata": {
    "id": "5PfLyAPVM-O5"
   },
   "source": [
    "# Notebook 2: Spectral Centroid Preprocessing\n",
    "### Feature Generation\n",
    "* By calculating Spectral Centroid Arrays, Mean, Max and Min of the Spectral Centroid Arrays for 'E', 'f_tract' and 's_tract' features.\n",
    "* By calculating Mean, Max and Min of 'energy', 'noise', 'pulse' and 'tone' features."
   ]
  },
  {
   "cell_type": "markdown",
   "id": "75d8cf1b",
   "metadata": {},
   "source": [
    "### Setting up working directory:"
   ]
  },
  {
   "cell_type": "code",
   "execution_count": 1,
   "id": "ssPEMK-3L5LU",
   "metadata": {
    "executionInfo": {
     "elapsed": 5,
     "status": "ok",
     "timestamp": 1644247161838,
     "user": {
      "displayName": "Chanaka Prabath",
      "photoUrl": "https://lh3.googleusercontent.com/a-/AOh14GgY5HW7P6KjGUyZKUMsO5Mog94LL5YjDTBpJrgS=s64",
      "userId": "17014943137112987779"
     },
     "user_tz": -330
    },
    "id": "ssPEMK-3L5LU"
   },
   "outputs": [],
   "source": [
    "project_dir = 'ESC50/Dataset' \n",
    "#Working directory can be setup externally as long as both 'tract' and 'ptne' folders are present within the directory."
   ]
  },
  {
   "cell_type": "markdown",
   "id": "d9ca172d",
   "metadata": {},
   "source": [
    "### Importing necessary libraries:"
   ]
  },
  {
   "cell_type": "code",
   "execution_count": 2,
   "id": "ui_9dVdVU32s",
   "metadata": {
    "executionInfo": {
     "elapsed": 396,
     "status": "ok",
     "timestamp": 1644247314554,
     "user": {
      "displayName": "Chanaka Prabath",
      "photoUrl": "https://lh3.googleusercontent.com/a-/AOh14GgY5HW7P6KjGUyZKUMsO5Mog94LL5YjDTBpJrgS=s64",
      "userId": "17014943137112987779"
     },
     "user_tz": -330
    },
    "id": "ui_9dVdVU32s"
   },
   "outputs": [
    {
     "name": "stdout",
     "output_type": "stream",
     "text": [
      "Looking in indexes: https://pypi.org/simple, https://pypi.ngc.nvidia.com\n",
      "Requirement already satisfied: librosa in /home/sumon/anaconda3/lib/python3.9/site-packages (0.9.2)\n",
      "Requirement already satisfied: joblib>=0.14 in /home/sumon/anaconda3/lib/python3.9/site-packages (from librosa) (1.1.0)\n",
      "Requirement already satisfied: resampy>=0.2.2 in /home/sumon/anaconda3/lib/python3.9/site-packages (from librosa) (0.4.2)\n",
      "Requirement already satisfied: packaging>=20.0 in /home/sumon/anaconda3/lib/python3.9/site-packages (from librosa) (21.3)\n",
      "Requirement already satisfied: audioread>=2.1.9 in /home/sumon/anaconda3/lib/python3.9/site-packages (from librosa) (3.0.0)\n",
      "Requirement already satisfied: scikit-learn>=0.19.1 in /home/sumon/anaconda3/lib/python3.9/site-packages (from librosa) (1.1.2)\n",
      "Requirement already satisfied: soundfile>=0.10.2 in /home/sumon/anaconda3/lib/python3.9/site-packages (from librosa) (0.10.3.post1)\n",
      "Requirement already satisfied: pooch>=1.0 in /home/sumon/anaconda3/lib/python3.9/site-packages (from librosa) (1.6.0)\n",
      "Requirement already satisfied: scipy>=1.2.0 in /home/sumon/anaconda3/lib/python3.9/site-packages (from librosa) (1.7.3)\n",
      "Requirement already satisfied: numba>=0.45.1 in /home/sumon/anaconda3/lib/python3.9/site-packages (from librosa) (0.55.1)\n",
      "Requirement already satisfied: decorator>=4.0.10 in /home/sumon/anaconda3/lib/python3.9/site-packages (from librosa) (5.1.1)\n",
      "Requirement already satisfied: numpy>=1.17.0 in /home/sumon/anaconda3/lib/python3.9/site-packages (from librosa) (1.21.5)\n",
      "Requirement already satisfied: setuptools in /home/sumon/anaconda3/lib/python3.9/site-packages (from numba>=0.45.1->librosa) (61.2.0)\n",
      "Requirement already satisfied: llvmlite<0.39,>=0.38.0rc1 in /home/sumon/anaconda3/lib/python3.9/site-packages (from numba>=0.45.1->librosa) (0.38.0)\n",
      "Requirement already satisfied: pyparsing!=3.0.5,>=2.0.2 in /home/sumon/anaconda3/lib/python3.9/site-packages (from packaging>=20.0->librosa) (3.0.4)\n",
      "Requirement already satisfied: appdirs>=1.3.0 in /home/sumon/anaconda3/lib/python3.9/site-packages (from pooch>=1.0->librosa) (1.4.4)\n",
      "Requirement already satisfied: requests>=2.19.0 in /home/sumon/anaconda3/lib/python3.9/site-packages (from pooch>=1.0->librosa) (2.27.1)\n",
      "Requirement already satisfied: urllib3<1.27,>=1.21.1 in /home/sumon/anaconda3/lib/python3.9/site-packages (from requests>=2.19.0->pooch>=1.0->librosa) (1.26.9)\n",
      "Requirement already satisfied: idna<4,>=2.5 in /home/sumon/anaconda3/lib/python3.9/site-packages (from requests>=2.19.0->pooch>=1.0->librosa) (3.3)\n",
      "Requirement already satisfied: certifi>=2017.4.17 in /home/sumon/anaconda3/lib/python3.9/site-packages (from requests>=2.19.0->pooch>=1.0->librosa) (2022.6.15)\n",
      "Requirement already satisfied: charset-normalizer~=2.0.0 in /home/sumon/anaconda3/lib/python3.9/site-packages (from requests>=2.19.0->pooch>=1.0->librosa) (2.0.4)\n",
      "Requirement already satisfied: threadpoolctl>=2.0.0 in /home/sumon/anaconda3/lib/python3.9/site-packages (from scikit-learn>=0.19.1->librosa) (2.2.0)\n",
      "Requirement already satisfied: cffi>=1.0 in /home/sumon/anaconda3/lib/python3.9/site-packages (from soundfile>=0.10.2->librosa) (1.15.0)\n",
      "Requirement already satisfied: pycparser in /home/sumon/anaconda3/lib/python3.9/site-packages (from cffi>=1.0->soundfile>=0.10.2->librosa) (2.21)\n"
     ]
    }
   ],
   "source": [
    "# !pip install xgboost\n",
    "!pip install librosa\n",
    "import pandas as pd\n",
    "import numpy as np\n",
    "import matplotlib.pyplot as plt\n",
    "import seaborn as sn\n",
    "from sklearn.ensemble import ExtraTreesClassifier\n",
    "from sklearn.ensemble import RandomForestClassifier\n",
    "from sklearn.model_selection import RandomizedSearchCV\n",
    "from sklearn.multiclass import  OneVsRestClassifier\n",
    "from sklearn.svm import LinearSVC\n",
    "from sklearn.linear_model import LogisticRegression\n",
    "from sklearn.model_selection import train_test_split\n",
    "from xgboost import XGBClassifier\n",
    "from sklearn.metrics import confusion_matrix,roc_auc_score,roc_curve\n",
    "import pickle\n",
    "from sklearn.preprocessing import OneHotEncoder\n",
    "import librosa.display\n",
    "import librosa\n",
    "import h5py"
   ]
  },
  {
   "cell_type": "markdown",
   "id": "TF1DgTjodmTO",
   "metadata": {
    "id": "TF1DgTjodmTO"
   },
   "source": [
    "## Preprocessing and Feature Engineering\n",
    "### Reading the Metadata (CSV) file:"
   ]
  },
  {
   "cell_type": "code",
   "execution_count": 3,
   "id": "i2tMpnlLxfgv",
   "metadata": {
    "executionInfo": {
     "elapsed": 1181,
     "status": "ok",
     "timestamp": 1644247255762,
     "user": {
      "displayName": "Chanaka Prabath",
      "photoUrl": "https://lh3.googleusercontent.com/a-/AOh14GgY5HW7P6KjGUyZKUMsO5Mog94LL5YjDTBpJrgS=s64",
      "userId": "17014943137112987779"
     },
     "user_tz": -330
    },
    "id": "i2tMpnlLxfgv"
   },
   "outputs": [],
   "source": [
    "meta_data = pd.read_csv(project_dir+'/metadata.csv')"
   ]
  },
  {
   "cell_type": "markdown",
   "id": "6a3e4dd4",
   "metadata": {},
   "source": [
    "#### Extracting first set of features by calculating the Spectral Centroids of E, f_tract and s_tract data:"
   ]
  },
  {
   "cell_type": "code",
   "execution_count": 4,
   "id": "juVYIUGN_3ze",
   "metadata": {
    "executionInfo": {
     "elapsed": 284743,
     "status": "ok",
     "timestamp": 1644247601204,
     "user": {
      "displayName": "Chanaka Prabath",
      "photoUrl": "https://lh3.googleusercontent.com/a-/AOh14GgY5HW7P6KjGUyZKUMsO5Mog94LL5YjDTBpJrgS=s64",
      "userId": "17014943137112987779"
     },
     "user_tz": -330
    },
    "id": "juVYIUGN_3ze"
   },
   "outputs": [],
   "source": [
    "spectrum_features = []\n",
    "for i in range(len(meta_data)):\n",
    "    name = meta_data['filename'][i].split('.')[0]\n",
    "    hf = h5py.File(project_dir+'/tracts/'+name+'.hdf5', 'r')\n",
    "    E = np.array(hf.get('E'))\n",
    "    SC_E = Spectral_Centroids=librosa.feature.spectral_centroid(S = E, freq = np.linspace(0, 1, num = E.shape[0]))\n",
    "    if SC_E.shape[1]!=8498:\n",
    "        SC_E = np.hstack((SC_E, [[0]*(8498-SC_E.shape[1])]))\n",
    "    f_tract = np.array(hf.get('f_tract'))\n",
    "    SC_f = Spectral_Centroids=librosa.feature.spectral_centroid(S = f_tract, freq = np.linspace(0, 1, num = E.shape[0]))\n",
    "    if SC_f.shape[1]!=8498:\n",
    "        SC_f = np.hstack((SC_f, [[0]*(8498-SC_f.shape[1])]))\n",
    "    s_tract = np.array(hf.get('s_tract'))\n",
    "    SC_s = Spectral_Centroids = librosa.feature.spectral_centroid(S = f_tract, freq = np.linspace(0, 1, num = E.shape[0]))\n",
    "    if SC_s.shape[1]!=8498:\n",
    "        SC_s = np.hstack((SC_s, [[0]*(8498-SC_s.shape[1])]))\n",
    "    mean = [np.mean(SC_E), np.mean(SC_s), np.mean(SC_f)]\n",
    "    min = [np.min(SC_E), np.min(SC_s), np.min(SC_f)]\n",
    "    max = [np.max(SC_E), np.max(SC_s), np.max(SC_f)]\n",
    "    spectrum_features.append(list(SC_E[0])+list(SC_f[0])+list(SC_s[0])+mean+min+max)\n",
    "spectrum_features = np.array(spectrum_features)"
   ]
  },
  {
   "cell_type": "markdown",
   "id": "ab195074",
   "metadata": {},
   "source": [
    "#### Exporting the Spectral Centroid arrays of the Tract data to an npy file to  be used for Machine Learning modelling"
   ]
  },
  {
   "cell_type": "code",
   "execution_count": 5,
   "id": "NMbKotud1qIy",
   "metadata": {
    "executionInfo": {
     "elapsed": 1335,
     "status": "ok",
     "timestamp": 1644248427998,
     "user": {
      "displayName": "Chanaka Prabath",
      "photoUrl": "https://lh3.googleusercontent.com/a-/AOh14GgY5HW7P6KjGUyZKUMsO5Mog94LL5YjDTBpJrgS=s64",
      "userId": "17014943137112987779"
     },
     "user_tz": -330
    },
    "id": "NMbKotud1qIy"
   },
   "outputs": [],
   "source": [
    "np.save(project_dir+'\\spectrum_features.npy', spectrum_features)"
   ]
  },
  {
   "cell_type": "markdown",
   "id": "20f1433e",
   "metadata": {},
   "source": [
    "#### Extracting second set of features by calculating:\n",
    "* the Mean (Average), Min (Minimum) and Max (Maximum) from the P (Pulse), T (Tone), N (Noise) and E (Energy)"
   ]
  },
  {
   "cell_type": "code",
   "execution_count": 6,
   "id": "bt2O3OSgNoti",
   "metadata": {
    "executionInfo": {
     "elapsed": 104100,
     "status": "ok",
     "timestamp": 1644247705297,
     "user": {
      "displayName": "Chanaka Prabath",
      "photoUrl": "https://lh3.googleusercontent.com/a-/AOh14GgY5HW7P6KjGUyZKUMsO5Mog94LL5YjDTBpJrgS=s64",
      "userId": "17014943137112987779"
     },
     "user_tz": -330
    },
    "id": "bt2O3OSgNoti"
   },
   "outputs": [],
   "source": [
    "ptne_features = []\n",
    "for i in range(len(meta_data)):\n",
    "    name = meta_data['filename'][i].split('.')[0]\n",
    "    hf = h5py.File(project_dir+'/ptne/'+name+'.hdf5', 'r')\n",
    "    energy = np.array(hf.get('energy'))\n",
    "    noise = np.array(hf.get('noise'))\n",
    "    pulse = np.array(hf.get('pulse'))\n",
    "    tone=np.array(hf.get('tone'))\n",
    "    energy_features = [np.mean(energy), np.min(energy), np.max(energy)]\n",
    "    noise_features = [np.mean(noise), np.min(noise), np.max(noise)]\n",
    "    pulse_features = [np.mean(pulse), np.min(pulse), np.max(pulse)]\n",
    "    tone_features = [np.mean(tone), np.min(tone), np.max(tone)]\n",
    "    ptne_features.append(energy_features+noise_features+pulse_features+tone_features)\n",
    "ptne_features = np.array(ptne_features)"
   ]
  },
  {
   "cell_type": "markdown",
   "id": "6f44216a",
   "metadata": {},
   "source": [
    "#### Exporting the Mean, Min and Max arrays to an npy file "
   ]
  },
  {
   "cell_type": "code",
   "execution_count": 7,
   "id": "l34Yqq1b11H6",
   "metadata": {
    "executionInfo": {
     "elapsed": 427,
     "status": "ok",
     "timestamp": 1644248420718,
     "user": {
      "displayName": "Chanaka Prabath",
      "photoUrl": "https://lh3.googleusercontent.com/a-/AOh14GgY5HW7P6KjGUyZKUMsO5Mog94LL5YjDTBpJrgS=s64",
      "userId": "17014943137112987779"
     },
     "user_tz": -330
    },
    "id": "l34Yqq1b11H6"
   },
   "outputs": [],
   "source": [
    "np.save(project_dir+'\\ptne_features.npy', ptne_features)"
   ]
  }
 ],
 "metadata": {
  "accelerator": "GPU",
  "colab": {
   "collapsed_sections": [],
   "name": "clasification_final_preprocessing_method2.ipynb",
   "provenance": []
  },
  "kernelspec": {
   "display_name": "Python 3 (ipykernel)",
   "language": "python",
   "name": "python3"
  },
  "language_info": {
   "codemirror_mode": {
    "name": "ipython",
    "version": 3
   },
   "file_extension": ".py",
   "mimetype": "text/x-python",
   "name": "python",
   "nbconvert_exporter": "python",
   "pygments_lexer": "ipython3",
   "version": "3.9.12"
  }
 },
 "nbformat": 4,
 "nbformat_minor": 5
}
