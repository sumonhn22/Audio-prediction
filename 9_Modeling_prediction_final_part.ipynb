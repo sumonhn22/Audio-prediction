{
 "cells": [
  {
   "cell_type": "markdown",
   "id": "33fd518c",
   "metadata": {},
   "source": [
    "# Notebook 9: Prediction using OpenCV Modeling and CNN "
   ]
  },
  {
   "cell_type": "markdown",
   "id": "be149eb3",
   "metadata": {},
   "source": [
    "### Setting up working directory:"
   ]
  },
  {
   "cell_type": "code",
   "execution_count": 1,
   "id": "ssPEMK-3L5LU",
   "metadata": {
    "executionInfo": {
     "elapsed": 11,
     "status": "ok",
     "timestamp": 1644259786186,
     "user": {
      "displayName": "Chanaka Prabath",
      "photoUrl": "https://lh3.googleusercontent.com/a-/AOh14GgY5HW7P6KjGUyZKUMsO5Mog94LL5YjDTBpJrgS=s64",
      "userId": "17014943137112987779"
     },
     "user_tz": -330
    },
    "id": "ssPEMK-3L5LU"
   },
   "outputs": [],
   "source": [
    "AED_C_dir = 'ESC50/Dataset'\n",
    "# Working directory can be setup externally as long as both 'tract' and 'ptne' folders are present within the directory.\n",
    "# Working directory must also contain the Metadata CSV file."
   ]
  },
  {
   "cell_type": "markdown",
   "id": "e3f2a483",
   "metadata": {},
   "source": [
    "### Importing necessary libraries:"
   ]
  },
  {
   "cell_type": "code",
   "execution_count": 2,
   "id": "Cr_dkc68MQLx",
   "metadata": {
    "executionInfo": {
     "elapsed": 7276,
     "status": "ok",
     "timestamp": 1644259824723,
     "user": {
      "displayName": "Chanaka Prabath",
      "photoUrl": "https://lh3.googleusercontent.com/a-/AOh14GgY5HW7P6KjGUyZKUMsO5Mog94LL5YjDTBpJrgS=s64",
      "userId": "17014943137112987779"
     },
     "user_tz": -330
    },
    "id": "Cr_dkc68MQLx"
   },
   "outputs": [
    {
     "name": "stderr",
     "output_type": "stream",
     "text": [
      "2022-09-29 21:50:51.195605: W tensorflow/stream_executor/platform/default/dso_loader.cc:64] Could not load dynamic library 'libcudart.so.11.0'; dlerror: libcudart.so.11.0: cannot open shared object file: No such file or directory; LD_LIBRARY_PATH: /home/sumon/anaconda3/lib/python3.9/site-packages/cv2/../../lib64:\n",
      "2022-09-29 21:50:51.195632: I tensorflow/stream_executor/cuda/cudart_stub.cc:29] Ignore above cudart dlerror if you do not have a GPU set up on your machine.\n"
     ]
    }
   ],
   "source": [
    "import pandas as pd\n",
    "import h5py\n",
    "import os\n",
    "import numpy as np\n",
    "import librosa.display\n",
    "import matplotlib.pyplot as plt\n",
    "import librosa\n",
    "import cv2\n",
    "from tensorflow.keras.utils import to_categorical\n",
    "from keras.layers import Dense, Activation, Flatten, Dropout, BatchNormalization\n",
    "from keras.models import Sequential, Model\n",
    "from keras.layers import Conv2D, MaxPooling2D\n",
    "from tensorflow.keras import optimizers\n",
    "from sklearn.model_selection import train_test_split\n",
    "from sklearn.metrics import confusion_matrix, roc_auc_score, roc_curve, accuracy_score\n",
    "import seaborn as sn"
   ]
  },
  {
   "cell_type": "markdown",
   "id": "d77c3959",
   "metadata": {},
   "source": [
    "### Reading the Metadata file:"
   ]
  },
  {
   "cell_type": "code",
   "execution_count": 3,
   "id": "drIgqDsHhjaa",
   "metadata": {
    "executionInfo": {
     "elapsed": 1266,
     "status": "ok",
     "timestamp": 1644259825986,
     "user": {
      "displayName": "Chanaka Prabath",
      "photoUrl": "https://lh3.googleusercontent.com/a-/AOh14GgY5HW7P6KjGUyZKUMsO5Mog94LL5YjDTBpJrgS=s64",
      "userId": "17014943137112987779"
     },
     "user_tz": -330
    },
    "id": "drIgqDsHhjaa"
   },
   "outputs": [],
   "source": [
    "meta_data = pd.read_csv(AED_C_dir+'/metadata.csv')"
   ]
  },
  {
   "cell_type": "markdown",
   "id": "b27eb35e",
   "metadata": {},
   "source": [
    "### Preparing the data for Modeling "
   ]
  },
  {
   "cell_type": "code",
   "execution_count": 4,
   "id": "Ck2gtezPMfZW",
   "metadata": {
    "executionInfo": {
     "elapsed": 504777,
     "status": "ok",
     "timestamp": 1644260330747,
     "user": {
      "displayName": "Chanaka Prabath",
      "photoUrl": "https://lh3.googleusercontent.com/a-/AOh14GgY5HW7P6KjGUyZKUMsO5Mog94LL5YjDTBpJrgS=s64",
      "userId": "17014943137112987779"
     },
     "user_tz": -330
    },
    "id": "Ck2gtezPMfZW"
   },
   "outputs": [],
   "source": [
    "save_loc = 'ESC50/Dataset/Dataset_image/'\n",
    "images = []\n",
    "labels = []\n",
    "unique_labels = meta_data['category'].unique()\n",
    "for i in range(len(meta_data)):\n",
    "        name=meta_data['filename'][i].split('.')[0]\n",
    "        a = cv2.resize(cv2.imread(save_loc+'E_'+name+'.jpg'),(64, 64))\n",
    "        b = cv2.resize(cv2.imread(save_loc+'f_tract_'+name+'.jpg'),(64, 64))\n",
    "        c = cv2.resize(cv2.imread(save_loc+'s_tract_'+name+'.jpg'),(64, 64))\n",
    "        images.append(np.vstack((a.T, b.T, c.T)).T)\n",
    "        labels.append(np.where(unique_labels == meta_data['category'][i])[0][0])\n",
    "images = np.array(images)\n",
    "images = images.astype('float32') / 255\n",
    "labels = to_categorical(np.array(labels))"
   ]
  },
  {
   "cell_type": "markdown",
   "id": "9a982fe7",
   "metadata": {},
   "source": [
    "#### Dividing data into Training and Test sets"
   ]
  },
  {
   "cell_type": "code",
   "execution_count": 5,
   "id": "kQvFTHXuZa82",
   "metadata": {
    "executionInfo": {
     "elapsed": 18,
     "status": "ok",
     "timestamp": 1644260330748,
     "user": {
      "displayName": "Chanaka Prabath",
      "photoUrl": "https://lh3.googleusercontent.com/a-/AOh14GgY5HW7P6KjGUyZKUMsO5Mog94LL5YjDTBpJrgS=s64",
      "userId": "17014943137112987779"
     },
     "user_tz": -330
    },
    "id": "kQvFTHXuZa82"
   },
   "outputs": [],
   "source": [
    "train_images, val_images, train_labels, val_labels = train_test_split( \n",
    "                                                       images, labels, train_size = 0.85, \n",
    "                                                       test_size = 0.15, random_state = 42)"
   ]
  },
  {
   "cell_type": "markdown",
   "id": "789b86ec",
   "metadata": {},
   "source": [
    "#### Confirming Traing and Test sets"
   ]
  },
  {
   "cell_type": "code",
   "execution_count": 6,
   "id": "pIafOGNDZl0E",
   "metadata": {
    "colab": {
     "base_uri": "https://localhost:8080/"
    },
    "executionInfo": {
     "elapsed": 13,
     "status": "ok",
     "timestamp": 1644260330749,
     "user": {
      "displayName": "Chanaka Prabath",
      "photoUrl": "https://lh3.googleusercontent.com/a-/AOh14GgY5HW7P6KjGUyZKUMsO5Mog94LL5YjDTBpJrgS=s64",
      "userId": "17014943137112987779"
     },
     "user_tz": -330
    },
    "id": "pIafOGNDZl0E",
    "outputId": "cf589acd-4e98-40bb-906b-da7eeebbc9e9"
   },
   "outputs": [
    {
     "data": {
      "text/plain": [
       "(306, 54)"
      ]
     },
     "execution_count": 6,
     "metadata": {},
     "output_type": "execute_result"
    }
   ],
   "source": [
    "len(train_labels), len(val_labels)"
   ]
  },
  {
   "cell_type": "markdown",
   "id": "CVAu7I6nscce",
   "metadata": {
    "id": "CVAu7I6nscce"
   },
   "source": [
    "### Modeling"
   ]
  },
  {
   "cell_type": "code",
   "execution_count": 7,
   "id": "LgMVkr-GMfew",
   "metadata": {
    "colab": {
     "base_uri": "https://localhost:8080/"
    },
    "executionInfo": {
     "elapsed": 2750,
     "status": "ok",
     "timestamp": 1644260333492,
     "user": {
      "displayName": "Chanaka Prabath",
      "photoUrl": "https://lh3.googleusercontent.com/a-/AOh14GgY5HW7P6KjGUyZKUMsO5Mog94LL5YjDTBpJrgS=s64",
      "userId": "17014943137112987779"
     },
     "user_tz": -330
    },
    "id": "LgMVkr-GMfew",
    "outputId": "0cda7344-5fba-4821-bc7f-30441b79d7cb"
   },
   "outputs": [
    {
     "name": "stdout",
     "output_type": "stream",
     "text": [
      "Model: \"sequential\"\n",
      "_________________________________________________________________\n",
      " Layer (type)                Output Shape              Param #   \n",
      "=================================================================\n",
      " conv2d (Conv2D)             (None, 64, 64, 32)        2624      \n",
      "                                                                 \n",
      " activation (Activation)     (None, 64, 64, 32)        0         \n",
      "                                                                 \n",
      " conv2d_1 (Conv2D)           (None, 62, 62, 64)        18496     \n",
      "                                                                 \n",
      " activation_1 (Activation)   (None, 62, 62, 64)        0         \n",
      "                                                                 \n",
      " max_pooling2d (MaxPooling2D  (None, 31, 31, 64)       0         \n",
      " )                                                               \n",
      "                                                                 \n",
      " dropout (Dropout)           (None, 31, 31, 64)        0         \n",
      "                                                                 \n",
      " conv2d_2 (Conv2D)           (None, 31, 31, 64)        36928     \n",
      "                                                                 \n",
      " activation_2 (Activation)   (None, 31, 31, 64)        0         \n",
      "                                                                 \n",
      " conv2d_3 (Conv2D)           (None, 29, 29, 64)        36928     \n",
      "                                                                 \n",
      " activation_3 (Activation)   (None, 29, 29, 64)        0         \n",
      "                                                                 \n",
      " max_pooling2d_1 (MaxPooling  (None, 14, 14, 64)       0         \n",
      " 2D)                                                             \n",
      "                                                                 \n",
      " dropout_1 (Dropout)         (None, 14, 14, 64)        0         \n",
      "                                                                 \n",
      " conv2d_4 (Conv2D)           (None, 14, 14, 128)       73856     \n",
      "                                                                 \n",
      " activation_4 (Activation)   (None, 14, 14, 128)       0         \n",
      "                                                                 \n",
      " conv2d_5 (Conv2D)           (None, 12, 12, 128)       147584    \n",
      "                                                                 \n",
      " activation_5 (Activation)   (None, 12, 12, 128)       0         \n",
      "                                                                 \n",
      " max_pooling2d_2 (MaxPooling  (None, 6, 6, 128)        0         \n",
      " 2D)                                                             \n",
      "                                                                 \n",
      " dropout_2 (Dropout)         (None, 6, 6, 128)         0         \n",
      "                                                                 \n",
      " flatten (Flatten)           (None, 4608)              0         \n",
      "                                                                 \n",
      " dense (Dense)               (None, 512)               2359808   \n",
      "                                                                 \n",
      " activation_6 (Activation)   (None, 512)               0         \n",
      "                                                                 \n",
      " dropout_3 (Dropout)         (None, 512)               0         \n",
      "                                                                 \n",
      " dense_1 (Dense)             (None, 9)                 4617      \n",
      "                                                                 \n",
      "=================================================================\n",
      "Total params: 2,680,841\n",
      "Trainable params: 2,680,841\n",
      "Non-trainable params: 0\n",
      "_________________________________________________________________\n"
     ]
    },
    {
     "name": "stderr",
     "output_type": "stream",
     "text": [
      "2022-09-29 21:50:52.667344: E tensorflow/stream_executor/cuda/cuda_driver.cc:271] failed call to cuInit: CUDA_ERROR_NO_DEVICE: no CUDA-capable device is detected\n",
      "2022-09-29 21:50:52.667379: I tensorflow/stream_executor/cuda/cuda_diagnostics.cc:156] kernel driver does not appear to be running on this host (sumonpc): /proc/driver/nvidia/version does not exist\n",
      "2022-09-29 21:50:52.667713: I tensorflow/core/platform/cpu_feature_guard.cc:193] This TensorFlow binary is optimized with oneAPI Deep Neural Network Library (oneDNN) to use the following CPU instructions in performance-critical operations:  AVX2 FMA\n",
      "To enable them in other operations, rebuild TensorFlow with the appropriate compiler flags.\n",
      "/home/sumon/anaconda3/lib/python3.9/site-packages/keras/optimizers/optimizer_v2/rmsprop.py:135: UserWarning: The `lr` argument is deprecated, use `learning_rate` instead.\n",
      "  super(RMSprop, self).__init__(name, **kwargs)\n"
     ]
    }
   ],
   "source": [
    "model = Sequential()\n",
    "model.add(Conv2D(32, (3, 3), padding ='same',\n",
    "                 input_shape = (64, 64, 9)))\n",
    "model.add(Activation('relu'))\n",
    "model.add(Conv2D(64, (3, 3)))\n",
    "model.add(Activation('relu'))\n",
    "model.add(MaxPooling2D(pool_size = (2, 2)))\n",
    "model.add(Dropout(0.25))\n",
    "model.add(Conv2D(64, (3, 3), padding='same'))\n",
    "model.add(Activation('relu'))\n",
    "model.add(Conv2D(64, (3, 3)))\n",
    "model.add(Activation('relu'))\n",
    "model.add(MaxPooling2D(pool_size = (2, 2)))\n",
    "model.add(Dropout(0.5))\n",
    "model.add(Conv2D(128, (3, 3), padding ='same'))\n",
    "model.add(Activation('relu'))\n",
    "model.add(Conv2D(128, (3, 3)))\n",
    "model.add(Activation('relu'))\n",
    "model.add(MaxPooling2D(pool_size = (2, 2)))\n",
    "model.add(Dropout(0.5))\n",
    "model.add(Flatten())\n",
    "model.add(Dense(512))\n",
    "model.add(Activation('relu'))\n",
    "model.add(Dropout(0.5))\n",
    "model.add(Dense(9, activation = 'softmax'))\n",
    "model.compile(optimizers.RMSprop(lr= 0.0005,decay=1e-6),loss = \"categorical_crossentropy\", metrics = [\"accuracy\"])\n",
    "model.summary()"
   ]
  },
  {
   "cell_type": "markdown",
   "id": "5f3a52a9",
   "metadata": {},
   "source": [
    "### Model Fitting"
   ]
  },
  {
   "cell_type": "code",
   "execution_count": 8,
   "id": "pjO3-LJUQtnQ",
   "metadata": {
    "colab": {
     "base_uri": "https://localhost:8080/"
    },
    "executionInfo": {
     "elapsed": 43199,
     "status": "ok",
     "timestamp": 1644260376689,
     "user": {
      "displayName": "Chanaka Prabath",
      "photoUrl": "https://lh3.googleusercontent.com/a-/AOh14GgY5HW7P6KjGUyZKUMsO5Mog94LL5YjDTBpJrgS=s64",
      "userId": "17014943137112987779"
     },
     "user_tz": -330
    },
    "id": "pjO3-LJUQtnQ",
    "outputId": "12a1fa17-7e2b-45dc-c6ce-1173d003a135",
    "scrolled": false
   },
   "outputs": [
    {
     "name": "stdout",
     "output_type": "stream",
     "text": [
      "Epoch 1/80\n",
      "5/5 [==============================] - 2s 326ms/step - loss: 2.3701 - accuracy: 0.1340\n",
      "Epoch 2/80\n",
      "5/5 [==============================] - 2s 332ms/step - loss: 2.1371 - accuracy: 0.1601\n",
      "Epoch 3/80\n",
      "5/5 [==============================] - 2s 324ms/step - loss: 1.9905 - accuracy: 0.2124\n",
      "Epoch 4/80\n",
      "5/5 [==============================] - 2s 321ms/step - loss: 1.9498 - accuracy: 0.2059\n",
      "Epoch 5/80\n",
      "5/5 [==============================] - 2s 317ms/step - loss: 1.9491 - accuracy: 0.2680\n",
      "Epoch 6/80\n",
      "5/5 [==============================] - 2s 325ms/step - loss: 1.8484 - accuracy: 0.3105\n",
      "Epoch 7/80\n",
      "5/5 [==============================] - 2s 328ms/step - loss: 1.6115 - accuracy: 0.3725\n",
      "Epoch 8/80\n",
      "5/5 [==============================] - 2s 324ms/step - loss: 1.7544 - accuracy: 0.3399\n",
      "Epoch 9/80\n",
      "5/5 [==============================] - 2s 325ms/step - loss: 1.7151 - accuracy: 0.3529\n",
      "Epoch 10/80\n",
      "5/5 [==============================] - 2s 329ms/step - loss: 1.5251 - accuracy: 0.4118\n",
      "Epoch 11/80\n",
      "5/5 [==============================] - 2s 317ms/step - loss: 1.5960 - accuracy: 0.4216\n",
      "Epoch 12/80\n",
      "5/5 [==============================] - 2s 330ms/step - loss: 1.3645 - accuracy: 0.5163\n",
      "Epoch 13/80\n",
      "5/5 [==============================] - 2s 334ms/step - loss: 1.5686 - accuracy: 0.4542\n",
      "Epoch 14/80\n",
      "5/5 [==============================] - 2s 329ms/step - loss: 1.3394 - accuracy: 0.4967\n",
      "Epoch 15/80\n",
      "5/5 [==============================] - 2s 327ms/step - loss: 1.5030 - accuracy: 0.4085\n",
      "Epoch 16/80\n",
      "5/5 [==============================] - 2s 334ms/step - loss: 1.2117 - accuracy: 0.5556\n",
      "Epoch 17/80\n",
      "5/5 [==============================] - 2s 328ms/step - loss: 1.3701 - accuracy: 0.4804\n",
      "Epoch 18/80\n",
      "5/5 [==============================] - 2s 324ms/step - loss: 1.1995 - accuracy: 0.5686\n",
      "Epoch 19/80\n",
      "5/5 [==============================] - 2s 327ms/step - loss: 1.1895 - accuracy: 0.5784\n",
      "Epoch 20/80\n",
      "5/5 [==============================] - 2s 326ms/step - loss: 1.2525 - accuracy: 0.5980\n",
      "Epoch 21/80\n",
      "5/5 [==============================] - 2s 320ms/step - loss: 1.1185 - accuracy: 0.6046\n",
      "Epoch 22/80\n",
      "5/5 [==============================] - 2s 324ms/step - loss: 0.9981 - accuracy: 0.6503\n",
      "Epoch 23/80\n",
      "5/5 [==============================] - 2s 328ms/step - loss: 1.0532 - accuracy: 0.6471\n",
      "Epoch 24/80\n",
      "5/5 [==============================] - 2s 324ms/step - loss: 1.1081 - accuracy: 0.6209\n",
      "Epoch 25/80\n",
      "5/5 [==============================] - 2s 326ms/step - loss: 0.8161 - accuracy: 0.7222\n",
      "Epoch 26/80\n",
      "5/5 [==============================] - 2s 333ms/step - loss: 0.9979 - accuracy: 0.6144\n",
      "Epoch 27/80\n",
      "5/5 [==============================] - 2s 324ms/step - loss: 0.9133 - accuracy: 0.7026\n",
      "Epoch 28/80\n",
      "5/5 [==============================] - 2s 315ms/step - loss: 0.8188 - accuracy: 0.7092\n",
      "Epoch 29/80\n",
      "5/5 [==============================] - 2s 322ms/step - loss: 0.7112 - accuracy: 0.7549\n",
      "Epoch 30/80\n",
      "5/5 [==============================] - 2s 319ms/step - loss: 0.8564 - accuracy: 0.7059\n",
      "Epoch 31/80\n",
      "5/5 [==============================] - 2s 320ms/step - loss: 0.6933 - accuracy: 0.7778\n",
      "Epoch 32/80\n",
      "5/5 [==============================] - 2s 322ms/step - loss: 0.7299 - accuracy: 0.7320\n",
      "Epoch 33/80\n",
      "5/5 [==============================] - 2s 332ms/step - loss: 0.5295 - accuracy: 0.7908\n",
      "Epoch 34/80\n",
      "5/5 [==============================] - 2s 320ms/step - loss: 0.8141 - accuracy: 0.7451\n",
      "Epoch 35/80\n",
      "5/5 [==============================] - 2s 332ms/step - loss: 0.5731 - accuracy: 0.8170\n",
      "Epoch 36/80\n",
      "5/5 [==============================] - 2s 337ms/step - loss: 0.5851 - accuracy: 0.8039\n",
      "Epoch 37/80\n",
      "5/5 [==============================] - 2s 325ms/step - loss: 0.5142 - accuracy: 0.8235\n",
      "Epoch 38/80\n",
      "5/5 [==============================] - 2s 332ms/step - loss: 0.5928 - accuracy: 0.8007\n",
      "Epoch 39/80\n",
      "5/5 [==============================] - 2s 325ms/step - loss: 0.8260 - accuracy: 0.7288\n",
      "Epoch 40/80\n",
      "5/5 [==============================] - 2s 319ms/step - loss: 0.3949 - accuracy: 0.8791\n",
      "Epoch 41/80\n",
      "5/5 [==============================] - 2s 317ms/step - loss: 0.4060 - accuracy: 0.8595\n",
      "Epoch 42/80\n",
      "5/5 [==============================] - 2s 317ms/step - loss: 0.5665 - accuracy: 0.7974\n",
      "Epoch 43/80\n",
      "5/5 [==============================] - 2s 316ms/step - loss: 0.4153 - accuracy: 0.8660\n",
      "Epoch 44/80\n",
      "5/5 [==============================] - 2s 316ms/step - loss: 0.3617 - accuracy: 0.8758\n",
      "Epoch 45/80\n",
      "5/5 [==============================] - 2s 322ms/step - loss: 0.6479 - accuracy: 0.7810\n",
      "Epoch 46/80\n",
      "5/5 [==============================] - 2s 319ms/step - loss: 0.3185 - accuracy: 0.9052\n",
      "Epoch 47/80\n",
      "5/5 [==============================] - 2s 318ms/step - loss: 0.3817 - accuracy: 0.8693\n",
      "Epoch 48/80\n",
      "5/5 [==============================] - 2s 315ms/step - loss: 0.3854 - accuracy: 0.8824\n",
      "Epoch 49/80\n",
      "5/5 [==============================] - 2s 321ms/step - loss: 0.4668 - accuracy: 0.8562\n",
      "Epoch 50/80\n",
      "5/5 [==============================] - 2s 328ms/step - loss: 0.3099 - accuracy: 0.8856\n",
      "Epoch 51/80\n",
      "5/5 [==============================] - 2s 380ms/step - loss: 0.3596 - accuracy: 0.8758\n",
      "Epoch 52/80\n",
      "5/5 [==============================] - 2s 354ms/step - loss: 0.2660 - accuracy: 0.9314\n",
      "Epoch 53/80\n",
      "5/5 [==============================] - 2s 348ms/step - loss: 0.2942 - accuracy: 0.9150\n",
      "Epoch 54/80\n",
      "5/5 [==============================] - 2s 332ms/step - loss: 0.2386 - accuracy: 0.9118\n",
      "Epoch 55/80\n",
      "5/5 [==============================] - 2s 354ms/step - loss: 0.4220 - accuracy: 0.8464\n",
      "Epoch 56/80\n",
      "5/5 [==============================] - 2s 352ms/step - loss: 0.2207 - accuracy: 0.9118\n",
      "Epoch 57/80\n",
      "5/5 [==============================] - 2s 331ms/step - loss: 0.2525 - accuracy: 0.9150\n",
      "Epoch 58/80\n",
      "5/5 [==============================] - 2s 325ms/step - loss: 0.1926 - accuracy: 0.9216\n",
      "Epoch 59/80\n",
      "5/5 [==============================] - 2s 325ms/step - loss: 0.6381 - accuracy: 0.8268\n",
      "Epoch 60/80\n",
      "5/5 [==============================] - 2s 323ms/step - loss: 0.1969 - accuracy: 0.9216\n",
      "Epoch 61/80\n",
      "5/5 [==============================] - 2s 320ms/step - loss: 0.1846 - accuracy: 0.9379\n",
      "Epoch 62/80\n",
      "5/5 [==============================] - 2s 331ms/step - loss: 0.1541 - accuracy: 0.9346\n",
      "Epoch 63/80\n",
      "5/5 [==============================] - 2s 330ms/step - loss: 0.2180 - accuracy: 0.9150\n",
      "Epoch 64/80\n",
      "5/5 [==============================] - 2s 330ms/step - loss: 0.3586 - accuracy: 0.9052\n",
      "Epoch 65/80\n",
      "5/5 [==============================] - 2s 338ms/step - loss: 0.1322 - accuracy: 0.9608\n",
      "Epoch 66/80\n",
      "5/5 [==============================] - 2s 332ms/step - loss: 0.3356 - accuracy: 0.8987\n",
      "Epoch 67/80\n",
      "5/5 [==============================] - 2s 348ms/step - loss: 0.1809 - accuracy: 0.9575\n",
      "Epoch 68/80\n",
      "5/5 [==============================] - 2s 342ms/step - loss: 0.1275 - accuracy: 0.9542\n",
      "Epoch 69/80\n",
      "5/5 [==============================] - 2s 377ms/step - loss: 0.1703 - accuracy: 0.9477\n",
      "Epoch 70/80\n",
      "5/5 [==============================] - 2s 351ms/step - loss: 0.3523 - accuracy: 0.9052\n",
      "Epoch 71/80\n",
      "5/5 [==============================] - 2s 337ms/step - loss: 0.2296 - accuracy: 0.9150\n",
      "Epoch 72/80\n",
      "5/5 [==============================] - 2s 349ms/step - loss: 0.1258 - accuracy: 0.9542\n",
      "Epoch 73/80\n",
      "5/5 [==============================] - 2s 350ms/step - loss: 0.1157 - accuracy: 0.9575\n",
      "Epoch 74/80\n",
      "5/5 [==============================] - 2s 357ms/step - loss: 0.0750 - accuracy: 0.9673\n",
      "Epoch 75/80\n",
      "5/5 [==============================] - 2s 348ms/step - loss: 0.2260 - accuracy: 0.9118\n",
      "Epoch 76/80\n",
      "5/5 [==============================] - 2s 358ms/step - loss: 0.1361 - accuracy: 0.9444\n",
      "Epoch 77/80\n",
      "5/5 [==============================] - 2s 349ms/step - loss: 0.1233 - accuracy: 0.9575\n",
      "Epoch 78/80\n",
      "5/5 [==============================] - 2s 341ms/step - loss: 0.1184 - accuracy: 0.9575\n",
      "Epoch 79/80\n",
      "5/5 [==============================] - 2s 349ms/step - loss: 0.6655 - accuracy: 0.8301\n",
      "Epoch 80/80\n",
      "5/5 [==============================] - 2s 355ms/step - loss: 0.0884 - accuracy: 0.9804\n"
     ]
    }
   ],
   "source": [
    "history = model.fit(train_images, train_labels, epochs = 80, batch_size = 64)"
   ]
  },
  {
   "cell_type": "markdown",
   "id": "b3ef8ba4",
   "metadata": {},
   "source": [
    "#### Model Evaluation Plot"
   ]
  },
  {
   "cell_type": "code",
   "execution_count": 9,
   "id": "OPjaalCcZ4D0",
   "metadata": {
    "colab": {
     "base_uri": "https://localhost:8080/",
     "height": 295
    },
    "executionInfo": {
     "elapsed": 16,
     "status": "ok",
     "timestamp": 1644260376691,
     "user": {
      "displayName": "Chanaka Prabath",
      "photoUrl": "https://lh3.googleusercontent.com/a-/AOh14GgY5HW7P6KjGUyZKUMsO5Mog94LL5YjDTBpJrgS=s64",
      "userId": "17014943137112987779"
     },
     "user_tz": -330
    },
    "id": "OPjaalCcZ4D0",
    "outputId": "8070e0e5-c573-4f68-e835-a6f25e0d9894"
   },
   "outputs": [
    {
     "data": {
      "image/png": "[encoded data removed]",
      "text/plain": [
       "<Figure size 432x288 with 1 Axes>"
      ]
     },
     "metadata": {
      "needs_background": "light"
     },
     "output_type": "display_data"
    }
   ],
   "source": [
    "plt.plot(history.history['accuracy'])\n",
    "plt.plot(history.history['loss'])\n",
    "plt.title('Model Evaluation')\n",
    "plt.ylabel('Accuracy')\n",
    "plt.xlabel('Epoch')\n",
    "plt.legend(['Accuracy', 'Loss'], loc = 'upper left')\n",
    "plt.show()"
   ]
  },
  {
   "cell_type": "markdown",
   "id": "454ef42a",
   "metadata": {},
   "source": [
    "#### Defining functions for Prediction:"
   ]
  },
  {
   "cell_type": "code",
   "execution_count": 10,
   "id": "L1PI3v_KfeJt",
   "metadata": {
    "executionInfo": {
     "elapsed": 2,
     "status": "ok",
     "timestamp": 1644260491594,
     "user": {
      "displayName": "Chanaka Prabath",
      "photoUrl": "https://lh3.googleusercontent.com/a-/AOh14GgY5HW7P6KjGUyZKUMsO5Mog94LL5YjDTBpJrgS=s64",
      "userId": "17014943137112987779"
     },
     "user_tz": -330
    },
    "id": "L1PI3v_KfeJt"
   },
   "outputs": [],
   "source": [
    "def save_spectrogram(save_loc, name, Spectrogram):\n",
    "    plt.interactive(False)\n",
    "    fig = plt.figure(figsize=[0.72, 0.72])\n",
    "    ax = fig.add_subplot(111)\n",
    "    ax.axes.get_xaxis().set_visible(False)\n",
    "    ax.axes.get_yaxis().set_visible(False)\n",
    "    ax.set_frame_on(False)\n",
    "    S = Spectrogram #spectrogram\n",
    "    librosa.display.specshow(librosa.power_to_db(S, ref=np.max)) # Displaying spectrogram as an image\n",
    "    filename  = save_loc +name+ '.jpg'\n",
    "    plt.savefig(filename, dpi = 400, bbox_inches='tight',pad_inches=0) # Saving spectrogram as an image\n",
    "    plt.close()    \n",
    "    fig.clf()\n",
    "    plt.close(fig)\n",
    "    plt.close('all')\n",
    "    del name, fig, ax, S"
   ]
  },
  {
   "cell_type": "markdown",
   "id": "bd34b629",
   "metadata": {},
   "source": [
    "#### Save Spectrograms as images in Dataset_image folder:"
   ]
  },
  {
   "cell_type": "code",
   "execution_count": 11,
   "id": "1lCWg6PkfeQf",
   "metadata": {
    "executionInfo": {
     "elapsed": 497,
     "status": "ok",
     "timestamp": 1644261005495,
     "user": {
      "displayName": "Chanaka Prabath",
      "photoUrl": "https://lh3.googleusercontent.com/a-/AOh14GgY5HW7P6KjGUyZKUMsO5Mog94LL5YjDTBpJrgS=s64",
      "userId": "17014943137112987779"
     },
     "user_tz": -330
    },
    "id": "1lCWg6PkfeQf"
   },
   "outputs": [],
   "source": [
    "def predict(save_loc, name):\n",
    "  images = []\n",
    "  hf = h5py.File(AED_C_dir+'/tracts/'+name+'.hdf5', 'r')\n",
    "  S_E = np.array(hf.get('E'))\n",
    "  save_spectrogram(save_loc, 'E', S_E)\n",
    "  S_f_tract= np.array(hf.get('f_tract'))\n",
    "  save_spectrogram(save_loc, 'f_tract', S_f_tract)\n",
    "  S_s_tract= np.array(hf.get('s_tract'))\n",
    "  save_spectrogram(save_loc, 's_tract', S_s_tract)\n",
    "  a = cv2.resize(cv2.imread(save_loc+'E.jpg'),(64, 64))\n",
    "  b = cv2.resize(cv2.imread(save_loc+'f_tract.jpg'),(64, 64))\n",
    "  c = cv2.resize(cv2.imread(save_loc+'s_tract.jpg'),(64, 64))\n",
    "  images.append(np.vstack((a.T, b.T, c.T)).T)\n",
    "  pred = model.predict(np.array(images))\n",
    "  return(unique_labels[np.argmax(pred, axis = 1)])"
   ]
  },
  {
   "cell_type": "markdown",
   "id": "PzjkliYssuXl",
   "metadata": {
    "id": "PzjkliYssuXl"
   },
   "source": [
    "### Prediction"
   ]
  },
  {
   "cell_type": "code",
   "execution_count": 14,
   "id": "9te0RuTGfeS2",
   "metadata": {
    "colab": {
     "base_uri": "https://localhost:8080/"
    },
    "executionInfo": {
     "elapsed": 3897,
     "status": "ok",
     "timestamp": 1644261016393,
     "user": {
      "displayName": "Chanaka Prabath",
      "photoUrl": "https://lh3.googleusercontent.com/a-/AOh14GgY5HW7P6KjGUyZKUMsO5Mog94LL5YjDTBpJrgS=s64",
      "userId": "17014943137112987779"
     },
     "user_tz": -330
    },
    "id": "9te0RuTGfeS2",
    "outputId": "fb51dac3-7fcf-401a-faee-d3ad86b3150e"
   },
   "outputs": [
    {
     "name": "stdout",
     "output_type": "stream",
     "text": [
      "Enter file number (Please enter a value between 0 to 359): 15\n",
      "1/1 [==============================] - 0s 14ms/step\n",
      "The True Category is: snoring\n",
      "The Predicted Category is: ['snoring']\n"
     ]
    }
   ],
   "source": [
    "save_loc = 'ESC50/Dataset/Dataset_image/'\n",
    "sl = int(input(\"Enter file number (Please enter a value between 0 to 359): \"))\n",
    "name = meta_data['filename'][sl].split('.')[0]\n",
    "predicted_label = predict(save_loc, name)\n",
    "print('The True Category is:', meta_data.category[sl])\n",
    "print('The Predicted Category is:', predicted_label)"
   ]
  },
  {
   "cell_type": "markdown",
   "id": "337254d0",
   "metadata": {},
   "source": [
    "**Note:** For the Prediction, the working directory must contain the *tract* folder containing all the HDF5 files because the Prediction Algorithm will need the perticular HDF5 file that is being tested and generate concatenated arrays from the exported Spectrum Images of the *tract data* and then test it against the trained model."
   ]
  },
  {
   "cell_type": "code",
   "execution_count": null,
   "id": "de55ee56",
   "metadata": {},
   "outputs": [],
   "source": []
  }
 ],
 "metadata": {
  "accelerator": "GPU",
  "colab": {
   "collapsed_sections": [],
   "name": "audio clasification_final_modeling_method1.ipynb",
   "provenance": []
  },
  "kernelspec": {
   "display_name": "Python 3 (ipykernel)",
   "language": "python",
   "name": "python3"
  },
  "language_info": {
   "codemirror_mode": {
    "name": "ipython",
    "version": 3
   },
   "file_extension": ".py",
   "mimetype": "text/x-python",
   "name": "python",
   "nbconvert_exporter": "python",
   "pygments_lexer": "ipython3",
   "version": "3.9.12"
  }
 },
 "nbformat": 4,
 "nbformat_minor": 5
}
