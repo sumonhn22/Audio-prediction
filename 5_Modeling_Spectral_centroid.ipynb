{
 "cells": [
  {
   "cell_type": "markdown",
   "id": "5PfLyAPVM-O5",
   "metadata": {
    "id": "5PfLyAPVM-O5"
   },
   "source": [
    "# Notebook 5: Classification using Spectral Centroid Method\n",
    "\n",
    "\n",
    "\n",
    "* Different Machine Learning Algorithms are trained using the data obtained from the Spectrum Centroid Features and PTNE Features.\n",
    "\n",
    "<!-- #### Training Process\n",
    "* Hyperparameter Tuning and selecting best parameters.\n",
    "* Training with the best model.\n",
    "* Calculating the Training and Testing Accuracies to detemine if there is \"Overfitting\".\n",
    "\n",
    "#### Classification\n",
    "* Classification using Extra Tree Classifier, Random Forest Classifier, Logistic Regression Classifier and XGBRegressor\n",
    "\n",
    "#### Evaluation & Prediction\n",
    "* Training and Testing Accuracy comparison between different classifier algorithms.\n",
    "* Predicting Classes (Validation) using random Audio Files to see if the correct Class is predicted. -->"
   ]
  },
  {
   "cell_type": "markdown",
   "id": "c831b00c",
   "metadata": {},
   "source": [
    "### Setting up working directory:"
   ]
  },
  {
   "cell_type": "code",
   "execution_count": 1,
   "id": "ssPEMK-3L5LU",
   "metadata": {
    "executionInfo": {
     "elapsed": 396,
     "status": "ok",
     "timestamp": 1644257952194,
     "user": {
      "displayName": "Chanaka Prabath",
      "photoUrl": "https://lh3.googleusercontent.com/a-/AOh14GgY5HW7P6KjGUyZKUMsO5Mog94LL5YjDTBpJrgS=s64",
      "userId": "17014943137112987779"
     },
     "user_tz": -330
    },
    "id": "ssPEMK-3L5LU"
   },
   "outputs": [],
   "source": [
    "AED_C_dir = 'ESC50/Dataset'\n",
    "# Working directory can be setup externally as long as both 'tract' and 'ptne' folders are present within the directory.\n",
    "# The working directory shoud also contain the Metadata CSV file."
   ]
  },
  {
   "cell_type": "markdown",
   "id": "e27de3cc",
   "metadata": {},
   "source": [
    "### Importing necessary libraries:"
   ]
  },
  {
   "cell_type": "code",
   "execution_count": 2,
   "id": "ui_9dVdVU32s",
   "metadata": {
    "executionInfo": {
     "elapsed": 526,
     "status": "ok",
     "timestamp": 1644258146427,
     "user": {
      "displayName": "Chanaka Prabath",
      "photoUrl": "https://lh3.googleusercontent.com/a-/AOh14GgY5HW7P6KjGUyZKUMsO5Mog94LL5YjDTBpJrgS=s64",
      "userId": "17014943137112987779"
     },
     "user_tz": -330
    },
    "id": "ui_9dVdVU32s"
   },
   "outputs": [],
   "source": [
    "import pandas as pd\n",
    "import numpy as np\n",
    "import matplotlib.pyplot as plt\n",
    "import seaborn as sn\n",
    "from sklearn.ensemble import ExtraTreesClassifier\n",
    "from sklearn.ensemble import RandomForestClassifier\n",
    "from sklearn.model_selection import RandomizedSearchCV\n",
    "from sklearn.multiclass import  OneVsRestClassifier\n",
    "from sklearn.svm import LinearSVC\n",
    "from sklearn.linear_model import LogisticRegression\n",
    "from sklearn.model_selection import train_test_split\n",
    "from xgboost import XGBClassifier\n",
    "from sklearn.metrics import confusion_matrix,roc_auc_score,roc_curve\n",
    "import pickle\n",
    "from sklearn.preprocessing import OneHotEncoder\n",
    "import librosa\n",
    "import h5py"
   ]
  },
  {
   "cell_type": "markdown",
   "id": "217f58fb",
   "metadata": {},
   "source": [
    "### Loading features from previously created npy files (Spectrum Features & PTNE Features) and reading the Metadata file:"
   ]
  },
  {
   "cell_type": "code",
   "execution_count": 3,
   "id": "SZIRyp4Y3xIa",
   "metadata": {
    "executionInfo": {
     "elapsed": 399,
     "status": "ok",
     "timestamp": 1644258584207,
     "user": {
      "displayName": "Chanaka Prabath",
      "photoUrl": "https://lh3.googleusercontent.com/a-/AOh14GgY5HW7P6KjGUyZKUMsO5Mog94LL5YjDTBpJrgS=s64",
      "userId": "17014943137112987779"
     },
     "user_tz": -330
    },
    "id": "SZIRyp4Y3xIa"
   },
   "outputs": [],
   "source": [
    "ptne_features = np.load(AED_C_dir+'\\ptne_features.npy')\n",
    "spectrum_features = np.load(AED_C_dir+'\\spectrum_features.npy')\n",
    "meta_data = pd.read_csv(AED_C_dir+'/metadata.csv')"
   ]
  },
  {
   "cell_type": "markdown",
   "id": "b46bc56b",
   "metadata": {},
   "source": [
    "### Preparing the data for training and testing:"
   ]
  },
  {
   "cell_type": "code",
   "execution_count": 4,
   "id": "f_ma3ZoGSPuG",
   "metadata": {
    "executionInfo": {
     "elapsed": 1,
     "status": "ok",
     "timestamp": 1644258587587,
     "user": {
      "displayName": "Chanaka Prabath",
      "photoUrl": "https://lh3.googleusercontent.com/a-/AOh14GgY5HW7P6KjGUyZKUMsO5Mog94LL5YjDTBpJrgS=s64",
      "userId": "17014943137112987779"
     },
     "user_tz": -330
    },
    "id": "f_ma3ZoGSPuG"
   },
   "outputs": [],
   "source": [
    "X = np.hstack((spectrum_features[:,-9:],ptne_features))\n",
    "classes = meta_data['category'].unique()\n",
    "Y = np.array([np.where(classes == meta_data['category'][i])[0][0] for i in range(len(meta_data))])"
   ]
  },
  {
   "cell_type": "markdown",
   "id": "2fe68242",
   "metadata": {},
   "source": [
    "### Dividing the data into training and testing sets:"
   ]
  },
  {
   "cell_type": "code",
   "execution_count": 5,
   "id": "4tMFtK7aVRgG",
   "metadata": {
    "executionInfo": {
     "elapsed": 2,
     "status": "ok",
     "timestamp": 1644258588840,
     "user": {
      "displayName": "Chanaka Prabath",
      "photoUrl": "https://lh3.googleusercontent.com/a-/AOh14GgY5HW7P6KjGUyZKUMsO5Mog94LL5YjDTBpJrgS=s64",
      "userId": "17014943137112987779"
     },
     "user_tz": -330
    },
    "id": "4tMFtK7aVRgG"
   },
   "outputs": [],
   "source": [
    "X_train, X_test, y_train, y_test = train_test_split(X, Y , train_size = 0.80, test_size = 0.20, random_state = 42)"
   ]
  },
  {
   "cell_type": "markdown",
   "id": "KDpf_FSRdc_u",
   "metadata": {
    "id": "KDpf_FSRdc_u"
   },
   "source": [
    "### Creating functions for Confusion Matrix and ROC Plots:"
   ]
  },
  {
   "cell_type": "code",
   "execution_count": 6,
   "id": "8os7YDT1V2KN",
   "metadata": {
    "executionInfo": {
     "elapsed": 370,
     "status": "ok",
     "timestamp": 1644259081533,
     "user": {
      "displayName": "Chanaka Prabath",
      "photoUrl": "https://lh3.googleusercontent.com/a-/AOh14GgY5HW7P6KjGUyZKUMsO5Mog94LL5YjDTBpJrgS=s64",
      "userId": "17014943137112987779"
     },
     "user_tz": -330
    },
    "id": "8os7YDT1V2KN"
   },
   "outputs": [],
   "source": [
    "def con_matrix(y_test,y_predict):\n",
    "    cm = confusion_matrix(y_test, y_predict, normalize=\"true\")*100\n",
    "    plt.figure(figsize=(10,7))\n",
    "    df=pd.DataFrame(cm,index=classes)\n",
    "    df.columns=classes\n",
    "    sn.heatmap(df,annot=True)\n",
    "    plt.xlabel(\"Predicted\")\n",
    "    plt.ylabel(\"Truth\")\n",
    "    plt.show()"
   ]
  },
  {
   "cell_type": "code",
   "execution_count": 7,
   "id": "DEH05klVvG2i",
   "metadata": {
    "executionInfo": {
     "elapsed": 609,
     "status": "ok",
     "timestamp": 1644259082566,
     "user": {
      "displayName": "Chanaka Prabath",
      "photoUrl": "https://lh3.googleusercontent.com/a-/AOh14GgY5HW7P6KjGUyZKUMsO5Mog94LL5YjDTBpJrgS=s64",
      "userId": "17014943137112987779"
     },
     "user_tz": -330
    },
    "id": "DEH05klVvG2i"
   },
   "outputs": [],
   "source": [
    "def plot_roc(X_test, y_test, model):   \n",
    "    # roc curve for classes\n",
    "    fpr = {}\n",
    "    tpr = {}\n",
    "    thresh = {}\n",
    "\n",
    "    n_class = 4\n",
    "    y_prob_pred_cnb = model.predict_proba(X_test)\n",
    "    for i in range(9):    \n",
    "        fpr[i], tpr[i], thresh[i] = roc_curve(np.array(y_test == i,dtype = 'uint8'), y_prob_pred_cnb[:,i], pos_label = i)\n",
    "        \n",
    "    # plotting    \n",
    "    plt.plot(fpr[0], tpr[0], linestyle='--',color = 'orange', label = 'Class 0 vs Rest')\n",
    "    plt.plot(fpr[1], tpr[1], linestyle='--',color = 'green', label = 'Class 1 vs Rest')\n",
    "    plt.plot(fpr[2], tpr[2], linestyle='--',color = 'blue', label = 'Class 2 vs Rest')\n",
    "    plt.plot(fpr[3], tpr[3], linestyle='--',color = 'yellow', label = 'Class 3 vs Rest')\n",
    "    plt.plot(fpr[4], tpr[4], linestyle='-.',color = 'orange', label = 'Class 4 vs Rest')\n",
    "    plt.plot(fpr[5], tpr[5], linestyle='-.',color = 'green', label = 'Class 5 vs Rest')\n",
    "    plt.plot(fpr[6], tpr[6], linestyle='-.',color = 'blue', label = 'Class 6 vs Rest')\n",
    "    plt.plot(fpr[7], tpr[7], linestyle='-.',color = 'yellow', label = 'Class 7 vs Rest')\n",
    "    plt.plot(fpr[8], tpr[8], linestyle='-.',color = 'black', label = 'Class 8 vs Rest')\n",
    "    plt.title('Multiclass ROC curve')\n",
    "    plt.xlabel('False Positive Rate')\n",
    "    plt.ylabel('True Positive rate')\n",
    "    plt.legend(loc = 'best')\n",
    "    plt.show()"
   ]
  },
  {
   "cell_type": "markdown",
   "id": "nlu-ldh3cAdj",
   "metadata": {
    "id": "nlu-ldh3cAdj"
   },
   "source": [
    "### Modelling the Machine Learning Algorithms:\n",
    "\n",
    "#### Extra Tree Classification\n",
    "Reference: https://scikit-learn.org/stable/modules/generated/sklearn.ensemble.ExtraTreesClassifier.html"
   ]
  },
  {
   "cell_type": "code",
   "execution_count": 8,
   "id": "85jae8okYt52",
   "metadata": {
    "colab": {
     "base_uri": "https://localhost:8080/"
    },
    "executionInfo": {
     "elapsed": 31956,
     "status": "ok",
     "timestamp": 1644259114518,
     "user": {
      "displayName": "Chanaka Prabath",
      "photoUrl": "https://lh3.googleusercontent.com/a-/AOh14GgY5HW7P6KjGUyZKUMsO5Mog94LL5YjDTBpJrgS=s64",
      "userId": "17014943137112987779"
     },
     "user_tz": -330
    },
    "id": "85jae8okYt52",
    "outputId": "3a3780af-1134-4c73-90fb-e6e015c5835c"
   },
   "outputs": [
    {
     "name": "stdout",
     "output_type": "stream",
     "text": [
      "Fitting 8 folds for each of 15 candidates, totalling 120 fits\n",
      "[CV 1/8] END criterion=gini, max_features=2, min_samples_leaf=3, n_estimators=50;, score=0.583 total time=   0.0s\n",
      "[CV 2/8] END criterion=gini, max_features=2, min_samples_leaf=3, n_estimators=50;, score=0.556 total time=   0.0s\n",
      "[CV 3/8] END criterion=gini, max_features=2, min_samples_leaf=3, n_estimators=50;, score=0.667 total time=   0.0s\n",
      "[CV 4/8] END criterion=gini, max_features=2, min_samples_leaf=3, n_estimators=50;, score=0.639 total time=   0.0s\n",
      "[CV 5/8] END criterion=gini, max_features=2, min_samples_leaf=3, n_estimators=50;, score=0.528 total time=   0.0s\n",
      "[CV 6/8] END criterion=gini, max_features=2, min_samples_leaf=3, n_estimators=50;, score=0.528 total time=   0.0s\n",
      "[CV 7/8] END criterion=gini, max_features=2, min_samples_leaf=3, n_estimators=50;, score=0.417 total time=   0.0s\n",
      "[CV 8/8] END criterion=gini, max_features=2, min_samples_leaf=3, n_estimators=50;, score=0.444 total time=   0.0s\n",
      "[CV 1/8] END criterion=gini, max_features=2, min_samples_leaf=3, n_estimators=250;, score=0.583 total time=   0.1s\n",
      "[CV 2/8] END criterion=gini, max_features=2, min_samples_leaf=3, n_estimators=250;, score=0.556 total time=   0.1s\n",
      "[CV 3/8] END criterion=gini, max_features=2, min_samples_leaf=3, n_estimators=250;, score=0.639 total time=   0.1s\n",
      "[CV 4/8] END criterion=gini, max_features=2, min_samples_leaf=3, n_estimators=250;, score=0.667 total time=   0.1s\n",
      "[CV 5/8] END criterion=gini, max_features=2, min_samples_leaf=3, n_estimators=250;, score=0.556 total time=   0.1s\n",
      "[CV 6/8] END criterion=gini, max_features=2, min_samples_leaf=3, n_estimators=250;, score=0.500 total time=   0.1s\n",
      "[CV 7/8] END criterion=gini, max_features=2, min_samples_leaf=3, n_estimators=250;, score=0.500 total time=   0.1s\n",
      "[CV 8/8] END criterion=gini, max_features=2, min_samples_leaf=3, n_estimators=250;, score=0.444 total time=   0.1s\n",
      "[CV 1/8] END criterion=gini, max_features=3, min_samples_leaf=3, n_estimators=150;, score=0.639 total time=   0.1s\n",
      "[CV 2/8] END criterion=gini, max_features=3, min_samples_leaf=3, n_estimators=150;, score=0.528 total time=   0.1s\n",
      "[CV 3/8] END criterion=gini, max_features=3, min_samples_leaf=3, n_estimators=150;, score=0.667 total time=   0.1s\n",
      "[CV 4/8] END criterion=gini, max_features=3, min_samples_leaf=3, n_estimators=150;, score=0.694 total time=   0.1s\n",
      "[CV 5/8] END criterion=gini, max_features=3, min_samples_leaf=3, n_estimators=150;, score=0.556 total time=   0.1s\n",
      "[CV 6/8] END criterion=gini, max_features=3, min_samples_leaf=3, n_estimators=150;, score=0.500 total time=   0.1s\n",
      "[CV 7/8] END criterion=gini, max_features=3, min_samples_leaf=3, n_estimators=150;, score=0.500 total time=   0.1s\n",
      "[CV 8/8] END criterion=gini, max_features=3, min_samples_leaf=3, n_estimators=150;, score=0.444 total time=   0.1s\n",
      "[CV 1/8] END criterion=entropy, max_features=3, min_samples_leaf=2, n_estimators=350;, score=0.583 total time=   0.2s\n",
      "[CV 2/8] END criterion=entropy, max_features=3, min_samples_leaf=2, n_estimators=350;, score=0.528 total time=   0.2s\n",
      "[CV 3/8] END criterion=entropy, max_features=3, min_samples_leaf=2, n_estimators=350;, score=0.722 total time=   0.2s\n",
      "[CV 4/8] END criterion=entropy, max_features=3, min_samples_leaf=2, n_estimators=350;, score=0.750 total time=   0.2s\n",
      "[CV 5/8] END criterion=entropy, max_features=3, min_samples_leaf=2, n_estimators=350;, score=0.583 total time=   0.2s\n",
      "[CV 6/8] END criterion=entropy, max_features=3, min_samples_leaf=2, n_estimators=350;, score=0.528 total time=   0.2s\n",
      "[CV 7/8] END criterion=entropy, max_features=3, min_samples_leaf=2, n_estimators=350;, score=0.444 total time=   0.2s\n",
      "[CV 8/8] END criterion=entropy, max_features=3, min_samples_leaf=2, n_estimators=350;, score=0.472 total time=   0.2s\n",
      "[CV 1/8] END criterion=gini, max_features=2, min_samples_leaf=3, n_estimators=200;, score=0.611 total time=   0.1s\n",
      "[CV 2/8] END criterion=gini, max_features=2, min_samples_leaf=3, n_estimators=200;, score=0.556 total time=   0.1s\n",
      "[CV 3/8] END criterion=gini, max_features=2, min_samples_leaf=3, n_estimators=200;, score=0.667 total time=   0.1s\n",
      "[CV 4/8] END criterion=gini, max_features=2, min_samples_leaf=3, n_estimators=200;, score=0.639 total time=   0.1s\n",
      "[CV 5/8] END criterion=gini, max_features=2, min_samples_leaf=3, n_estimators=200;, score=0.556 total time=   0.1s\n",
      "[CV 6/8] END criterion=gini, max_features=2, min_samples_leaf=3, n_estimators=200;, score=0.528 total time=   0.1s\n",
      "[CV 7/8] END criterion=gini, max_features=2, min_samples_leaf=3, n_estimators=200;, score=0.444 total time=   0.1s\n",
      "[CV 8/8] END criterion=gini, max_features=2, min_samples_leaf=3, n_estimators=200;, score=0.417 total time=   0.1s\n",
      "[CV 1/8] END criterion=gini, max_features=3, min_samples_leaf=1, n_estimators=150;, score=0.667 total time=   0.1s\n",
      "[CV 2/8] END criterion=gini, max_features=3, min_samples_leaf=1, n_estimators=150;, score=0.583 total time=   0.1s\n",
      "[CV 3/8] END criterion=gini, max_features=3, min_samples_leaf=1, n_estimators=150;, score=0.750 total time=   0.1s\n",
      "[CV 4/8] END criterion=gini, max_features=3, min_samples_leaf=1, n_estimators=150;, score=0.694 total time=   0.1s\n",
      "[CV 5/8] END criterion=gini, max_features=3, min_samples_leaf=1, n_estimators=150;, score=0.611 total time=   0.1s\n",
      "[CV 6/8] END criterion=gini, max_features=3, min_samples_leaf=1, n_estimators=150;, score=0.444 total time=   0.1s\n",
      "[CV 7/8] END criterion=gini, max_features=3, min_samples_leaf=1, n_estimators=150;, score=0.472 total time=   0.1s\n",
      "[CV 8/8] END criterion=gini, max_features=3, min_samples_leaf=1, n_estimators=150;, score=0.472 total time=   0.1s\n",
      "[CV 1/8] END criterion=gini, max_features=1, min_samples_leaf=1, n_estimators=200;, score=0.611 total time=   0.1s\n",
      "[CV 2/8] END criterion=gini, max_features=1, min_samples_leaf=1, n_estimators=200;, score=0.583 total time=   0.1s\n",
      "[CV 3/8] END criterion=gini, max_features=1, min_samples_leaf=1, n_estimators=200;, score=0.667 total time=   0.1s\n",
      "[CV 4/8] END criterion=gini, max_features=1, min_samples_leaf=1, n_estimators=200;, score=0.722 total time=   0.1s\n",
      "[CV 5/8] END criterion=gini, max_features=1, min_samples_leaf=1, n_estimators=200;, score=0.639 total time=   0.1s\n",
      "[CV 6/8] END criterion=gini, max_features=1, min_samples_leaf=1, n_estimators=200;, score=0.500 total time=   0.1s\n",
      "[CV 7/8] END criterion=gini, max_features=1, min_samples_leaf=1, n_estimators=200;, score=0.444 total time=   0.1s\n",
      "[CV 8/8] END criterion=gini, max_features=1, min_samples_leaf=1, n_estimators=200;, score=0.444 total time=   0.1s\n",
      "[CV 1/8] END criterion=entropy, max_features=1, min_samples_leaf=1, n_estimators=50;, score=0.583 total time=   0.0s\n",
      "[CV 2/8] END criterion=entropy, max_features=1, min_samples_leaf=1, n_estimators=50;, score=0.556 total time=   0.0s\n",
      "[CV 3/8] END criterion=entropy, max_features=1, min_samples_leaf=1, n_estimators=50;, score=0.694 total time=   0.0s\n",
      "[CV 4/8] END criterion=entropy, max_features=1, min_samples_leaf=1, n_estimators=50;, score=0.639 total time=   0.0s\n",
      "[CV 5/8] END criterion=entropy, max_features=1, min_samples_leaf=1, n_estimators=50;, score=0.556 total time=   0.0s\n",
      "[CV 6/8] END criterion=entropy, max_features=1, min_samples_leaf=1, n_estimators=50;, score=0.583 total time=   0.0s\n",
      "[CV 7/8] END criterion=entropy, max_features=1, min_samples_leaf=1, n_estimators=50;, score=0.417 total time=   0.0s\n",
      "[CV 8/8] END criterion=entropy, max_features=1, min_samples_leaf=1, n_estimators=50;, score=0.472 total time=   0.0s\n",
      "[CV 1/8] END criterion=entropy, max_features=2, min_samples_leaf=3, n_estimators=300;, score=0.611 total time=   0.2s\n",
      "[CV 2/8] END criterion=entropy, max_features=2, min_samples_leaf=3, n_estimators=300;, score=0.528 total time=   0.2s\n",
      "[CV 3/8] END criterion=entropy, max_features=2, min_samples_leaf=3, n_estimators=300;, score=0.667 total time=   0.2s\n",
      "[CV 4/8] END criterion=entropy, max_features=2, min_samples_leaf=3, n_estimators=300;, score=0.639 total time=   0.2s\n",
      "[CV 5/8] END criterion=entropy, max_features=2, min_samples_leaf=3, n_estimators=300;, score=0.556 total time=   0.2s\n",
      "[CV 6/8] END criterion=entropy, max_features=2, min_samples_leaf=3, n_estimators=300;, score=0.500 total time=   0.2s\n",
      "[CV 7/8] END criterion=entropy, max_features=2, min_samples_leaf=3, n_estimators=300;, score=0.556 total time=   0.2s\n",
      "[CV 8/8] END criterion=entropy, max_features=2, min_samples_leaf=3, n_estimators=300;, score=0.472 total time=   0.2s\n"
     ]
    },
    {
     "name": "stdout",
     "output_type": "stream",
     "text": [
      "[CV 1/8] END criterion=entropy, max_features=1, min_samples_leaf=2, n_estimators=350;, score=0.556 total time=   0.2s\n",
      "[CV 2/8] END criterion=entropy, max_features=1, min_samples_leaf=2, n_estimators=350;, score=0.528 total time=   0.2s\n",
      "[CV 3/8] END criterion=entropy, max_features=1, min_samples_leaf=2, n_estimators=350;, score=0.667 total time=   0.2s\n",
      "[CV 4/8] END criterion=entropy, max_features=1, min_samples_leaf=2, n_estimators=350;, score=0.556 total time=   0.2s\n",
      "[CV 5/8] END criterion=entropy, max_features=1, min_samples_leaf=2, n_estimators=350;, score=0.556 total time=   0.2s\n",
      "[CV 6/8] END criterion=entropy, max_features=1, min_samples_leaf=2, n_estimators=350;, score=0.500 total time=   0.2s\n",
      "[CV 7/8] END criterion=entropy, max_features=1, min_samples_leaf=2, n_estimators=350;, score=0.500 total time=   0.2s\n",
      "[CV 8/8] END criterion=entropy, max_features=1, min_samples_leaf=2, n_estimators=350;, score=0.417 total time=   0.2s\n",
      "[CV 1/8] END criterion=entropy, max_features=2, min_samples_leaf=3, n_estimators=150;, score=0.583 total time=   0.1s\n",
      "[CV 2/8] END criterion=entropy, max_features=2, min_samples_leaf=3, n_estimators=150;, score=0.528 total time=   0.1s\n",
      "[CV 3/8] END criterion=entropy, max_features=2, min_samples_leaf=3, n_estimators=150;, score=0.583 total time=   0.1s\n",
      "[CV 4/8] END criterion=entropy, max_features=2, min_samples_leaf=3, n_estimators=150;, score=0.667 total time=   0.1s\n",
      "[CV 5/8] END criterion=entropy, max_features=2, min_samples_leaf=3, n_estimators=150;, score=0.556 total time=   0.1s\n",
      "[CV 6/8] END criterion=entropy, max_features=2, min_samples_leaf=3, n_estimators=150;, score=0.472 total time=   0.1s\n",
      "[CV 7/8] END criterion=entropy, max_features=2, min_samples_leaf=3, n_estimators=150;, score=0.444 total time=   0.1s\n",
      "[CV 8/8] END criterion=entropy, max_features=2, min_samples_leaf=3, n_estimators=150;, score=0.500 total time=   0.1s\n",
      "[CV 1/8] END criterion=gini, max_features=1, min_samples_leaf=3, n_estimators=150;, score=0.583 total time=   0.1s\n",
      "[CV 2/8] END criterion=gini, max_features=1, min_samples_leaf=3, n_estimators=150;, score=0.528 total time=   0.1s\n",
      "[CV 3/8] END criterion=gini, max_features=1, min_samples_leaf=3, n_estimators=150;, score=0.611 total time=   0.1s\n",
      "[CV 4/8] END criterion=gini, max_features=1, min_samples_leaf=3, n_estimators=150;, score=0.528 total time=   0.1s\n",
      "[CV 5/8] END criterion=gini, max_features=1, min_samples_leaf=3, n_estimators=150;, score=0.472 total time=   0.1s\n",
      "[CV 6/8] END criterion=gini, max_features=1, min_samples_leaf=3, n_estimators=150;, score=0.500 total time=   0.1s\n",
      "[CV 7/8] END criterion=gini, max_features=1, min_samples_leaf=3, n_estimators=150;, score=0.444 total time=   0.1s\n",
      "[CV 8/8] END criterion=gini, max_features=1, min_samples_leaf=3, n_estimators=150;, score=0.528 total time=   0.1s\n",
      "[CV 1/8] END criterion=entropy, max_features=2, min_samples_leaf=1, n_estimators=350;, score=0.583 total time=   0.2s\n",
      "[CV 2/8] END criterion=entropy, max_features=2, min_samples_leaf=1, n_estimators=350;, score=0.583 total time=   0.2s\n",
      "[CV 3/8] END criterion=entropy, max_features=2, min_samples_leaf=1, n_estimators=350;, score=0.694 total time=   0.2s\n",
      "[CV 4/8] END criterion=entropy, max_features=2, min_samples_leaf=1, n_estimators=350;, score=0.722 total time=   0.2s\n",
      "[CV 5/8] END criterion=entropy, max_features=2, min_samples_leaf=1, n_estimators=350;, score=0.583 total time=   0.2s\n",
      "[CV 6/8] END criterion=entropy, max_features=2, min_samples_leaf=1, n_estimators=350;, score=0.472 total time=   0.2s\n",
      "[CV 7/8] END criterion=entropy, max_features=2, min_samples_leaf=1, n_estimators=350;, score=0.444 total time=   0.2s\n",
      "[CV 8/8] END criterion=entropy, max_features=2, min_samples_leaf=1, n_estimators=350;, score=0.444 total time=   0.2s\n",
      "[CV 1/8] END criterion=entropy, max_features=3, min_samples_leaf=3, n_estimators=50;, score=0.583 total time=   0.0s\n",
      "[CV 2/8] END criterion=entropy, max_features=3, min_samples_leaf=3, n_estimators=50;, score=0.528 total time=   0.0s\n",
      "[CV 3/8] END criterion=entropy, max_features=3, min_samples_leaf=3, n_estimators=50;, score=0.722 total time=   0.0s\n",
      "[CV 4/8] END criterion=entropy, max_features=3, min_samples_leaf=3, n_estimators=50;, score=0.722 total time=   0.0s\n",
      "[CV 5/8] END criterion=entropy, max_features=3, min_samples_leaf=3, n_estimators=50;, score=0.611 total time=   0.0s\n",
      "[CV 6/8] END criterion=entropy, max_features=3, min_samples_leaf=3, n_estimators=50;, score=0.500 total time=   0.0s\n",
      "[CV 7/8] END criterion=entropy, max_features=3, min_samples_leaf=3, n_estimators=50;, score=0.472 total time=   0.0s\n",
      "[CV 8/8] END criterion=entropy, max_features=3, min_samples_leaf=3, n_estimators=50;, score=0.417 total time=   0.0s\n",
      "[CV 1/8] END criterion=entropy, max_features=1, min_samples_leaf=1, n_estimators=250;, score=0.667 total time=   0.2s\n",
      "[CV 2/8] END criterion=entropy, max_features=1, min_samples_leaf=1, n_estimators=250;, score=0.611 total time=   0.2s\n",
      "[CV 3/8] END criterion=entropy, max_features=1, min_samples_leaf=1, n_estimators=250;, score=0.722 total time=   0.2s\n",
      "[CV 4/8] END criterion=entropy, max_features=1, min_samples_leaf=1, n_estimators=250;, score=0.667 total time=   0.2s\n",
      "[CV 5/8] END criterion=entropy, max_features=1, min_samples_leaf=1, n_estimators=250;, score=0.583 total time=   0.2s\n",
      "[CV 6/8] END criterion=entropy, max_features=1, min_samples_leaf=1, n_estimators=250;, score=0.500 total time=   0.2s\n",
      "[CV 7/8] END criterion=entropy, max_features=1, min_samples_leaf=1, n_estimators=250;, score=0.444 total time=   0.2s\n",
      "[CV 8/8] END criterion=entropy, max_features=1, min_samples_leaf=1, n_estimators=250;, score=0.472 total time=   0.2s\n"
     ]
    },
    {
     "data": {
      "text/html": [
       "<style>#sk-container-id-1 {color: black;background-color: white;}#sk-container-id-1 pre{padding: 0;}#sk-container-id-1 div.sk-toggleable {background-color: white;}#sk-container-id-1 label.sk-toggleable__label {cursor: pointer;display: block;width: 100%;margin-bottom: 0;padding: 0.3em;box-sizing: border-box;text-align: center;}#sk-container-id-1 label.sk-toggleable__label-arrow:before {content: \"▸\";float: left;margin-right: 0.25em;color: #696969;}#sk-container-id-1 label.sk-toggleable__label-arrow:hover:before {color: black;}#sk-container-id-1 div.sk-estimator:hover label.sk-toggleable__label-arrow:before {color: black;}#sk-container-id-1 div.sk-toggleable__content {max-height: 0;max-width: 0;overflow: hidden;text-align: left;background-color: #f0f8ff;}#sk-container-id-1 div.sk-toggleable__content pre {margin: 0.2em;color: black;border-radius: 0.25em;background-color: #f0f8ff;}#sk-container-id-1 input.sk-toggleable__control:checked~div.sk-toggleable__content {max-height: 200px;max-width: 100%;overflow: auto;}#sk-container-id-1 input.sk-toggleable__control:checked~label.sk-toggleable__label-arrow:before {content: \"▾\";}#sk-container-id-1 div.sk-estimator input.sk-toggleable__control:checked~label.sk-toggleable__label {background-color: #d4ebff;}#sk-container-id-1 div.sk-label input.sk-toggleable__control:checked~label.sk-toggleable__label {background-color: #d4ebff;}#sk-container-id-1 input.sk-hidden--visually {border: 0;clip: rect(1px 1px 1px 1px);clip: rect(1px, 1px, 1px, 1px);height: 1px;margin: -1px;overflow: hidden;padding: 0;position: absolute;width: 1px;}#sk-container-id-1 div.sk-estimator {font-family: monospace;background-color: #f0f8ff;border: 1px dotted black;border-radius: 0.25em;box-sizing: border-box;margin-bottom: 0.5em;}#sk-container-id-1 div.sk-estimator:hover {background-color: #d4ebff;}#sk-container-id-1 div.sk-parallel-item::after {content: \"\";width: 100%;border-bottom: 1px solid gray;flex-grow: 1;}#sk-container-id-1 div.sk-label:hover label.sk-toggleable__label {background-color: #d4ebff;}#sk-container-id-1 div.sk-serial::before {content: \"\";position: absolute;border-left: 1px solid gray;box-sizing: border-box;top: 0;bottom: 0;left: 50%;z-index: 0;}#sk-container-id-1 div.sk-serial {display: flex;flex-direction: column;align-items: center;background-color: white;padding-right: 0.2em;padding-left: 0.2em;position: relative;}#sk-container-id-1 div.sk-item {position: relative;z-index: 1;}#sk-container-id-1 div.sk-parallel {display: flex;align-items: stretch;justify-content: center;background-color: white;position: relative;}#sk-container-id-1 div.sk-item::before, #sk-container-id-1 div.sk-parallel-item::before {content: \"\";position: absolute;border-left: 1px solid gray;box-sizing: border-box;top: 0;bottom: 0;left: 50%;z-index: -1;}#sk-container-id-1 div.sk-parallel-item {display: flex;flex-direction: column;z-index: 1;position: relative;background-color: white;}#sk-container-id-1 div.sk-parallel-item:first-child::after {align-self: flex-end;width: 50%;}#sk-container-id-1 div.sk-parallel-item:last-child::after {align-self: flex-start;width: 50%;}#sk-container-id-1 div.sk-parallel-item:only-child::after {width: 0;}#sk-container-id-1 div.sk-dashed-wrapped {border: 1px dashed gray;margin: 0 0.4em 0.5em 0.4em;box-sizing: border-box;padding-bottom: 0.4em;background-color: white;}#sk-container-id-1 div.sk-label label {font-family: monospace;font-weight: bold;display: inline-block;line-height: 1.2em;}#sk-container-id-1 div.sk-label-container {text-align: center;}#sk-container-id-1 div.sk-container {/* jupyter's `normalize.less` sets `[hidden] { display: none; }` but bootstrap.min.css set `[hidden] { display: none !important; }` so we also need the `!important` here to be able to override the default hidden behavior on the sphinx rendered scikit-learn.org. See: https://github.com/scikit-learn/scikit-learn/issues/21755 */display: inline-block !important;position: relative;}#sk-container-id-1 div.sk-text-repr-fallback {display: none;}</style><div id=\"sk-container-id-1\" class=\"sk-top-container\"><div class=\"sk-text-repr-fallback\"><pre>RandomizedSearchCV(cv=8, estimator=ExtraTreesClassifier(), n_iter=15,\n",
       "                   param_distributions={&#x27;criterion&#x27;: [&#x27;gini&#x27;, &#x27;entropy&#x27;],\n",
       "                                        &#x27;max_features&#x27;: [1, 2, 3],\n",
       "                                        &#x27;min_samples_leaf&#x27;: [1, 2, 3],\n",
       "                                        &#x27;n_estimators&#x27;: [50, 100, 150, 200, 250,\n",
       "                                                         300, 350]},\n",
       "                   verbose=3)</pre><b>In a Jupyter environment, please rerun this cell to show the HTML representation or trust the notebook. <br />On GitHub, the HTML representation is unable to render, please try loading this page with nbviewer.org.</b></div><div class=\"sk-container\" hidden><div class=\"sk-item sk-dashed-wrapped\"><div class=\"sk-label-container\"><div class=\"sk-label sk-toggleable\"><input class=\"sk-toggleable__control sk-hidden--visually\" id=\"sk-estimator-id-1\" type=\"checkbox\" ><label for=\"sk-estimator-id-1\" class=\"sk-toggleable__label sk-toggleable__label-arrow\">RandomizedSearchCV</label><div class=\"sk-toggleable__content\"><pre>RandomizedSearchCV(cv=8, estimator=ExtraTreesClassifier(), n_iter=15,\n",
       "                   param_distributions={&#x27;criterion&#x27;: [&#x27;gini&#x27;, &#x27;entropy&#x27;],\n",
       "                                        &#x27;max_features&#x27;: [1, 2, 3],\n",
       "                                        &#x27;min_samples_leaf&#x27;: [1, 2, 3],\n",
       "                                        &#x27;n_estimators&#x27;: [50, 100, 150, 200, 250,\n",
       "                                                         300, 350]},\n",
       "                   verbose=3)</pre></div></div></div><div class=\"sk-parallel\"><div class=\"sk-parallel-item\"><div class=\"sk-item\"><div class=\"sk-label-container\"><div class=\"sk-label sk-toggleable\"><input class=\"sk-toggleable__control sk-hidden--visually\" id=\"sk-estimator-id-2\" type=\"checkbox\" ><label for=\"sk-estimator-id-2\" class=\"sk-toggleable__label sk-toggleable__label-arrow\">estimator: ExtraTreesClassifier</label><div class=\"sk-toggleable__content\"><pre>ExtraTreesClassifier()</pre></div></div></div><div class=\"sk-serial\"><div class=\"sk-item\"><div class=\"sk-estimator sk-toggleable\"><input class=\"sk-toggleable__control sk-hidden--visually\" id=\"sk-estimator-id-3\" type=\"checkbox\" ><label for=\"sk-estimator-id-3\" class=\"sk-toggleable__label sk-toggleable__label-arrow\">ExtraTreesClassifier</label><div class=\"sk-toggleable__content\"><pre>ExtraTreesClassifier()</pre></div></div></div></div></div></div></div></div></div></div>"
      ],
      "text/plain": [
       "RandomizedSearchCV(cv=8, estimator=ExtraTreesClassifier(), n_iter=15,\n",
       "                   param_distributions={'criterion': ['gini', 'entropy'],\n",
       "                                        'max_features': [1, 2, 3],\n",
       "                                        'min_samples_leaf': [1, 2, 3],\n",
       "                                        'n_estimators': [50, 100, 150, 200, 250,\n",
       "                                                         300, 350]},\n",
       "                   verbose=3)"
      ]
     },
     "execution_count": 8,
     "metadata": {},
     "output_type": "execute_result"
    }
   ],
   "source": [
    "### Hyperparameter tunning ###\n",
    "etc_params = {\n",
    "    \"n_estimators\":[50, 100, 150, 200, 250, 300, 350],\n",
    "    \"min_samples_leaf\":[1, 2, 3],\n",
    "    \"max_features\":[1, 2, 3],\n",
    "    \"criterion\":[\"gini\", \"entropy\"]\n",
    "}\n",
    "ran_search_etc = RandomizedSearchCV(ExtraTreesClassifier(), param_distributions = etc_params, n_iter = 15, cv = 8, verbose = 3)\n",
    "ran_search_etc.fit(X_train, np.array(y_train))"
   ]
  },
  {
   "cell_type": "markdown",
   "id": "b0fdfbdd",
   "metadata": {},
   "source": [
    "#### Model Selection:"
   ]
  },
  {
   "cell_type": "code",
   "execution_count": 9,
   "id": "12BEgdNrY111",
   "metadata": {
    "colab": {
     "base_uri": "https://localhost:8080/"
    },
    "executionInfo": {
     "elapsed": 12,
     "status": "ok",
     "timestamp": 1644259114519,
     "user": {
      "displayName": "Chanaka Prabath",
      "photoUrl": "https://lh3.googleusercontent.com/a-/AOh14GgY5HW7P6KjGUyZKUMsO5Mog94LL5YjDTBpJrgS=s64",
      "userId": "17014943137112987779"
     },
     "user_tz": -330
    },
    "id": "12BEgdNrY111",
    "outputId": "12df11bb-e3b8-40fb-927d-727912434cfe",
    "scrolled": true
   },
   "outputs": [
    {
     "data": {
      "text/html": [
       "<style>#sk-container-id-2 {color: black;background-color: white;}#sk-container-id-2 pre{padding: 0;}#sk-container-id-2 div.sk-toggleable {background-color: white;}#sk-container-id-2 label.sk-toggleable__label {cursor: pointer;display: block;width: 100%;margin-bottom: 0;padding: 0.3em;box-sizing: border-box;text-align: center;}#sk-container-id-2 label.sk-toggleable__label-arrow:before {content: \"▸\";float: left;margin-right: 0.25em;color: #696969;}#sk-container-id-2 label.sk-toggleable__label-arrow:hover:before {color: black;}#sk-container-id-2 div.sk-estimator:hover label.sk-toggleable__label-arrow:before {color: black;}#sk-container-id-2 div.sk-toggleable__content {max-height: 0;max-width: 0;overflow: hidden;text-align: left;background-color: #f0f8ff;}#sk-container-id-2 div.sk-toggleable__content pre {margin: 0.2em;color: black;border-radius: 0.25em;background-color: #f0f8ff;}#sk-container-id-2 input.sk-toggleable__control:checked~div.sk-toggleable__content {max-height: 200px;max-width: 100%;overflow: auto;}#sk-container-id-2 input.sk-toggleable__control:checked~label.sk-toggleable__label-arrow:before {content: \"▾\";}#sk-container-id-2 div.sk-estimator input.sk-toggleable__control:checked~label.sk-toggleable__label {background-color: #d4ebff;}#sk-container-id-2 div.sk-label input.sk-toggleable__control:checked~label.sk-toggleable__label {background-color: #d4ebff;}#sk-container-id-2 input.sk-hidden--visually {border: 0;clip: rect(1px 1px 1px 1px);clip: rect(1px, 1px, 1px, 1px);height: 1px;margin: -1px;overflow: hidden;padding: 0;position: absolute;width: 1px;}#sk-container-id-2 div.sk-estimator {font-family: monospace;background-color: #f0f8ff;border: 1px dotted black;border-radius: 0.25em;box-sizing: border-box;margin-bottom: 0.5em;}#sk-container-id-2 div.sk-estimator:hover {background-color: #d4ebff;}#sk-container-id-2 div.sk-parallel-item::after {content: \"\";width: 100%;border-bottom: 1px solid gray;flex-grow: 1;}#sk-container-id-2 div.sk-label:hover label.sk-toggleable__label {background-color: #d4ebff;}#sk-container-id-2 div.sk-serial::before {content: \"\";position: absolute;border-left: 1px solid gray;box-sizing: border-box;top: 0;bottom: 0;left: 50%;z-index: 0;}#sk-container-id-2 div.sk-serial {display: flex;flex-direction: column;align-items: center;background-color: white;padding-right: 0.2em;padding-left: 0.2em;position: relative;}#sk-container-id-2 div.sk-item {position: relative;z-index: 1;}#sk-container-id-2 div.sk-parallel {display: flex;align-items: stretch;justify-content: center;background-color: white;position: relative;}#sk-container-id-2 div.sk-item::before, #sk-container-id-2 div.sk-parallel-item::before {content: \"\";position: absolute;border-left: 1px solid gray;box-sizing: border-box;top: 0;bottom: 0;left: 50%;z-index: -1;}#sk-container-id-2 div.sk-parallel-item {display: flex;flex-direction: column;z-index: 1;position: relative;background-color: white;}#sk-container-id-2 div.sk-parallel-item:first-child::after {align-self: flex-end;width: 50%;}#sk-container-id-2 div.sk-parallel-item:last-child::after {align-self: flex-start;width: 50%;}#sk-container-id-2 div.sk-parallel-item:only-child::after {width: 0;}#sk-container-id-2 div.sk-dashed-wrapped {border: 1px dashed gray;margin: 0 0.4em 0.5em 0.4em;box-sizing: border-box;padding-bottom: 0.4em;background-color: white;}#sk-container-id-2 div.sk-label label {font-family: monospace;font-weight: bold;display: inline-block;line-height: 1.2em;}#sk-container-id-2 div.sk-label-container {text-align: center;}#sk-container-id-2 div.sk-container {/* jupyter's `normalize.less` sets `[hidden] { display: none; }` but bootstrap.min.css set `[hidden] { display: none !important; }` so we also need the `!important` here to be able to override the default hidden behavior on the sphinx rendered scikit-learn.org. See: https://github.com/scikit-learn/scikit-learn/issues/21755 */display: inline-block !important;position: relative;}#sk-container-id-2 div.sk-text-repr-fallback {display: none;}</style><div id=\"sk-container-id-2\" class=\"sk-top-container\"><div class=\"sk-text-repr-fallback\"><pre>ExtraTreesClassifier(max_features=3, n_estimators=150)</pre><b>In a Jupyter environment, please rerun this cell to show the HTML representation or trust the notebook. <br />On GitHub, the HTML representation is unable to render, please try loading this page with nbviewer.org.</b></div><div class=\"sk-container\" hidden><div class=\"sk-item\"><div class=\"sk-estimator sk-toggleable\"><input class=\"sk-toggleable__control sk-hidden--visually\" id=\"sk-estimator-id-4\" type=\"checkbox\" checked><label for=\"sk-estimator-id-4\" class=\"sk-toggleable__label sk-toggleable__label-arrow\">ExtraTreesClassifier</label><div class=\"sk-toggleable__content\"><pre>ExtraTreesClassifier(max_features=3, n_estimators=150)</pre></div></div></div></div></div>"
      ],
      "text/plain": [
       "ExtraTreesClassifier(max_features=3, n_estimators=150)"
      ]
     },
     "execution_count": 9,
     "metadata": {},
     "output_type": "execute_result"
    }
   ],
   "source": [
    "etc = ran_search_etc.best_estimator_ # Selecting the best model.\n",
    "etc.fit(X_train, np.array(y_train)) # Fitting the training data."
   ]
  },
  {
   "cell_type": "markdown",
   "id": "9aa085f7",
   "metadata": {},
   "source": [
    "#### Accuracy, Confusion Matrix and ROC Plot:"
   ]
  },
  {
   "cell_type": "code",
   "execution_count": 10,
   "id": "A7mFiLA2Y6G8",
   "metadata": {
    "colab": {
     "base_uri": "https://localhost:8080/",
     "height": 1000
    },
    "executionInfo": {
     "elapsed": 1573,
     "status": "ok",
     "timestamp": 1644259116081,
     "user": {
      "displayName": "Chanaka Prabath",
      "photoUrl": "https://lh3.googleusercontent.com/a-/AOh14GgY5HW7P6KjGUyZKUMsO5Mog94LL5YjDTBpJrgS=s64",
      "userId": "17014943137112987779"
     },
     "user_tz": -330
    },
    "id": "A7mFiLA2Y6G8",
    "outputId": "e96c9363-1ba1-4cfd-842d-032bf68f5334"
   },
   "outputs": [
    {
     "name": "stdout",
     "output_type": "stream",
     "text": [
      "Training Accuracy:  100.0 %\n",
      "Testing Accuracy:  62.5 %\n"
     ]
    },
    {
     "data": {
      "image/png": "[encoded data removed]",
      "text/plain": [
       "<Figure size 720x504 with 2 Axes>"
      ]
     },
     "metadata": {
      "needs_background": "light"
     },
     "output_type": "display_data"
    },
    {
     "name": "stderr",
     "output_type": "stream",
     "text": [
      "/home/sumon/anaconda3/lib/python3.9/site-packages/sklearn/metrics/_ranking.py:1018: UndefinedMetricWarning: No positive samples in y_true, true positive value should be meaningless\n",
      "  warnings.warn(\n",
      "/home/sumon/anaconda3/lib/python3.9/site-packages/sklearn/metrics/_ranking.py:1018: UndefinedMetricWarning: No positive samples in y_true, true positive value should be meaningless\n",
      "  warnings.warn(\n",
      "/home/sumon/anaconda3/lib/python3.9/site-packages/sklearn/metrics/_ranking.py:1018: UndefinedMetricWarning: No positive samples in y_true, true positive value should be meaningless\n",
      "  warnings.warn(\n",
      "/home/sumon/anaconda3/lib/python3.9/site-packages/sklearn/metrics/_ranking.py:1018: UndefinedMetricWarning: No positive samples in y_true, true positive value should be meaningless\n",
      "  warnings.warn(\n",
      "/home/sumon/anaconda3/lib/python3.9/site-packages/sklearn/metrics/_ranking.py:1018: UndefinedMetricWarning: No positive samples in y_true, true positive value should be meaningless\n",
      "  warnings.warn(\n",
      "/home/sumon/anaconda3/lib/python3.9/site-packages/sklearn/metrics/_ranking.py:1018: UndefinedMetricWarning: No positive samples in y_true, true positive value should be meaningless\n",
      "  warnings.warn(\n",
      "/home/sumon/anaconda3/lib/python3.9/site-packages/sklearn/metrics/_ranking.py:1018: UndefinedMetricWarning: No positive samples in y_true, true positive value should be meaningless\n",
      "  warnings.warn(\n"
     ]
    },
    {
     "data": {
      "image/png": "[encoded data removed]",
      "text/plain": [
       "<Figure size 432x288 with 1 Axes>"
      ]
     },
     "metadata": {
      "needs_background": "light"
     },
     "output_type": "display_data"
    }
   ],
   "source": [
    "y_pred_etc = etc.predict(X_test) # Prediction on test data\n",
    "test_acc_etc = etc.score(X_test, np.array(y_test)) # Testing accuracy\n",
    "train_acc_etc = etc.score(X_train, np.array(y_train)) # Training accuracy\n",
    "print(\"Training Accuracy: \", train_acc_etc*100,'%')\n",
    "print(\"Testing Accuracy: \", test_acc_etc*100,'%')\n",
    "con_matrix(y_pred_etc, np.array(y_test))\n",
    "plot_roc(X_test, y_test, etc)"
   ]
  },
  {
   "cell_type": "markdown",
   "id": "8PTYjFLecJJN",
   "metadata": {
    "id": "8PTYjFLecJJN"
   },
   "source": [
    "#### Random Forest Classification\n",
    "Reference: https://scikit-learn.org/stable/modules/generated/sklearn.ensemble.RandomForestClassifier.html"
   ]
  },
  {
   "cell_type": "code",
   "execution_count": 11,
   "id": "DKyh5x7YcNwl",
   "metadata": {
    "colab": {
     "base_uri": "https://localhost:8080/"
    },
    "executionInfo": {
     "elapsed": 48306,
     "status": "ok",
     "timestamp": 1644259164377,
     "user": {
      "displayName": "Chanaka Prabath",
      "photoUrl": "https://lh3.googleusercontent.com/a-/AOh14GgY5HW7P6KjGUyZKUMsO5Mog94LL5YjDTBpJrgS=s64",
      "userId": "17014943137112987779"
     },
     "user_tz": -330
    },
    "id": "DKyh5x7YcNwl",
    "outputId": "44a067e3-1a45-4f06-bd67-f33cfcfe3ee0"
   },
   "outputs": [
    {
     "name": "stdout",
     "output_type": "stream",
     "text": [
      "Fitting 8 folds for each of 15 candidates, totalling 120 fits\n",
      "[CV 1/8] END criterion=gini, max_features=3, min_samples_leaf=3, n_estimators=350;, score=0.583 total time=   0.4s\n",
      "[CV 2/8] END criterion=gini, max_features=3, min_samples_leaf=3, n_estimators=350;, score=0.472 total time=   0.3s\n",
      "[CV 3/8] END criterion=gini, max_features=3, min_samples_leaf=3, n_estimators=350;, score=0.694 total time=   0.3s\n",
      "[CV 4/8] END criterion=gini, max_features=3, min_samples_leaf=3, n_estimators=350;, score=0.750 total time=   0.3s\n",
      "[CV 5/8] END criterion=gini, max_features=3, min_samples_leaf=3, n_estimators=350;, score=0.583 total time=   0.3s\n",
      "[CV 6/8] END criterion=gini, max_features=3, min_samples_leaf=3, n_estimators=350;, score=0.444 total time=   0.3s\n",
      "[CV 7/8] END criterion=gini, max_features=3, min_samples_leaf=3, n_estimators=350;, score=0.556 total time=   0.3s\n",
      "[CV 8/8] END criterion=gini, max_features=3, min_samples_leaf=3, n_estimators=350;, score=0.417 total time=   0.3s\n",
      "[CV 1/8] END criterion=entropy, max_features=3, min_samples_leaf=3, n_estimators=150;, score=0.639 total time=   0.2s\n",
      "[CV 2/8] END criterion=entropy, max_features=3, min_samples_leaf=3, n_estimators=150;, score=0.583 total time=   0.2s\n",
      "[CV 3/8] END criterion=entropy, max_features=3, min_samples_leaf=3, n_estimators=150;, score=0.694 total time=   0.2s\n",
      "[CV 4/8] END criterion=entropy, max_features=3, min_samples_leaf=3, n_estimators=150;, score=0.694 total time=   0.2s\n",
      "[CV 5/8] END criterion=entropy, max_features=3, min_samples_leaf=3, n_estimators=150;, score=0.583 total time=   0.2s\n",
      "[CV 6/8] END criterion=entropy, max_features=3, min_samples_leaf=3, n_estimators=150;, score=0.472 total time=   0.2s\n",
      "[CV 7/8] END criterion=entropy, max_features=3, min_samples_leaf=3, n_estimators=150;, score=0.583 total time=   0.2s\n",
      "[CV 8/8] END criterion=entropy, max_features=3, min_samples_leaf=3, n_estimators=150;, score=0.472 total time=   0.2s\n",
      "[CV 1/8] END criterion=gini, max_features=2, min_samples_leaf=2, n_estimators=350;, score=0.611 total time=   0.3s\n",
      "[CV 2/8] END criterion=gini, max_features=2, min_samples_leaf=2, n_estimators=350;, score=0.528 total time=   0.3s\n",
      "[CV 3/8] END criterion=gini, max_features=2, min_samples_leaf=2, n_estimators=350;, score=0.750 total time=   0.3s\n",
      "[CV 4/8] END criterion=gini, max_features=2, min_samples_leaf=2, n_estimators=350;, score=0.694 total time=   0.3s\n",
      "[CV 5/8] END criterion=gini, max_features=2, min_samples_leaf=2, n_estimators=350;, score=0.556 total time=   0.3s\n",
      "[CV 6/8] END criterion=gini, max_features=2, min_samples_leaf=2, n_estimators=350;, score=0.417 total time=   0.3s\n",
      "[CV 7/8] END criterion=gini, max_features=2, min_samples_leaf=2, n_estimators=350;, score=0.556 total time=   0.3s\n",
      "[CV 8/8] END criterion=gini, max_features=2, min_samples_leaf=2, n_estimators=350;, score=0.389 total time=   0.3s\n",
      "[CV 1/8] END criterion=gini, max_features=1, min_samples_leaf=1, n_estimators=200;, score=0.611 total time=   0.2s\n",
      "[CV 2/8] END criterion=gini, max_features=1, min_samples_leaf=1, n_estimators=200;, score=0.556 total time=   0.2s\n",
      "[CV 3/8] END criterion=gini, max_features=1, min_samples_leaf=1, n_estimators=200;, score=0.778 total time=   0.2s\n",
      "[CV 4/8] END criterion=gini, max_features=1, min_samples_leaf=1, n_estimators=200;, score=0.750 total time=   0.2s\n",
      "[CV 5/8] END criterion=gini, max_features=1, min_samples_leaf=1, n_estimators=200;, score=0.611 total time=   0.2s\n",
      "[CV 6/8] END criterion=gini, max_features=1, min_samples_leaf=1, n_estimators=200;, score=0.472 total time=   0.2s\n",
      "[CV 7/8] END criterion=gini, max_features=1, min_samples_leaf=1, n_estimators=200;, score=0.472 total time=   0.2s\n",
      "[CV 8/8] END criterion=gini, max_features=1, min_samples_leaf=1, n_estimators=200;, score=0.500 total time=   0.2s\n",
      "[CV 1/8] END criterion=entropy, max_features=1, min_samples_leaf=3, n_estimators=150;, score=0.667 total time=   0.1s\n",
      "[CV 2/8] END criterion=entropy, max_features=1, min_samples_leaf=3, n_estimators=150;, score=0.528 total time=   0.1s\n",
      "[CV 3/8] END criterion=entropy, max_features=1, min_samples_leaf=3, n_estimators=150;, score=0.806 total time=   0.1s\n",
      "[CV 4/8] END criterion=entropy, max_features=1, min_samples_leaf=3, n_estimators=150;, score=0.722 total time=   0.1s\n",
      "[CV 5/8] END criterion=entropy, max_features=1, min_samples_leaf=3, n_estimators=150;, score=0.556 total time=   0.1s\n",
      "[CV 6/8] END criterion=entropy, max_features=1, min_samples_leaf=3, n_estimators=150;, score=0.472 total time=   0.1s\n",
      "[CV 7/8] END criterion=entropy, max_features=1, min_samples_leaf=3, n_estimators=150;, score=0.528 total time=   0.1s\n",
      "[CV 8/8] END criterion=entropy, max_features=1, min_samples_leaf=3, n_estimators=150;, score=0.444 total time=   0.1s\n",
      "[CV 1/8] END criterion=entropy, max_features=2, min_samples_leaf=3, n_estimators=200;, score=0.611 total time=   0.2s\n",
      "[CV 2/8] END criterion=entropy, max_features=2, min_samples_leaf=3, n_estimators=200;, score=0.500 total time=   0.2s\n",
      "[CV 3/8] END criterion=entropy, max_features=2, min_samples_leaf=3, n_estimators=200;, score=0.750 total time=   0.2s\n",
      "[CV 4/8] END criterion=entropy, max_features=2, min_samples_leaf=3, n_estimators=200;, score=0.667 total time=   0.2s\n",
      "[CV 5/8] END criterion=entropy, max_features=2, min_samples_leaf=3, n_estimators=200;, score=0.583 total time=   0.2s\n",
      "[CV 6/8] END criterion=entropy, max_features=2, min_samples_leaf=3, n_estimators=200;, score=0.417 total time=   0.2s\n",
      "[CV 7/8] END criterion=entropy, max_features=2, min_samples_leaf=3, n_estimators=200;, score=0.528 total time=   0.2s\n",
      "[CV 8/8] END criterion=entropy, max_features=2, min_samples_leaf=3, n_estimators=200;, score=0.472 total time=   0.2s\n",
      "[CV 1/8] END criterion=gini, max_features=3, min_samples_leaf=2, n_estimators=50;, score=0.611 total time=   0.0s\n",
      "[CV 2/8] END criterion=gini, max_features=3, min_samples_leaf=2, n_estimators=50;, score=0.639 total time=   0.0s\n",
      "[CV 3/8] END criterion=gini, max_features=3, min_samples_leaf=2, n_estimators=50;, score=0.750 total time=   0.0s\n",
      "[CV 4/8] END criterion=gini, max_features=3, min_samples_leaf=2, n_estimators=50;, score=0.694 total time=   0.0s\n",
      "[CV 5/8] END criterion=gini, max_features=3, min_samples_leaf=2, n_estimators=50;, score=0.583 total time=   0.0s\n",
      "[CV 6/8] END criterion=gini, max_features=3, min_samples_leaf=2, n_estimators=50;, score=0.472 total time=   0.0s\n",
      "[CV 7/8] END criterion=gini, max_features=3, min_samples_leaf=2, n_estimators=50;, score=0.500 total time=   0.0s\n",
      "[CV 8/8] END criterion=gini, max_features=3, min_samples_leaf=2, n_estimators=50;, score=0.472 total time=   0.0s\n",
      "[CV 1/8] END criterion=entropy, max_features=1, min_samples_leaf=2, n_estimators=250;, score=0.667 total time=   0.2s\n",
      "[CV 2/8] END criterion=entropy, max_features=1, min_samples_leaf=2, n_estimators=250;, score=0.528 total time=   0.2s\n",
      "[CV 3/8] END criterion=entropy, max_features=1, min_samples_leaf=2, n_estimators=250;, score=0.806 total time=   0.2s\n",
      "[CV 4/8] END criterion=entropy, max_features=1, min_samples_leaf=2, n_estimators=250;, score=0.667 total time=   0.2s\n",
      "[CV 5/8] END criterion=entropy, max_features=1, min_samples_leaf=2, n_estimators=250;, score=0.583 total time=   0.2s\n",
      "[CV 6/8] END criterion=entropy, max_features=1, min_samples_leaf=2, n_estimators=250;, score=0.417 total time=   0.2s\n",
      "[CV 7/8] END criterion=entropy, max_features=1, min_samples_leaf=2, n_estimators=250;, score=0.528 total time=   0.2s\n",
      "[CV 8/8] END criterion=entropy, max_features=1, min_samples_leaf=2, n_estimators=250;, score=0.472 total time=   0.2s\n",
      "[CV 1/8] END criterion=entropy, max_features=3, min_samples_leaf=1, n_estimators=100;, score=0.639 total time=   0.1s\n",
      "[CV 2/8] END criterion=entropy, max_features=3, min_samples_leaf=1, n_estimators=100;, score=0.556 total time=   0.1s\n",
      "[CV 3/8] END criterion=entropy, max_features=3, min_samples_leaf=1, n_estimators=100;, score=0.778 total time=   0.1s\n",
      "[CV 4/8] END criterion=entropy, max_features=3, min_samples_leaf=1, n_estimators=100;, score=0.639 total time=   0.1s\n",
      "[CV 5/8] END criterion=entropy, max_features=3, min_samples_leaf=1, n_estimators=100;, score=0.611 total time=   0.1s\n",
      "[CV 6/8] END criterion=entropy, max_features=3, min_samples_leaf=1, n_estimators=100;, score=0.417 total time=   0.1s\n",
      "[CV 7/8] END criterion=entropy, max_features=3, min_samples_leaf=1, n_estimators=100;, score=0.500 total time=   0.1s\n"
     ]
    },
    {
     "name": "stdout",
     "output_type": "stream",
     "text": [
      "[CV 8/8] END criterion=entropy, max_features=3, min_samples_leaf=1, n_estimators=100;, score=0.389 total time=   0.1s\n",
      "[CV 1/8] END criterion=gini, max_features=2, min_samples_leaf=1, n_estimators=200;, score=0.611 total time=   0.2s\n",
      "[CV 2/8] END criterion=gini, max_features=2, min_samples_leaf=1, n_estimators=200;, score=0.611 total time=   0.2s\n",
      "[CV 3/8] END criterion=gini, max_features=2, min_samples_leaf=1, n_estimators=200;, score=0.750 total time=   0.2s\n",
      "[CV 4/8] END criterion=gini, max_features=2, min_samples_leaf=1, n_estimators=200;, score=0.750 total time=   0.2s\n",
      "[CV 5/8] END criterion=gini, max_features=2, min_samples_leaf=1, n_estimators=200;, score=0.639 total time=   0.2s\n",
      "[CV 6/8] END criterion=gini, max_features=2, min_samples_leaf=1, n_estimators=200;, score=0.444 total time=   0.2s\n",
      "[CV 7/8] END criterion=gini, max_features=2, min_samples_leaf=1, n_estimators=200;, score=0.556 total time=   0.2s\n",
      "[CV 8/8] END criterion=gini, max_features=2, min_samples_leaf=1, n_estimators=200;, score=0.500 total time=   0.2s\n",
      "[CV 1/8] END criterion=entropy, max_features=3, min_samples_leaf=2, n_estimators=50;, score=0.639 total time=   0.1s\n",
      "[CV 2/8] END criterion=entropy, max_features=3, min_samples_leaf=2, n_estimators=50;, score=0.583 total time=   0.1s\n",
      "[CV 3/8] END criterion=entropy, max_features=3, min_samples_leaf=2, n_estimators=50;, score=0.694 total time=   0.1s\n",
      "[CV 4/8] END criterion=entropy, max_features=3, min_samples_leaf=2, n_estimators=50;, score=0.611 total time=   0.1s\n",
      "[CV 5/8] END criterion=entropy, max_features=3, min_samples_leaf=2, n_estimators=50;, score=0.639 total time=   0.1s\n",
      "[CV 6/8] END criterion=entropy, max_features=3, min_samples_leaf=2, n_estimators=50;, score=0.444 total time=   0.1s\n",
      "[CV 7/8] END criterion=entropy, max_features=3, min_samples_leaf=2, n_estimators=50;, score=0.556 total time=   0.1s\n",
      "[CV 8/8] END criterion=entropy, max_features=3, min_samples_leaf=2, n_estimators=50;, score=0.417 total time=   0.1s\n",
      "[CV 1/8] END criterion=gini, max_features=3, min_samples_leaf=2, n_estimators=100;, score=0.694 total time=   0.1s\n",
      "[CV 2/8] END criterion=gini, max_features=3, min_samples_leaf=2, n_estimators=100;, score=0.556 total time=   0.1s\n",
      "[CV 3/8] END criterion=gini, max_features=3, min_samples_leaf=2, n_estimators=100;, score=0.750 total time=   0.1s\n",
      "[CV 4/8] END criterion=gini, max_features=3, min_samples_leaf=2, n_estimators=100;, score=0.667 total time=   0.1s\n",
      "[CV 5/8] END criterion=gini, max_features=3, min_samples_leaf=2, n_estimators=100;, score=0.583 total time=   0.1s\n",
      "[CV 6/8] END criterion=gini, max_features=3, min_samples_leaf=2, n_estimators=100;, score=0.444 total time=   0.1s\n",
      "[CV 7/8] END criterion=gini, max_features=3, min_samples_leaf=2, n_estimators=100;, score=0.472 total time=   0.1s\n",
      "[CV 8/8] END criterion=gini, max_features=3, min_samples_leaf=2, n_estimators=100;, score=0.444 total time=   0.1s\n",
      "[CV 1/8] END criterion=entropy, max_features=2, min_samples_leaf=1, n_estimators=50;, score=0.639 total time=   0.1s\n",
      "[CV 2/8] END criterion=entropy, max_features=2, min_samples_leaf=1, n_estimators=50;, score=0.583 total time=   0.1s\n",
      "[CV 3/8] END criterion=entropy, max_features=2, min_samples_leaf=1, n_estimators=50;, score=0.750 total time=   0.1s\n",
      "[CV 4/8] END criterion=entropy, max_features=2, min_samples_leaf=1, n_estimators=50;, score=0.722 total time=   0.1s\n",
      "[CV 5/8] END criterion=entropy, max_features=2, min_samples_leaf=1, n_estimators=50;, score=0.639 total time=   0.1s\n",
      "[CV 6/8] END criterion=entropy, max_features=2, min_samples_leaf=1, n_estimators=50;, score=0.444 total time=   0.1s\n",
      "[CV 7/8] END criterion=entropy, max_features=2, min_samples_leaf=1, n_estimators=50;, score=0.500 total time=   0.1s\n",
      "[CV 8/8] END criterion=entropy, max_features=2, min_samples_leaf=1, n_estimators=50;, score=0.472 total time=   0.1s\n",
      "[CV 1/8] END criterion=entropy, max_features=2, min_samples_leaf=3, n_estimators=100;, score=0.639 total time=   0.1s\n",
      "[CV 2/8] END criterion=entropy, max_features=2, min_samples_leaf=3, n_estimators=100;, score=0.500 total time=   0.1s\n",
      "[CV 3/8] END criterion=entropy, max_features=2, min_samples_leaf=3, n_estimators=100;, score=0.667 total time=   0.1s\n",
      "[CV 4/8] END criterion=entropy, max_features=2, min_samples_leaf=3, n_estimators=100;, score=0.694 total time=   0.1s\n",
      "[CV 5/8] END criterion=entropy, max_features=2, min_samples_leaf=3, n_estimators=100;, score=0.528 total time=   0.1s\n",
      "[CV 6/8] END criterion=entropy, max_features=2, min_samples_leaf=3, n_estimators=100;, score=0.444 total time=   0.1s\n",
      "[CV 7/8] END criterion=entropy, max_features=2, min_samples_leaf=3, n_estimators=100;, score=0.528 total time=   0.1s\n",
      "[CV 8/8] END criterion=entropy, max_features=2, min_samples_leaf=3, n_estimators=100;, score=0.528 total time=   0.1s\n",
      "[CV 1/8] END criterion=gini, max_features=3, min_samples_leaf=3, n_estimators=100;, score=0.639 total time=   0.1s\n",
      "[CV 2/8] END criterion=gini, max_features=3, min_samples_leaf=3, n_estimators=100;, score=0.472 total time=   0.1s\n",
      "[CV 3/8] END criterion=gini, max_features=3, min_samples_leaf=3, n_estimators=100;, score=0.750 total time=   0.1s\n",
      "[CV 4/8] END criterion=gini, max_features=3, min_samples_leaf=3, n_estimators=100;, score=0.694 total time=   0.1s\n",
      "[CV 5/8] END criterion=gini, max_features=3, min_samples_leaf=3, n_estimators=100;, score=0.583 total time=   0.1s\n",
      "[CV 6/8] END criterion=gini, max_features=3, min_samples_leaf=3, n_estimators=100;, score=0.472 total time=   0.1s\n",
      "[CV 7/8] END criterion=gini, max_features=3, min_samples_leaf=3, n_estimators=100;, score=0.528 total time=   0.1s\n",
      "[CV 8/8] END criterion=gini, max_features=3, min_samples_leaf=3, n_estimators=100;, score=0.444 total time=   0.1s\n"
     ]
    },
    {
     "data": {
      "text/html": [
       "<style>#sk-container-id-3 {color: black;background-color: white;}#sk-container-id-3 pre{padding: 0;}#sk-container-id-3 div.sk-toggleable {background-color: white;}#sk-container-id-3 label.sk-toggleable__label {cursor: pointer;display: block;width: 100%;margin-bottom: 0;padding: 0.3em;box-sizing: border-box;text-align: center;}#sk-container-id-3 label.sk-toggleable__label-arrow:before {content: \"▸\";float: left;margin-right: 0.25em;color: #696969;}#sk-container-id-3 label.sk-toggleable__label-arrow:hover:before {color: black;}#sk-container-id-3 div.sk-estimator:hover label.sk-toggleable__label-arrow:before {color: black;}#sk-container-id-3 div.sk-toggleable__content {max-height: 0;max-width: 0;overflow: hidden;text-align: left;background-color: #f0f8ff;}#sk-container-id-3 div.sk-toggleable__content pre {margin: 0.2em;color: black;border-radius: 0.25em;background-color: #f0f8ff;}#sk-container-id-3 input.sk-toggleable__control:checked~div.sk-toggleable__content {max-height: 200px;max-width: 100%;overflow: auto;}#sk-container-id-3 input.sk-toggleable__control:checked~label.sk-toggleable__label-arrow:before {content: \"▾\";}#sk-container-id-3 div.sk-estimator input.sk-toggleable__control:checked~label.sk-toggleable__label {background-color: #d4ebff;}#sk-container-id-3 div.sk-label input.sk-toggleable__control:checked~label.sk-toggleable__label {background-color: #d4ebff;}#sk-container-id-3 input.sk-hidden--visually {border: 0;clip: rect(1px 1px 1px 1px);clip: rect(1px, 1px, 1px, 1px);height: 1px;margin: -1px;overflow: hidden;padding: 0;position: absolute;width: 1px;}#sk-container-id-3 div.sk-estimator {font-family: monospace;background-color: #f0f8ff;border: 1px dotted black;border-radius: 0.25em;box-sizing: border-box;margin-bottom: 0.5em;}#sk-container-id-3 div.sk-estimator:hover {background-color: #d4ebff;}#sk-container-id-3 div.sk-parallel-item::after {content: \"\";width: 100%;border-bottom: 1px solid gray;flex-grow: 1;}#sk-container-id-3 div.sk-label:hover label.sk-toggleable__label {background-color: #d4ebff;}#sk-container-id-3 div.sk-serial::before {content: \"\";position: absolute;border-left: 1px solid gray;box-sizing: border-box;top: 0;bottom: 0;left: 50%;z-index: 0;}#sk-container-id-3 div.sk-serial {display: flex;flex-direction: column;align-items: center;background-color: white;padding-right: 0.2em;padding-left: 0.2em;position: relative;}#sk-container-id-3 div.sk-item {position: relative;z-index: 1;}#sk-container-id-3 div.sk-parallel {display: flex;align-items: stretch;justify-content: center;background-color: white;position: relative;}#sk-container-id-3 div.sk-item::before, #sk-container-id-3 div.sk-parallel-item::before {content: \"\";position: absolute;border-left: 1px solid gray;box-sizing: border-box;top: 0;bottom: 0;left: 50%;z-index: -1;}#sk-container-id-3 div.sk-parallel-item {display: flex;flex-direction: column;z-index: 1;position: relative;background-color: white;}#sk-container-id-3 div.sk-parallel-item:first-child::after {align-self: flex-end;width: 50%;}#sk-container-id-3 div.sk-parallel-item:last-child::after {align-self: flex-start;width: 50%;}#sk-container-id-3 div.sk-parallel-item:only-child::after {width: 0;}#sk-container-id-3 div.sk-dashed-wrapped {border: 1px dashed gray;margin: 0 0.4em 0.5em 0.4em;box-sizing: border-box;padding-bottom: 0.4em;background-color: white;}#sk-container-id-3 div.sk-label label {font-family: monospace;font-weight: bold;display: inline-block;line-height: 1.2em;}#sk-container-id-3 div.sk-label-container {text-align: center;}#sk-container-id-3 div.sk-container {/* jupyter's `normalize.less` sets `[hidden] { display: none; }` but bootstrap.min.css set `[hidden] { display: none !important; }` so we also need the `!important` here to be able to override the default hidden behavior on the sphinx rendered scikit-learn.org. See: https://github.com/scikit-learn/scikit-learn/issues/21755 */display: inline-block !important;position: relative;}#sk-container-id-3 div.sk-text-repr-fallback {display: none;}</style><div id=\"sk-container-id-3\" class=\"sk-top-container\"><div class=\"sk-text-repr-fallback\"><pre>RandomizedSearchCV(cv=8, estimator=RandomForestClassifier(), n_iter=15,\n",
       "                   param_distributions={&#x27;criterion&#x27;: [&#x27;gini&#x27;, &#x27;entropy&#x27;],\n",
       "                                        &#x27;max_features&#x27;: [1, 2, 3],\n",
       "                                        &#x27;min_samples_leaf&#x27;: [1, 2, 3],\n",
       "                                        &#x27;n_estimators&#x27;: [50, 100, 150, 200, 250,\n",
       "                                                         300, 350]},\n",
       "                   verbose=3)</pre><b>In a Jupyter environment, please rerun this cell to show the HTML representation or trust the notebook. <br />On GitHub, the HTML representation is unable to render, please try loading this page with nbviewer.org.</b></div><div class=\"sk-container\" hidden><div class=\"sk-item sk-dashed-wrapped\"><div class=\"sk-label-container\"><div class=\"sk-label sk-toggleable\"><input class=\"sk-toggleable__control sk-hidden--visually\" id=\"sk-estimator-id-5\" type=\"checkbox\" ><label for=\"sk-estimator-id-5\" class=\"sk-toggleable__label sk-toggleable__label-arrow\">RandomizedSearchCV</label><div class=\"sk-toggleable__content\"><pre>RandomizedSearchCV(cv=8, estimator=RandomForestClassifier(), n_iter=15,\n",
       "                   param_distributions={&#x27;criterion&#x27;: [&#x27;gini&#x27;, &#x27;entropy&#x27;],\n",
       "                                        &#x27;max_features&#x27;: [1, 2, 3],\n",
       "                                        &#x27;min_samples_leaf&#x27;: [1, 2, 3],\n",
       "                                        &#x27;n_estimators&#x27;: [50, 100, 150, 200, 250,\n",
       "                                                         300, 350]},\n",
       "                   verbose=3)</pre></div></div></div><div class=\"sk-parallel\"><div class=\"sk-parallel-item\"><div class=\"sk-item\"><div class=\"sk-label-container\"><div class=\"sk-label sk-toggleable\"><input class=\"sk-toggleable__control sk-hidden--visually\" id=\"sk-estimator-id-6\" type=\"checkbox\" ><label for=\"sk-estimator-id-6\" class=\"sk-toggleable__label sk-toggleable__label-arrow\">estimator: RandomForestClassifier</label><div class=\"sk-toggleable__content\"><pre>RandomForestClassifier()</pre></div></div></div><div class=\"sk-serial\"><div class=\"sk-item\"><div class=\"sk-estimator sk-toggleable\"><input class=\"sk-toggleable__control sk-hidden--visually\" id=\"sk-estimator-id-7\" type=\"checkbox\" ><label for=\"sk-estimator-id-7\" class=\"sk-toggleable__label sk-toggleable__label-arrow\">RandomForestClassifier</label><div class=\"sk-toggleable__content\"><pre>RandomForestClassifier()</pre></div></div></div></div></div></div></div></div></div></div>"
      ],
      "text/plain": [
       "RandomizedSearchCV(cv=8, estimator=RandomForestClassifier(), n_iter=15,\n",
       "                   param_distributions={'criterion': ['gini', 'entropy'],\n",
       "                                        'max_features': [1, 2, 3],\n",
       "                                        'min_samples_leaf': [1, 2, 3],\n",
       "                                        'n_estimators': [50, 100, 150, 200, 250,\n",
       "                                                         300, 350]},\n",
       "                   verbose=3)"
      ]
     },
     "execution_count": 11,
     "metadata": {},
     "output_type": "execute_result"
    }
   ],
   "source": [
    "### Hyperparameter Tunning ###\n",
    "rfc_params = {\n",
    "    \"n_estimators\":[50, 100, 150, 200, 250, 300, 350],\n",
    "    \"min_samples_leaf\":[1, 2, 3],\n",
    "    \"max_features\":[1, 2, 3],\n",
    "    \"criterion\":[\"gini\", \"entropy\"]\n",
    "}\n",
    "ran_search_rfc = RandomizedSearchCV(RandomForestClassifier(), param_distributions = rfc_params, n_iter = 15, cv = 8, verbose = 3)\n",
    "ran_search_rfc.fit(X_train, np.array(y_train))"
   ]
  },
  {
   "cell_type": "markdown",
   "id": "066c4d09",
   "metadata": {},
   "source": [
    "#### Model Selection:"
   ]
  },
  {
   "cell_type": "code",
   "execution_count": 12,
   "id": "334sza81cSg8",
   "metadata": {
    "colab": {
     "base_uri": "https://localhost:8080/"
    },
    "executionInfo": {
     "elapsed": 2018,
     "status": "ok",
     "timestamp": 1644259166393,
     "user": {
      "displayName": "Chanaka Prabath",
      "photoUrl": "https://lh3.googleusercontent.com/a-/AOh14GgY5HW7P6KjGUyZKUMsO5Mog94LL5YjDTBpJrgS=s64",
      "userId": "17014943137112987779"
     },
     "user_tz": -330
    },
    "id": "334sza81cSg8",
    "outputId": "342e1735-b925-4762-f76e-702bc1e97844"
   },
   "outputs": [
    {
     "data": {
      "text/html": [
       "<style>#sk-container-id-4 {color: black;background-color: white;}#sk-container-id-4 pre{padding: 0;}#sk-container-id-4 div.sk-toggleable {background-color: white;}#sk-container-id-4 label.sk-toggleable__label {cursor: pointer;display: block;width: 100%;margin-bottom: 0;padding: 0.3em;box-sizing: border-box;text-align: center;}#sk-container-id-4 label.sk-toggleable__label-arrow:before {content: \"▸\";float: left;margin-right: 0.25em;color: #696969;}#sk-container-id-4 label.sk-toggleable__label-arrow:hover:before {color: black;}#sk-container-id-4 div.sk-estimator:hover label.sk-toggleable__label-arrow:before {color: black;}#sk-container-id-4 div.sk-toggleable__content {max-height: 0;max-width: 0;overflow: hidden;text-align: left;background-color: #f0f8ff;}#sk-container-id-4 div.sk-toggleable__content pre {margin: 0.2em;color: black;border-radius: 0.25em;background-color: #f0f8ff;}#sk-container-id-4 input.sk-toggleable__control:checked~div.sk-toggleable__content {max-height: 200px;max-width: 100%;overflow: auto;}#sk-container-id-4 input.sk-toggleable__control:checked~label.sk-toggleable__label-arrow:before {content: \"▾\";}#sk-container-id-4 div.sk-estimator input.sk-toggleable__control:checked~label.sk-toggleable__label {background-color: #d4ebff;}#sk-container-id-4 div.sk-label input.sk-toggleable__control:checked~label.sk-toggleable__label {background-color: #d4ebff;}#sk-container-id-4 input.sk-hidden--visually {border: 0;clip: rect(1px 1px 1px 1px);clip: rect(1px, 1px, 1px, 1px);height: 1px;margin: -1px;overflow: hidden;padding: 0;position: absolute;width: 1px;}#sk-container-id-4 div.sk-estimator {font-family: monospace;background-color: #f0f8ff;border: 1px dotted black;border-radius: 0.25em;box-sizing: border-box;margin-bottom: 0.5em;}#sk-container-id-4 div.sk-estimator:hover {background-color: #d4ebff;}#sk-container-id-4 div.sk-parallel-item::after {content: \"\";width: 100%;border-bottom: 1px solid gray;flex-grow: 1;}#sk-container-id-4 div.sk-label:hover label.sk-toggleable__label {background-color: #d4ebff;}#sk-container-id-4 div.sk-serial::before {content: \"\";position: absolute;border-left: 1px solid gray;box-sizing: border-box;top: 0;bottom: 0;left: 50%;z-index: 0;}#sk-container-id-4 div.sk-serial {display: flex;flex-direction: column;align-items: center;background-color: white;padding-right: 0.2em;padding-left: 0.2em;position: relative;}#sk-container-id-4 div.sk-item {position: relative;z-index: 1;}#sk-container-id-4 div.sk-parallel {display: flex;align-items: stretch;justify-content: center;background-color: white;position: relative;}#sk-container-id-4 div.sk-item::before, #sk-container-id-4 div.sk-parallel-item::before {content: \"\";position: absolute;border-left: 1px solid gray;box-sizing: border-box;top: 0;bottom: 0;left: 50%;z-index: -1;}#sk-container-id-4 div.sk-parallel-item {display: flex;flex-direction: column;z-index: 1;position: relative;background-color: white;}#sk-container-id-4 div.sk-parallel-item:first-child::after {align-self: flex-end;width: 50%;}#sk-container-id-4 div.sk-parallel-item:last-child::after {align-self: flex-start;width: 50%;}#sk-container-id-4 div.sk-parallel-item:only-child::after {width: 0;}#sk-container-id-4 div.sk-dashed-wrapped {border: 1px dashed gray;margin: 0 0.4em 0.5em 0.4em;box-sizing: border-box;padding-bottom: 0.4em;background-color: white;}#sk-container-id-4 div.sk-label label {font-family: monospace;font-weight: bold;display: inline-block;line-height: 1.2em;}#sk-container-id-4 div.sk-label-container {text-align: center;}#sk-container-id-4 div.sk-container {/* jupyter's `normalize.less` sets `[hidden] { display: none; }` but bootstrap.min.css set `[hidden] { display: none !important; }` so we also need the `!important` here to be able to override the default hidden behavior on the sphinx rendered scikit-learn.org. See: https://github.com/scikit-learn/scikit-learn/issues/21755 */display: inline-block !important;position: relative;}#sk-container-id-4 div.sk-text-repr-fallback {display: none;}</style><div id=\"sk-container-id-4\" class=\"sk-top-container\"><div class=\"sk-text-repr-fallback\"><pre>RandomForestClassifier(max_features=2, n_estimators=200)</pre><b>In a Jupyter environment, please rerun this cell to show the HTML representation or trust the notebook. <br />On GitHub, the HTML representation is unable to render, please try loading this page with nbviewer.org.</b></div><div class=\"sk-container\" hidden><div class=\"sk-item\"><div class=\"sk-estimator sk-toggleable\"><input class=\"sk-toggleable__control sk-hidden--visually\" id=\"sk-estimator-id-8\" type=\"checkbox\" checked><label for=\"sk-estimator-id-8\" class=\"sk-toggleable__label sk-toggleable__label-arrow\">RandomForestClassifier</label><div class=\"sk-toggleable__content\"><pre>RandomForestClassifier(max_features=2, n_estimators=200)</pre></div></div></div></div></div>"
      ],
      "text/plain": [
       "RandomForestClassifier(max_features=2, n_estimators=200)"
      ]
     },
     "execution_count": 12,
     "metadata": {},
     "output_type": "execute_result"
    }
   ],
   "source": [
    "rfc = ran_search_rfc.best_estimator_ # Selecting the best model.\n",
    "rfc.fit(X_train, np.array(y_train)) # Fitting the training data."
   ]
  },
  {
   "cell_type": "markdown",
   "id": "c6003c5b",
   "metadata": {},
   "source": [
    "#### Accuracy, Confusion Matrix and ROC Plot:"
   ]
  },
  {
   "cell_type": "code",
   "execution_count": 13,
   "id": "wpURU1GL8_0O",
   "metadata": {
    "colab": {
     "base_uri": "https://localhost:8080/",
     "height": 1000
    },
    "executionInfo": {
     "elapsed": 15,
     "status": "ok",
     "timestamp": 1644259166394,
     "user": {
      "displayName": "Chanaka Prabath",
      "photoUrl": "https://lh3.googleusercontent.com/a-/AOh14GgY5HW7P6KjGUyZKUMsO5Mog94LL5YjDTBpJrgS=s64",
      "userId": "17014943137112987779"
     },
     "user_tz": -330
    },
    "id": "wpURU1GL8_0O",
    "outputId": "f7ff67c2-8cf3-4f80-a7a3-06cea188fa42"
   },
   "outputs": [
    {
     "name": "stdout",
     "output_type": "stream",
     "text": [
      "Training Accuracy:  1.0\n",
      "Testing Accuracy:  0.6527777777777778\n"
     ]
    },
    {
     "data": {
      "image/png": "[encoded data removed]",
      "text/plain": [
       "<Figure size 720x504 with 2 Axes>"
      ]
     },
     "metadata": {
      "needs_background": "light"
     },
     "output_type": "display_data"
    },
    {
     "name": "stderr",
     "output_type": "stream",
     "text": [
      "/home/sumon/anaconda3/lib/python3.9/site-packages/sklearn/metrics/_ranking.py:1018: UndefinedMetricWarning: No positive samples in y_true, true positive value should be meaningless\n",
      "  warnings.warn(\n",
      "/home/sumon/anaconda3/lib/python3.9/site-packages/sklearn/metrics/_ranking.py:1018: UndefinedMetricWarning: No positive samples in y_true, true positive value should be meaningless\n",
      "  warnings.warn(\n",
      "/home/sumon/anaconda3/lib/python3.9/site-packages/sklearn/metrics/_ranking.py:1018: UndefinedMetricWarning: No positive samples in y_true, true positive value should be meaningless\n",
      "  warnings.warn(\n",
      "/home/sumon/anaconda3/lib/python3.9/site-packages/sklearn/metrics/_ranking.py:1018: UndefinedMetricWarning: No positive samples in y_true, true positive value should be meaningless\n",
      "  warnings.warn(\n",
      "/home/sumon/anaconda3/lib/python3.9/site-packages/sklearn/metrics/_ranking.py:1018: UndefinedMetricWarning: No positive samples in y_true, true positive value should be meaningless\n",
      "  warnings.warn(\n",
      "/home/sumon/anaconda3/lib/python3.9/site-packages/sklearn/metrics/_ranking.py:1018: UndefinedMetricWarning: No positive samples in y_true, true positive value should be meaningless\n",
      "  warnings.warn(\n",
      "/home/sumon/anaconda3/lib/python3.9/site-packages/sklearn/metrics/_ranking.py:1018: UndefinedMetricWarning: No positive samples in y_true, true positive value should be meaningless\n",
      "  warnings.warn(\n"
     ]
    },
    {
     "data": {
      "image/png": "[encoded data removed]",
      "text/plain": [
       "<Figure size 432x288 with 1 Axes>"
      ]
     },
     "metadata": {
      "needs_background": "light"
     },
     "output_type": "display_data"
    }
   ],
   "source": [
    "y_pred_rfc = rfc.predict(X_test) # Prediction on test data\n",
    "test_acc_rfc = rfc.score(X_test, np.array(y_test)) # Testing accuracy\n",
    "train_acc_rfc = rfc.score(X_train,  np.array(y_train)) # Training accuracy\n",
    "print(\"Training Accuracy: \", train_acc_rfc)\n",
    "print(\"Testing Accuracy: \", test_acc_rfc)\n",
    "con_matrix(y_pred_rfc, np.array(y_test))\n",
    "plot_roc(X_test, y_test, rfc)"
   ]
  },
  {
   "cell_type": "markdown",
   "id": "iENxMGjncY_E",
   "metadata": {
    "id": "iENxMGjncY_E"
   },
   "source": [
    "#### Logistic Regression\n",
    "Reference: https://scikit-learn.org/stable/modules/generated/sklearn.linear_model.LogisticRegression.html"
   ]
  },
  {
   "cell_type": "code",
   "execution_count": 14,
   "id": "kL2CV5HxcdUc",
   "metadata": {
    "colab": {
     "base_uri": "https://localhost:8080/"
    },
    "executionInfo": {
     "elapsed": 20600,
     "status": "ok",
     "timestamp": 1644259186985,
     "user": {
      "displayName": "Chanaka Prabath",
      "photoUrl": "https://lh3.googleusercontent.com/a-/AOh14GgY5HW7P6KjGUyZKUMsO5Mog94LL5YjDTBpJrgS=s64",
      "userId": "17014943137112987779"
     },
     "user_tz": -330
    },
    "id": "kL2CV5HxcdUc",
    "outputId": "5b7b1f0a-3b66-4312-f18b-36c1242bda38"
   },
   "outputs": [
    {
     "name": "stderr",
     "output_type": "stream",
     "text": [
      "/home/sumon/anaconda3/lib/python3.9/site-packages/sklearn/linear_model/_logistic.py:444: ConvergenceWarning: lbfgs failed to converge (status=1):\n",
      "STOP: TOTAL NO. of ITERATIONS REACHED LIMIT.\n",
      "\n",
      "Increase the number of iterations (max_iter) or scale the data as shown in:\n",
      "    https://scikit-learn.org/stable/modules/preprocessing.html\n",
      "Please also refer to the documentation for alternative solver options:\n",
      "    https://scikit-learn.org/stable/modules/linear_model.html#logistic-regression\n",
      "  n_iter_i = _check_optimize_result(\n",
      "/home/sumon/anaconda3/lib/python3.9/site-packages/sklearn/linear_model/_logistic.py:444: ConvergenceWarning: lbfgs failed to converge (status=1):\n",
      "STOP: TOTAL NO. of ITERATIONS REACHED LIMIT.\n",
      "\n",
      "Increase the number of iterations (max_iter) or scale the data as shown in:\n",
      "    https://scikit-learn.org/stable/modules/preprocessing.html\n",
      "Please also refer to the documentation for alternative solver options:\n",
      "    https://scikit-learn.org/stable/modules/linear_model.html#logistic-regression\n",
      "  n_iter_i = _check_optimize_result(\n",
      "/home/sumon/anaconda3/lib/python3.9/site-packages/sklearn/linear_model/_logistic.py:444: ConvergenceWarning: lbfgs failed to converge (status=1):\n",
      "STOP: TOTAL NO. of ITERATIONS REACHED LIMIT.\n",
      "\n",
      "Increase the number of iterations (max_iter) or scale the data as shown in:\n",
      "    https://scikit-learn.org/stable/modules/preprocessing.html\n",
      "Please also refer to the documentation for alternative solver options:\n",
      "    https://scikit-learn.org/stable/modules/linear_model.html#logistic-regression\n",
      "  n_iter_i = _check_optimize_result(\n",
      "/home/sumon/anaconda3/lib/python3.9/site-packages/sklearn/linear_model/_logistic.py:444: ConvergenceWarning: lbfgs failed to converge (status=1):\n",
      "STOP: TOTAL NO. of ITERATIONS REACHED LIMIT.\n",
      "\n",
      "Increase the number of iterations (max_iter) or scale the data as shown in:\n",
      "    https://scikit-learn.org/stable/modules/preprocessing.html\n",
      "Please also refer to the documentation for alternative solver options:\n",
      "    https://scikit-learn.org/stable/modules/linear_model.html#logistic-regression\n",
      "  n_iter_i = _check_optimize_result(\n"
     ]
    },
    {
     "name": "stdout",
     "output_type": "stream",
     "text": [
      "Fitting 8 folds for each of 15 candidates, totalling 120 fits\n",
      "[CV 1/8] END C=1.5, multi_class=auto, solver=lbfgs;, score=0.444 total time=   0.0s\n",
      "[CV 2/8] END C=1.5, multi_class=auto, solver=lbfgs;, score=0.500 total time=   0.0s\n",
      "[CV 3/8] END C=1.5, multi_class=auto, solver=lbfgs;, score=0.694 total time=   0.0s\n",
      "[CV 4/8] END C=1.5, multi_class=auto, solver=lbfgs;, score=0.528 total time=   0.0s\n",
      "[CV 5/8] END C=1.5, multi_class=auto, solver=lbfgs;, score=0.583 total time=   0.0s\n",
      "[CV 6/8] END C=1.5, multi_class=auto, solver=lbfgs;, score=0.528 total time=   0.0s\n",
      "[CV 7/8] END C=1.5, multi_class=auto, solver=lbfgs;, score=0.444 total time=   0.0s\n",
      "[CV 8/8] END C=1.5, multi_class=auto, solver=lbfgs;, score=0.472 total time=   0.0s\n"
     ]
    },
    {
     "name": "stderr",
     "output_type": "stream",
     "text": [
      "/home/sumon/anaconda3/lib/python3.9/site-packages/sklearn/linear_model/_logistic.py:444: ConvergenceWarning: lbfgs failed to converge (status=1):\n",
      "STOP: TOTAL NO. of ITERATIONS REACHED LIMIT.\n",
      "\n",
      "Increase the number of iterations (max_iter) or scale the data as shown in:\n",
      "    https://scikit-learn.org/stable/modules/preprocessing.html\n",
      "Please also refer to the documentation for alternative solver options:\n",
      "    https://scikit-learn.org/stable/modules/linear_model.html#logistic-regression\n",
      "  n_iter_i = _check_optimize_result(\n",
      "/home/sumon/anaconda3/lib/python3.9/site-packages/sklearn/linear_model/_logistic.py:444: ConvergenceWarning: lbfgs failed to converge (status=1):\n",
      "STOP: TOTAL NO. of ITERATIONS REACHED LIMIT.\n",
      "\n",
      "Increase the number of iterations (max_iter) or scale the data as shown in:\n",
      "    https://scikit-learn.org/stable/modules/preprocessing.html\n",
      "Please also refer to the documentation for alternative solver options:\n",
      "    https://scikit-learn.org/stable/modules/linear_model.html#logistic-regression\n",
      "  n_iter_i = _check_optimize_result(\n",
      "/home/sumon/anaconda3/lib/python3.9/site-packages/sklearn/linear_model/_logistic.py:444: ConvergenceWarning: lbfgs failed to converge (status=1):\n",
      "STOP: TOTAL NO. of ITERATIONS REACHED LIMIT.\n",
      "\n",
      "Increase the number of iterations (max_iter) or scale the data as shown in:\n",
      "    https://scikit-learn.org/stable/modules/preprocessing.html\n",
      "Please also refer to the documentation for alternative solver options:\n",
      "    https://scikit-learn.org/stable/modules/linear_model.html#logistic-regression\n",
      "  n_iter_i = _check_optimize_result(\n",
      "/home/sumon/anaconda3/lib/python3.9/site-packages/sklearn/linear_model/_logistic.py:444: ConvergenceWarning: lbfgs failed to converge (status=1):\n",
      "STOP: TOTAL NO. of ITERATIONS REACHED LIMIT.\n",
      "\n",
      "Increase the number of iterations (max_iter) or scale the data as shown in:\n",
      "    https://scikit-learn.org/stable/modules/preprocessing.html\n",
      "Please also refer to the documentation for alternative solver options:\n",
      "    https://scikit-learn.org/stable/modules/linear_model.html#logistic-regression\n",
      "  n_iter_i = _check_optimize_result(\n",
      "/home/sumon/anaconda3/lib/python3.9/site-packages/sklearn/utils/optimize.py:210: ConvergenceWarning: newton-cg failed to converge. Increase the number of iterations.\n",
      "  warnings.warn(\n"
     ]
    },
    {
     "name": "stdout",
     "output_type": "stream",
     "text": [
      "[CV 1/8] END C=1.0, multi_class=auto, solver=newton-cg;, score=0.583 total time=   0.7s\n"
     ]
    },
    {
     "name": "stderr",
     "output_type": "stream",
     "text": [
      "/home/sumon/anaconda3/lib/python3.9/site-packages/sklearn/utils/optimize.py:210: ConvergenceWarning: newton-cg failed to converge. Increase the number of iterations.\n",
      "  warnings.warn(\n"
     ]
    },
    {
     "name": "stdout",
     "output_type": "stream",
     "text": [
      "[CV 2/8] END C=1.0, multi_class=auto, solver=newton-cg;, score=0.583 total time=   0.7s\n"
     ]
    },
    {
     "name": "stderr",
     "output_type": "stream",
     "text": [
      "/home/sumon/anaconda3/lib/python3.9/site-packages/sklearn/utils/optimize.py:210: ConvergenceWarning: newton-cg failed to converge. Increase the number of iterations.\n",
      "  warnings.warn(\n"
     ]
    },
    {
     "name": "stdout",
     "output_type": "stream",
     "text": [
      "[CV 3/8] END C=1.0, multi_class=auto, solver=newton-cg;, score=0.694 total time=   0.7s\n"
     ]
    },
    {
     "name": "stderr",
     "output_type": "stream",
     "text": [
      "/home/sumon/anaconda3/lib/python3.9/site-packages/sklearn/utils/optimize.py:210: ConvergenceWarning: newton-cg failed to converge. Increase the number of iterations.\n",
      "  warnings.warn(\n"
     ]
    },
    {
     "name": "stdout",
     "output_type": "stream",
     "text": [
      "[CV 4/8] END C=1.0, multi_class=auto, solver=newton-cg;, score=0.750 total time=   0.7s\n"
     ]
    },
    {
     "name": "stderr",
     "output_type": "stream",
     "text": [
      "/home/sumon/anaconda3/lib/python3.9/site-packages/sklearn/utils/optimize.py:210: ConvergenceWarning: newton-cg failed to converge. Increase the number of iterations.\n",
      "  warnings.warn(\n"
     ]
    },
    {
     "name": "stdout",
     "output_type": "stream",
     "text": [
      "[CV 5/8] END C=1.0, multi_class=auto, solver=newton-cg;, score=0.667 total time=   0.7s\n"
     ]
    },
    {
     "name": "stderr",
     "output_type": "stream",
     "text": [
      "/home/sumon/anaconda3/lib/python3.9/site-packages/sklearn/utils/optimize.py:210: ConvergenceWarning: newton-cg failed to converge. Increase the number of iterations.\n",
      "  warnings.warn(\n"
     ]
    },
    {
     "name": "stdout",
     "output_type": "stream",
     "text": [
      "[CV 6/8] END C=1.0, multi_class=auto, solver=newton-cg;, score=0.611 total time=   0.7s\n"
     ]
    },
    {
     "name": "stderr",
     "output_type": "stream",
     "text": [
      "/home/sumon/anaconda3/lib/python3.9/site-packages/sklearn/utils/optimize.py:210: ConvergenceWarning: newton-cg failed to converge. Increase the number of iterations.\n",
      "  warnings.warn(\n"
     ]
    },
    {
     "name": "stdout",
     "output_type": "stream",
     "text": [
      "[CV 7/8] END C=1.0, multi_class=auto, solver=newton-cg;, score=0.472 total time=   0.7s\n"
     ]
    },
    {
     "name": "stderr",
     "output_type": "stream",
     "text": [
      "/home/sumon/anaconda3/lib/python3.9/site-packages/sklearn/utils/optimize.py:210: ConvergenceWarning: newton-cg failed to converge. Increase the number of iterations.\n",
      "  warnings.warn(\n",
      "/home/sumon/anaconda3/lib/python3.9/site-packages/sklearn/linear_model/_logistic.py:444: ConvergenceWarning: lbfgs failed to converge (status=1):\n",
      "STOP: TOTAL NO. of ITERATIONS REACHED LIMIT.\n",
      "\n",
      "Increase the number of iterations (max_iter) or scale the data as shown in:\n",
      "    https://scikit-learn.org/stable/modules/preprocessing.html\n",
      "Please also refer to the documentation for alternative solver options:\n",
      "    https://scikit-learn.org/stable/modules/linear_model.html#logistic-regression\n",
      "  n_iter_i = _check_optimize_result(\n",
      "/home/sumon/anaconda3/lib/python3.9/site-packages/sklearn/linear_model/_logistic.py:444: ConvergenceWarning: lbfgs failed to converge (status=1):\n",
      "STOP: TOTAL NO. of ITERATIONS REACHED LIMIT.\n",
      "\n",
      "Increase the number of iterations (max_iter) or scale the data as shown in:\n",
      "    https://scikit-learn.org/stable/modules/preprocessing.html\n",
      "Please also refer to the documentation for alternative solver options:\n",
      "    https://scikit-learn.org/stable/modules/linear_model.html#logistic-regression\n",
      "  n_iter_i = _check_optimize_result(\n",
      "/home/sumon/anaconda3/lib/python3.9/site-packages/sklearn/linear_model/_logistic.py:444: ConvergenceWarning: lbfgs failed to converge (status=1):\n",
      "STOP: TOTAL NO. of ITERATIONS REACHED LIMIT.\n",
      "\n",
      "Increase the number of iterations (max_iter) or scale the data as shown in:\n",
      "    https://scikit-learn.org/stable/modules/preprocessing.html\n",
      "Please also refer to the documentation for alternative solver options:\n",
      "    https://scikit-learn.org/stable/modules/linear_model.html#logistic-regression\n",
      "  n_iter_i = _check_optimize_result(\n",
      "/home/sumon/anaconda3/lib/python3.9/site-packages/sklearn/linear_model/_logistic.py:444: ConvergenceWarning: lbfgs failed to converge (status=1):\n",
      "STOP: TOTAL NO. of ITERATIONS REACHED LIMIT.\n",
      "\n",
      "Increase the number of iterations (max_iter) or scale the data as shown in:\n",
      "    https://scikit-learn.org/stable/modules/preprocessing.html\n",
      "Please also refer to the documentation for alternative solver options:\n",
      "    https://scikit-learn.org/stable/modules/linear_model.html#logistic-regression\n",
      "  n_iter_i = _check_optimize_result(\n",
      "/home/sumon/anaconda3/lib/python3.9/site-packages/sklearn/linear_model/_logistic.py:444: ConvergenceWarning: lbfgs failed to converge (status=1):\n",
      "STOP: TOTAL NO. of ITERATIONS REACHED LIMIT.\n",
      "\n",
      "Increase the number of iterations (max_iter) or scale the data as shown in:\n",
      "    https://scikit-learn.org/stable/modules/preprocessing.html\n",
      "Please also refer to the documentation for alternative solver options:\n",
      "    https://scikit-learn.org/stable/modules/linear_model.html#logistic-regression\n",
      "  n_iter_i = _check_optimize_result(\n",
      "/home/sumon/anaconda3/lib/python3.9/site-packages/sklearn/linear_model/_logistic.py:444: ConvergenceWarning: lbfgs failed to converge (status=1):\n",
      "STOP: TOTAL NO. of ITERATIONS REACHED LIMIT.\n",
      "\n",
      "Increase the number of iterations (max_iter) or scale the data as shown in:\n",
      "    https://scikit-learn.org/stable/modules/preprocessing.html\n",
      "Please also refer to the documentation for alternative solver options:\n",
      "    https://scikit-learn.org/stable/modules/linear_model.html#logistic-regression\n",
      "  n_iter_i = _check_optimize_result(\n",
      "/home/sumon/anaconda3/lib/python3.9/site-packages/sklearn/linear_model/_logistic.py:444: ConvergenceWarning: lbfgs failed to converge (status=1):\n",
      "STOP: TOTAL NO. of ITERATIONS REACHED LIMIT.\n",
      "\n",
      "Increase the number of iterations (max_iter) or scale the data as shown in:\n",
      "    https://scikit-learn.org/stable/modules/preprocessing.html\n",
      "Please also refer to the documentation for alternative solver options:\n",
      "    https://scikit-learn.org/stable/modules/linear_model.html#logistic-regression\n",
      "  n_iter_i = _check_optimize_result(\n",
      "/home/sumon/anaconda3/lib/python3.9/site-packages/sklearn/linear_model/_logistic.py:444: ConvergenceWarning: lbfgs failed to converge (status=1):\n",
      "STOP: TOTAL NO. of ITERATIONS REACHED LIMIT.\n",
      "\n",
      "Increase the number of iterations (max_iter) or scale the data as shown in:\n",
      "    https://scikit-learn.org/stable/modules/preprocessing.html\n",
      "Please also refer to the documentation for alternative solver options:\n",
      "    https://scikit-learn.org/stable/modules/linear_model.html#logistic-regression\n",
      "  n_iter_i = _check_optimize_result(\n"
     ]
    },
    {
     "name": "stdout",
     "output_type": "stream",
     "text": [
      "[CV 8/8] END C=1.0, multi_class=auto, solver=newton-cg;, score=0.639 total time=   0.7s\n",
      "[CV 1/8] END C=1.5, multi_class=multinomial, solver=lbfgs;, score=0.444 total time=   0.0s\n",
      "[CV 2/8] END C=1.5, multi_class=multinomial, solver=lbfgs;, score=0.500 total time=   0.0s\n",
      "[CV 3/8] END C=1.5, multi_class=multinomial, solver=lbfgs;, score=0.694 total time=   0.0s\n",
      "[CV 4/8] END C=1.5, multi_class=multinomial, solver=lbfgs;, score=0.528 total time=   0.0s\n",
      "[CV 5/8] END C=1.5, multi_class=multinomial, solver=lbfgs;, score=0.583 total time=   0.0s\n",
      "[CV 6/8] END C=1.5, multi_class=multinomial, solver=lbfgs;, score=0.528 total time=   0.0s\n",
      "[CV 7/8] END C=1.5, multi_class=multinomial, solver=lbfgs;, score=0.444 total time=   0.0s\n",
      "[CV 8/8] END C=1.5, multi_class=multinomial, solver=lbfgs;, score=0.472 total time=   0.0s\n"
     ]
    },
    {
     "name": "stderr",
     "output_type": "stream",
     "text": [
      "/home/sumon/anaconda3/lib/python3.9/site-packages/sklearn/utils/optimize.py:210: ConvergenceWarning: newton-cg failed to converge. Increase the number of iterations.\n",
      "  warnings.warn(\n"
     ]
    },
    {
     "name": "stdout",
     "output_type": "stream",
     "text": [
      "[CV 1/8] END C=1.0, multi_class=multinomial, solver=newton-cg;, score=0.583 total time=   0.7s\n"
     ]
    },
    {
     "name": "stderr",
     "output_type": "stream",
     "text": [
      "/home/sumon/anaconda3/lib/python3.9/site-packages/sklearn/utils/optimize.py:210: ConvergenceWarning: newton-cg failed to converge. Increase the number of iterations.\n",
      "  warnings.warn(\n"
     ]
    },
    {
     "name": "stdout",
     "output_type": "stream",
     "text": [
      "[CV 2/8] END C=1.0, multi_class=multinomial, solver=newton-cg;, score=0.583 total time=   0.7s\n"
     ]
    },
    {
     "name": "stderr",
     "output_type": "stream",
     "text": [
      "/home/sumon/anaconda3/lib/python3.9/site-packages/sklearn/utils/optimize.py:210: ConvergenceWarning: newton-cg failed to converge. Increase the number of iterations.\n",
      "  warnings.warn(\n"
     ]
    },
    {
     "name": "stdout",
     "output_type": "stream",
     "text": [
      "[CV 3/8] END C=1.0, multi_class=multinomial, solver=newton-cg;, score=0.694 total time=   0.7s\n"
     ]
    },
    {
     "name": "stderr",
     "output_type": "stream",
     "text": [
      "/home/sumon/anaconda3/lib/python3.9/site-packages/sklearn/utils/optimize.py:210: ConvergenceWarning: newton-cg failed to converge. Increase the number of iterations.\n",
      "  warnings.warn(\n"
     ]
    },
    {
     "name": "stdout",
     "output_type": "stream",
     "text": [
      "[CV 4/8] END C=1.0, multi_class=multinomial, solver=newton-cg;, score=0.750 total time=   0.7s\n"
     ]
    },
    {
     "name": "stderr",
     "output_type": "stream",
     "text": [
      "/home/sumon/anaconda3/lib/python3.9/site-packages/sklearn/utils/optimize.py:210: ConvergenceWarning: newton-cg failed to converge. Increase the number of iterations.\n",
      "  warnings.warn(\n"
     ]
    },
    {
     "name": "stdout",
     "output_type": "stream",
     "text": [
      "[CV 5/8] END C=1.0, multi_class=multinomial, solver=newton-cg;, score=0.667 total time=   0.7s\n"
     ]
    },
    {
     "name": "stderr",
     "output_type": "stream",
     "text": [
      "/home/sumon/anaconda3/lib/python3.9/site-packages/sklearn/utils/optimize.py:210: ConvergenceWarning: newton-cg failed to converge. Increase the number of iterations.\n",
      "  warnings.warn(\n"
     ]
    },
    {
     "name": "stdout",
     "output_type": "stream",
     "text": [
      "[CV 6/8] END C=1.0, multi_class=multinomial, solver=newton-cg;, score=0.611 total time=   0.7s\n"
     ]
    },
    {
     "name": "stderr",
     "output_type": "stream",
     "text": [
      "/home/sumon/anaconda3/lib/python3.9/site-packages/sklearn/utils/optimize.py:210: ConvergenceWarning: newton-cg failed to converge. Increase the number of iterations.\n",
      "  warnings.warn(\n"
     ]
    },
    {
     "name": "stdout",
     "output_type": "stream",
     "text": [
      "[CV 7/8] END C=1.0, multi_class=multinomial, solver=newton-cg;, score=0.472 total time=   0.7s\n"
     ]
    },
    {
     "name": "stderr",
     "output_type": "stream",
     "text": [
      "/home/sumon/anaconda3/lib/python3.9/site-packages/sklearn/utils/optimize.py:210: ConvergenceWarning: newton-cg failed to converge. Increase the number of iterations.\n",
      "  warnings.warn(\n",
      "/home/sumon/anaconda3/lib/python3.9/site-packages/sklearn/linear_model/_sag.py:350: ConvergenceWarning: The max_iter was reached which means the coef_ did not converge\n",
      "  warnings.warn(\n",
      "/home/sumon/anaconda3/lib/python3.9/site-packages/sklearn/linear_model/_sag.py:350: ConvergenceWarning: The max_iter was reached which means the coef_ did not converge\n",
      "  warnings.warn(\n",
      "/home/sumon/anaconda3/lib/python3.9/site-packages/sklearn/linear_model/_sag.py:350: ConvergenceWarning: The max_iter was reached which means the coef_ did not converge\n",
      "  warnings.warn(\n",
      "/home/sumon/anaconda3/lib/python3.9/site-packages/sklearn/linear_model/_sag.py:350: ConvergenceWarning: The max_iter was reached which means the coef_ did not converge\n",
      "  warnings.warn(\n",
      "/home/sumon/anaconda3/lib/python3.9/site-packages/sklearn/linear_model/_sag.py:350: ConvergenceWarning: The max_iter was reached which means the coef_ did not converge\n",
      "  warnings.warn(\n",
      "/home/sumon/anaconda3/lib/python3.9/site-packages/sklearn/linear_model/_sag.py:350: ConvergenceWarning: The max_iter was reached which means the coef_ did not converge\n",
      "  warnings.warn(\n",
      "/home/sumon/anaconda3/lib/python3.9/site-packages/sklearn/linear_model/_sag.py:350: ConvergenceWarning: The max_iter was reached which means the coef_ did not converge\n",
      "  warnings.warn(\n",
      "/home/sumon/anaconda3/lib/python3.9/site-packages/sklearn/linear_model/_sag.py:350: ConvergenceWarning: The max_iter was reached which means the coef_ did not converge\n",
      "  warnings.warn(\n",
      "/home/sumon/anaconda3/lib/python3.9/site-packages/sklearn/linear_model/_sag.py:350: ConvergenceWarning: The max_iter was reached which means the coef_ did not converge\n",
      "  warnings.warn(\n",
      "/home/sumon/anaconda3/lib/python3.9/site-packages/sklearn/linear_model/_sag.py:350: ConvergenceWarning: The max_iter was reached which means the coef_ did not converge\n",
      "  warnings.warn(\n",
      "/home/sumon/anaconda3/lib/python3.9/site-packages/sklearn/linear_model/_sag.py:350: ConvergenceWarning: The max_iter was reached which means the coef_ did not converge\n",
      "  warnings.warn(\n",
      "/home/sumon/anaconda3/lib/python3.9/site-packages/sklearn/linear_model/_sag.py:350: ConvergenceWarning: The max_iter was reached which means the coef_ did not converge\n",
      "  warnings.warn(\n",
      "/home/sumon/anaconda3/lib/python3.9/site-packages/sklearn/linear_model/_sag.py:350: ConvergenceWarning: The max_iter was reached which means the coef_ did not converge\n",
      "  warnings.warn(\n",
      "/home/sumon/anaconda3/lib/python3.9/site-packages/sklearn/linear_model/_sag.py:350: ConvergenceWarning: The max_iter was reached which means the coef_ did not converge\n",
      "  warnings.warn(\n",
      "/home/sumon/anaconda3/lib/python3.9/site-packages/sklearn/linear_model/_sag.py:350: ConvergenceWarning: The max_iter was reached which means the coef_ did not converge\n",
      "  warnings.warn(\n",
      "/home/sumon/anaconda3/lib/python3.9/site-packages/sklearn/linear_model/_sag.py:350: ConvergenceWarning: The max_iter was reached which means the coef_ did not converge\n",
      "  warnings.warn(\n",
      "/home/sumon/anaconda3/lib/python3.9/site-packages/sklearn/linear_model/_sag.py:350: ConvergenceWarning: The max_iter was reached which means the coef_ did not converge\n",
      "  warnings.warn(\n",
      "/home/sumon/anaconda3/lib/python3.9/site-packages/sklearn/linear_model/_sag.py:350: ConvergenceWarning: The max_iter was reached which means the coef_ did not converge\n",
      "  warnings.warn(\n",
      "/home/sumon/anaconda3/lib/python3.9/site-packages/sklearn/linear_model/_sag.py:350: ConvergenceWarning: The max_iter was reached which means the coef_ did not converge\n",
      "  warnings.warn(\n",
      "/home/sumon/anaconda3/lib/python3.9/site-packages/sklearn/linear_model/_sag.py:350: ConvergenceWarning: The max_iter was reached which means the coef_ did not converge\n",
      "  warnings.warn(\n"
     ]
    },
    {
     "name": "stdout",
     "output_type": "stream",
     "text": [
      "[CV 8/8] END C=1.0, multi_class=multinomial, solver=newton-cg;, score=0.639 total time=   0.7s\n",
      "[CV 1/8] END C=1.5, multi_class=auto, solver=liblinear;, score=0.500 total time=   0.0s\n",
      "[CV 2/8] END C=1.5, multi_class=auto, solver=liblinear;, score=0.556 total time=   0.0s\n",
      "[CV 3/8] END C=1.5, multi_class=auto, solver=liblinear;, score=0.639 total time=   0.0s\n",
      "[CV 4/8] END C=1.5, multi_class=auto, solver=liblinear;, score=0.778 total time=   0.0s\n",
      "[CV 5/8] END C=1.5, multi_class=auto, solver=liblinear;, score=0.556 total time=   0.0s\n",
      "[CV 6/8] END C=1.5, multi_class=auto, solver=liblinear;, score=0.500 total time=   0.0s\n",
      "[CV 7/8] END C=1.5, multi_class=auto, solver=liblinear;, score=0.472 total time=   0.0s\n",
      "[CV 8/8] END C=1.5, multi_class=auto, solver=liblinear;, score=0.639 total time=   0.0s\n",
      "[CV 1/8] END C=2.0, multi_class=ovr, solver=saga;, score=0.472 total time=   0.0s\n",
      "[CV 2/8] END C=2.0, multi_class=ovr, solver=saga;, score=0.500 total time=   0.0s\n"
     ]
    },
    {
     "name": "stderr",
     "output_type": "stream",
     "text": [
      "/home/sumon/anaconda3/lib/python3.9/site-packages/sklearn/linear_model/_sag.py:350: ConvergenceWarning: The max_iter was reached which means the coef_ did not converge\n",
      "  warnings.warn(\n",
      "/home/sumon/anaconda3/lib/python3.9/site-packages/sklearn/linear_model/_sag.py:350: ConvergenceWarning: The max_iter was reached which means the coef_ did not converge\n",
      "  warnings.warn(\n",
      "/home/sumon/anaconda3/lib/python3.9/site-packages/sklearn/linear_model/_sag.py:350: ConvergenceWarning: The max_iter was reached which means the coef_ did not converge\n",
      "  warnings.warn(\n",
      "/home/sumon/anaconda3/lib/python3.9/site-packages/sklearn/linear_model/_sag.py:350: ConvergenceWarning: The max_iter was reached which means the coef_ did not converge\n",
      "  warnings.warn(\n",
      "/home/sumon/anaconda3/lib/python3.9/site-packages/sklearn/linear_model/_sag.py:350: ConvergenceWarning: The max_iter was reached which means the coef_ did not converge\n",
      "  warnings.warn(\n",
      "/home/sumon/anaconda3/lib/python3.9/site-packages/sklearn/linear_model/_sag.py:350: ConvergenceWarning: The max_iter was reached which means the coef_ did not converge\n",
      "  warnings.warn(\n",
      "/home/sumon/anaconda3/lib/python3.9/site-packages/sklearn/linear_model/_sag.py:350: ConvergenceWarning: The max_iter was reached which means the coef_ did not converge\n",
      "  warnings.warn(\n",
      "/home/sumon/anaconda3/lib/python3.9/site-packages/sklearn/linear_model/_sag.py:350: ConvergenceWarning: The max_iter was reached which means the coef_ did not converge\n",
      "  warnings.warn(\n",
      "/home/sumon/anaconda3/lib/python3.9/site-packages/sklearn/linear_model/_sag.py:350: ConvergenceWarning: The max_iter was reached which means the coef_ did not converge\n",
      "  warnings.warn(\n",
      "/home/sumon/anaconda3/lib/python3.9/site-packages/sklearn/linear_model/_sag.py:350: ConvergenceWarning: The max_iter was reached which means the coef_ did not converge\n",
      "  warnings.warn(\n",
      "/home/sumon/anaconda3/lib/python3.9/site-packages/sklearn/linear_model/_sag.py:350: ConvergenceWarning: The max_iter was reached which means the coef_ did not converge\n",
      "  warnings.warn(\n",
      "/home/sumon/anaconda3/lib/python3.9/site-packages/sklearn/linear_model/_sag.py:350: ConvergenceWarning: The max_iter was reached which means the coef_ did not converge\n",
      "  warnings.warn(\n",
      "/home/sumon/anaconda3/lib/python3.9/site-packages/sklearn/linear_model/_sag.py:350: ConvergenceWarning: The max_iter was reached which means the coef_ did not converge\n",
      "  warnings.warn(\n",
      "/home/sumon/anaconda3/lib/python3.9/site-packages/sklearn/linear_model/_sag.py:350: ConvergenceWarning: The max_iter was reached which means the coef_ did not converge\n",
      "  warnings.warn(\n",
      "/home/sumon/anaconda3/lib/python3.9/site-packages/sklearn/linear_model/_sag.py:350: ConvergenceWarning: The max_iter was reached which means the coef_ did not converge\n",
      "  warnings.warn(\n",
      "/home/sumon/anaconda3/lib/python3.9/site-packages/sklearn/linear_model/_sag.py:350: ConvergenceWarning: The max_iter was reached which means the coef_ did not converge\n",
      "  warnings.warn(\n",
      "/home/sumon/anaconda3/lib/python3.9/site-packages/sklearn/linear_model/_sag.py:350: ConvergenceWarning: The max_iter was reached which means the coef_ did not converge\n",
      "  warnings.warn(\n",
      "/home/sumon/anaconda3/lib/python3.9/site-packages/sklearn/linear_model/_sag.py:350: ConvergenceWarning: The max_iter was reached which means the coef_ did not converge\n",
      "  warnings.warn(\n",
      "/home/sumon/anaconda3/lib/python3.9/site-packages/sklearn/linear_model/_sag.py:350: ConvergenceWarning: The max_iter was reached which means the coef_ did not converge\n",
      "  warnings.warn(\n",
      "/home/sumon/anaconda3/lib/python3.9/site-packages/sklearn/linear_model/_sag.py:350: ConvergenceWarning: The max_iter was reached which means the coef_ did not converge\n",
      "  warnings.warn(\n",
      "/home/sumon/anaconda3/lib/python3.9/site-packages/sklearn/linear_model/_sag.py:350: ConvergenceWarning: The max_iter was reached which means the coef_ did not converge\n",
      "  warnings.warn(\n",
      "/home/sumon/anaconda3/lib/python3.9/site-packages/sklearn/linear_model/_sag.py:350: ConvergenceWarning: The max_iter was reached which means the coef_ did not converge\n",
      "  warnings.warn(\n",
      "/home/sumon/anaconda3/lib/python3.9/site-packages/sklearn/linear_model/_sag.py:350: ConvergenceWarning: The max_iter was reached which means the coef_ did not converge\n",
      "  warnings.warn(\n",
      "/home/sumon/anaconda3/lib/python3.9/site-packages/sklearn/linear_model/_sag.py:350: ConvergenceWarning: The max_iter was reached which means the coef_ did not converge\n",
      "  warnings.warn(\n",
      "/home/sumon/anaconda3/lib/python3.9/site-packages/sklearn/linear_model/_sag.py:350: ConvergenceWarning: The max_iter was reached which means the coef_ did not converge\n",
      "  warnings.warn(\n",
      "/home/sumon/anaconda3/lib/python3.9/site-packages/sklearn/linear_model/_sag.py:350: ConvergenceWarning: The max_iter was reached which means the coef_ did not converge\n",
      "  warnings.warn(\n",
      "/home/sumon/anaconda3/lib/python3.9/site-packages/sklearn/linear_model/_sag.py:350: ConvergenceWarning: The max_iter was reached which means the coef_ did not converge\n",
      "  warnings.warn(\n",
      "/home/sumon/anaconda3/lib/python3.9/site-packages/sklearn/linear_model/_sag.py:350: ConvergenceWarning: The max_iter was reached which means the coef_ did not converge\n",
      "  warnings.warn(\n",
      "/home/sumon/anaconda3/lib/python3.9/site-packages/sklearn/linear_model/_sag.py:350: ConvergenceWarning: The max_iter was reached which means the coef_ did not converge\n",
      "  warnings.warn(\n",
      "/home/sumon/anaconda3/lib/python3.9/site-packages/sklearn/linear_model/_sag.py:350: ConvergenceWarning: The max_iter was reached which means the coef_ did not converge\n",
      "  warnings.warn(\n",
      "/home/sumon/anaconda3/lib/python3.9/site-packages/sklearn/linear_model/_sag.py:350: ConvergenceWarning: The max_iter was reached which means the coef_ did not converge\n",
      "  warnings.warn(\n",
      "/home/sumon/anaconda3/lib/python3.9/site-packages/sklearn/linear_model/_sag.py:350: ConvergenceWarning: The max_iter was reached which means the coef_ did not converge\n",
      "  warnings.warn(\n",
      "/home/sumon/anaconda3/lib/python3.9/site-packages/sklearn/linear_model/_sag.py:350: ConvergenceWarning: The max_iter was reached which means the coef_ did not converge\n",
      "  warnings.warn(\n",
      "/home/sumon/anaconda3/lib/python3.9/site-packages/sklearn/linear_model/_sag.py:350: ConvergenceWarning: The max_iter was reached which means the coef_ did not converge\n",
      "  warnings.warn(\n",
      "/home/sumon/anaconda3/lib/python3.9/site-packages/sklearn/linear_model/_sag.py:350: ConvergenceWarning: The max_iter was reached which means the coef_ did not converge\n",
      "  warnings.warn(\n",
      "/home/sumon/anaconda3/lib/python3.9/site-packages/sklearn/linear_model/_sag.py:350: ConvergenceWarning: The max_iter was reached which means the coef_ did not converge\n",
      "  warnings.warn(\n",
      "/home/sumon/anaconda3/lib/python3.9/site-packages/sklearn/linear_model/_sag.py:350: ConvergenceWarning: The max_iter was reached which means the coef_ did not converge\n",
      "  warnings.warn(\n",
      "/home/sumon/anaconda3/lib/python3.9/site-packages/sklearn/linear_model/_sag.py:350: ConvergenceWarning: The max_iter was reached which means the coef_ did not converge\n",
      "  warnings.warn(\n",
      "/home/sumon/anaconda3/lib/python3.9/site-packages/sklearn/linear_model/_sag.py:350: ConvergenceWarning: The max_iter was reached which means the coef_ did not converge\n",
      "  warnings.warn(\n",
      "/home/sumon/anaconda3/lib/python3.9/site-packages/sklearn/linear_model/_sag.py:350: ConvergenceWarning: The max_iter was reached which means the coef_ did not converge\n",
      "  warnings.warn(\n"
     ]
    },
    {
     "name": "stdout",
     "output_type": "stream",
     "text": [
      "[CV 3/8] END C=2.0, multi_class=ovr, solver=saga;, score=0.611 total time=   0.0s\n",
      "[CV 4/8] END C=2.0, multi_class=ovr, solver=saga;, score=0.639 total time=   0.1s\n",
      "[CV 5/8] END C=2.0, multi_class=ovr, solver=saga;, score=0.528 total time=   0.0s\n",
      "[CV 6/8] END C=2.0, multi_class=ovr, solver=saga;, score=0.472 total time=   0.0s\n",
      "[CV 7/8] END C=2.0, multi_class=ovr, solver=saga;, score=0.444 total time=   0.0s\n"
     ]
    },
    {
     "name": "stderr",
     "output_type": "stream",
     "text": [
      "/home/sumon/anaconda3/lib/python3.9/site-packages/sklearn/linear_model/_sag.py:350: ConvergenceWarning: The max_iter was reached which means the coef_ did not converge\n",
      "  warnings.warn(\n",
      "/home/sumon/anaconda3/lib/python3.9/site-packages/sklearn/linear_model/_sag.py:350: ConvergenceWarning: The max_iter was reached which means the coef_ did not converge\n",
      "  warnings.warn(\n",
      "/home/sumon/anaconda3/lib/python3.9/site-packages/sklearn/linear_model/_sag.py:350: ConvergenceWarning: The max_iter was reached which means the coef_ did not converge\n",
      "  warnings.warn(\n",
      "/home/sumon/anaconda3/lib/python3.9/site-packages/sklearn/linear_model/_sag.py:350: ConvergenceWarning: The max_iter was reached which means the coef_ did not converge\n",
      "  warnings.warn(\n",
      "/home/sumon/anaconda3/lib/python3.9/site-packages/sklearn/linear_model/_sag.py:350: ConvergenceWarning: The max_iter was reached which means the coef_ did not converge\n",
      "  warnings.warn(\n",
      "/home/sumon/anaconda3/lib/python3.9/site-packages/sklearn/linear_model/_sag.py:350: ConvergenceWarning: The max_iter was reached which means the coef_ did not converge\n",
      "  warnings.warn(\n",
      "/home/sumon/anaconda3/lib/python3.9/site-packages/sklearn/linear_model/_sag.py:350: ConvergenceWarning: The max_iter was reached which means the coef_ did not converge\n",
      "  warnings.warn(\n",
      "/home/sumon/anaconda3/lib/python3.9/site-packages/sklearn/linear_model/_sag.py:350: ConvergenceWarning: The max_iter was reached which means the coef_ did not converge\n",
      "  warnings.warn(\n",
      "/home/sumon/anaconda3/lib/python3.9/site-packages/sklearn/linear_model/_sag.py:350: ConvergenceWarning: The max_iter was reached which means the coef_ did not converge\n",
      "  warnings.warn(\n",
      "/home/sumon/anaconda3/lib/python3.9/site-packages/sklearn/linear_model/_sag.py:350: ConvergenceWarning: The max_iter was reached which means the coef_ did not converge\n",
      "  warnings.warn(\n",
      "/home/sumon/anaconda3/lib/python3.9/site-packages/sklearn/linear_model/_sag.py:350: ConvergenceWarning: The max_iter was reached which means the coef_ did not converge\n",
      "  warnings.warn(\n",
      "/home/sumon/anaconda3/lib/python3.9/site-packages/sklearn/linear_model/_sag.py:350: ConvergenceWarning: The max_iter was reached which means the coef_ did not converge\n",
      "  warnings.warn(\n",
      "/home/sumon/anaconda3/lib/python3.9/site-packages/sklearn/linear_model/_sag.py:350: ConvergenceWarning: The max_iter was reached which means the coef_ did not converge\n",
      "  warnings.warn(\n",
      "/home/sumon/anaconda3/lib/python3.9/site-packages/sklearn/linear_model/_sag.py:350: ConvergenceWarning: The max_iter was reached which means the coef_ did not converge\n",
      "  warnings.warn(\n",
      "/home/sumon/anaconda3/lib/python3.9/site-packages/sklearn/linear_model/_sag.py:350: ConvergenceWarning: The max_iter was reached which means the coef_ did not converge\n",
      "  warnings.warn(\n",
      "/home/sumon/anaconda3/lib/python3.9/site-packages/sklearn/linear_model/_sag.py:350: ConvergenceWarning: The max_iter was reached which means the coef_ did not converge\n",
      "  warnings.warn(\n",
      "/home/sumon/anaconda3/lib/python3.9/site-packages/sklearn/linear_model/_sag.py:350: ConvergenceWarning: The max_iter was reached which means the coef_ did not converge\n",
      "  warnings.warn(\n",
      "/home/sumon/anaconda3/lib/python3.9/site-packages/sklearn/linear_model/_sag.py:350: ConvergenceWarning: The max_iter was reached which means the coef_ did not converge\n",
      "  warnings.warn(\n",
      "/home/sumon/anaconda3/lib/python3.9/site-packages/sklearn/linear_model/_sag.py:350: ConvergenceWarning: The max_iter was reached which means the coef_ did not converge\n",
      "  warnings.warn(\n",
      "/home/sumon/anaconda3/lib/python3.9/site-packages/sklearn/linear_model/_sag.py:350: ConvergenceWarning: The max_iter was reached which means the coef_ did not converge\n",
      "  warnings.warn(\n",
      "/home/sumon/anaconda3/lib/python3.9/site-packages/sklearn/linear_model/_sag.py:350: ConvergenceWarning: The max_iter was reached which means the coef_ did not converge\n",
      "  warnings.warn(\n",
      "/home/sumon/anaconda3/lib/python3.9/site-packages/sklearn/linear_model/_sag.py:350: ConvergenceWarning: The max_iter was reached which means the coef_ did not converge\n",
      "  warnings.warn(\n",
      "/home/sumon/anaconda3/lib/python3.9/site-packages/sklearn/linear_model/_sag.py:350: ConvergenceWarning: The max_iter was reached which means the coef_ did not converge\n",
      "  warnings.warn(\n",
      "/home/sumon/anaconda3/lib/python3.9/site-packages/sklearn/linear_model/_sag.py:350: ConvergenceWarning: The max_iter was reached which means the coef_ did not converge\n",
      "  warnings.warn(\n",
      "/home/sumon/anaconda3/lib/python3.9/site-packages/sklearn/linear_model/_sag.py:350: ConvergenceWarning: The max_iter was reached which means the coef_ did not converge\n",
      "  warnings.warn(\n",
      "/home/sumon/anaconda3/lib/python3.9/site-packages/sklearn/linear_model/_sag.py:350: ConvergenceWarning: The max_iter was reached which means the coef_ did not converge\n",
      "  warnings.warn(\n",
      "/home/sumon/anaconda3/lib/python3.9/site-packages/sklearn/linear_model/_sag.py:350: ConvergenceWarning: The max_iter was reached which means the coef_ did not converge\n",
      "  warnings.warn(\n",
      "/home/sumon/anaconda3/lib/python3.9/site-packages/sklearn/linear_model/_sag.py:350: ConvergenceWarning: The max_iter was reached which means the coef_ did not converge\n",
      "  warnings.warn(\n",
      "/home/sumon/anaconda3/lib/python3.9/site-packages/sklearn/linear_model/_sag.py:350: ConvergenceWarning: The max_iter was reached which means the coef_ did not converge\n",
      "  warnings.warn(\n",
      "/home/sumon/anaconda3/lib/python3.9/site-packages/sklearn/linear_model/_sag.py:350: ConvergenceWarning: The max_iter was reached which means the coef_ did not converge\n",
      "  warnings.warn(\n",
      "/home/sumon/anaconda3/lib/python3.9/site-packages/sklearn/linear_model/_sag.py:350: ConvergenceWarning: The max_iter was reached which means the coef_ did not converge\n",
      "  warnings.warn(\n",
      "/home/sumon/anaconda3/lib/python3.9/site-packages/sklearn/linear_model/_sag.py:350: ConvergenceWarning: The max_iter was reached which means the coef_ did not converge\n",
      "  warnings.warn(\n",
      "/home/sumon/anaconda3/lib/python3.9/site-packages/sklearn/linear_model/_sag.py:350: ConvergenceWarning: The max_iter was reached which means the coef_ did not converge\n",
      "  warnings.warn(\n",
      "/home/sumon/anaconda3/lib/python3.9/site-packages/sklearn/linear_model/_sag.py:350: ConvergenceWarning: The max_iter was reached which means the coef_ did not converge\n",
      "  warnings.warn(\n",
      "/home/sumon/anaconda3/lib/python3.9/site-packages/sklearn/linear_model/_sag.py:350: ConvergenceWarning: The max_iter was reached which means the coef_ did not converge\n",
      "  warnings.warn(\n",
      "/home/sumon/anaconda3/lib/python3.9/site-packages/sklearn/linear_model/_sag.py:350: ConvergenceWarning: The max_iter was reached which means the coef_ did not converge\n",
      "  warnings.warn(\n",
      "/home/sumon/anaconda3/lib/python3.9/site-packages/sklearn/linear_model/_sag.py:350: ConvergenceWarning: The max_iter was reached which means the coef_ did not converge\n",
      "  warnings.warn(\n",
      "/home/sumon/anaconda3/lib/python3.9/site-packages/sklearn/linear_model/_sag.py:350: ConvergenceWarning: The max_iter was reached which means the coef_ did not converge\n",
      "  warnings.warn(\n",
      "/home/sumon/anaconda3/lib/python3.9/site-packages/sklearn/linear_model/_sag.py:350: ConvergenceWarning: The max_iter was reached which means the coef_ did not converge\n",
      "  warnings.warn(\n",
      "/home/sumon/anaconda3/lib/python3.9/site-packages/sklearn/linear_model/_sag.py:350: ConvergenceWarning: The max_iter was reached which means the coef_ did not converge\n",
      "  warnings.warn(\n",
      "/home/sumon/anaconda3/lib/python3.9/site-packages/sklearn/linear_model/_sag.py:350: ConvergenceWarning: The max_iter was reached which means the coef_ did not converge\n",
      "  warnings.warn(\n",
      "/home/sumon/anaconda3/lib/python3.9/site-packages/sklearn/linear_model/_sag.py:350: ConvergenceWarning: The max_iter was reached which means the coef_ did not converge\n",
      "  warnings.warn(\n",
      "/home/sumon/anaconda3/lib/python3.9/site-packages/sklearn/linear_model/_sag.py:350: ConvergenceWarning: The max_iter was reached which means the coef_ did not converge\n",
      "  warnings.warn(\n",
      "/home/sumon/anaconda3/lib/python3.9/site-packages/sklearn/linear_model/_sag.py:350: ConvergenceWarning: The max_iter was reached which means the coef_ did not converge\n",
      "  warnings.warn(\n"
     ]
    },
    {
     "name": "stdout",
     "output_type": "stream",
     "text": [
      "[CV 8/8] END C=2.0, multi_class=ovr, solver=saga;, score=0.444 total time=   0.0s\n",
      "[CV 1/8] END C=2.5, multi_class=ovr, solver=saga;, score=0.472 total time=   0.0s\n",
      "[CV 2/8] END C=2.5, multi_class=ovr, solver=saga;, score=0.500 total time=   0.0s\n",
      "[CV 3/8] END C=2.5, multi_class=ovr, solver=saga;, score=0.611 total time=   0.0s\n",
      "[CV 4/8] END C=2.5, multi_class=ovr, solver=saga;, score=0.639 total time=   0.0s\n"
     ]
    },
    {
     "name": "stderr",
     "output_type": "stream",
     "text": [
      "/home/sumon/anaconda3/lib/python3.9/site-packages/sklearn/linear_model/_sag.py:350: ConvergenceWarning: The max_iter was reached which means the coef_ did not converge\n",
      "  warnings.warn(\n",
      "/home/sumon/anaconda3/lib/python3.9/site-packages/sklearn/linear_model/_sag.py:350: ConvergenceWarning: The max_iter was reached which means the coef_ did not converge\n",
      "  warnings.warn(\n",
      "/home/sumon/anaconda3/lib/python3.9/site-packages/sklearn/linear_model/_sag.py:350: ConvergenceWarning: The max_iter was reached which means the coef_ did not converge\n",
      "  warnings.warn(\n",
      "/home/sumon/anaconda3/lib/python3.9/site-packages/sklearn/linear_model/_sag.py:350: ConvergenceWarning: The max_iter was reached which means the coef_ did not converge\n",
      "  warnings.warn(\n",
      "/home/sumon/anaconda3/lib/python3.9/site-packages/sklearn/linear_model/_sag.py:350: ConvergenceWarning: The max_iter was reached which means the coef_ did not converge\n",
      "  warnings.warn(\n",
      "/home/sumon/anaconda3/lib/python3.9/site-packages/sklearn/linear_model/_sag.py:350: ConvergenceWarning: The max_iter was reached which means the coef_ did not converge\n",
      "  warnings.warn(\n",
      "/home/sumon/anaconda3/lib/python3.9/site-packages/sklearn/linear_model/_sag.py:350: ConvergenceWarning: The max_iter was reached which means the coef_ did not converge\n",
      "  warnings.warn(\n",
      "/home/sumon/anaconda3/lib/python3.9/site-packages/sklearn/linear_model/_sag.py:350: ConvergenceWarning: The max_iter was reached which means the coef_ did not converge\n",
      "  warnings.warn(\n",
      "/home/sumon/anaconda3/lib/python3.9/site-packages/sklearn/linear_model/_sag.py:350: ConvergenceWarning: The max_iter was reached which means the coef_ did not converge\n",
      "  warnings.warn(\n",
      "/home/sumon/anaconda3/lib/python3.9/site-packages/sklearn/linear_model/_sag.py:350: ConvergenceWarning: The max_iter was reached which means the coef_ did not converge\n",
      "  warnings.warn(\n",
      "/home/sumon/anaconda3/lib/python3.9/site-packages/sklearn/linear_model/_sag.py:350: ConvergenceWarning: The max_iter was reached which means the coef_ did not converge\n",
      "  warnings.warn(\n",
      "/home/sumon/anaconda3/lib/python3.9/site-packages/sklearn/linear_model/_sag.py:350: ConvergenceWarning: The max_iter was reached which means the coef_ did not converge\n",
      "  warnings.warn(\n",
      "/home/sumon/anaconda3/lib/python3.9/site-packages/sklearn/linear_model/_sag.py:350: ConvergenceWarning: The max_iter was reached which means the coef_ did not converge\n",
      "  warnings.warn(\n",
      "/home/sumon/anaconda3/lib/python3.9/site-packages/sklearn/linear_model/_sag.py:350: ConvergenceWarning: The max_iter was reached which means the coef_ did not converge\n",
      "  warnings.warn(\n",
      "/home/sumon/anaconda3/lib/python3.9/site-packages/sklearn/linear_model/_sag.py:350: ConvergenceWarning: The max_iter was reached which means the coef_ did not converge\n",
      "  warnings.warn(\n",
      "/home/sumon/anaconda3/lib/python3.9/site-packages/sklearn/linear_model/_sag.py:350: ConvergenceWarning: The max_iter was reached which means the coef_ did not converge\n",
      "  warnings.warn(\n",
      "/home/sumon/anaconda3/lib/python3.9/site-packages/sklearn/linear_model/_sag.py:350: ConvergenceWarning: The max_iter was reached which means the coef_ did not converge\n",
      "  warnings.warn(\n",
      "/home/sumon/anaconda3/lib/python3.9/site-packages/sklearn/linear_model/_sag.py:350: ConvergenceWarning: The max_iter was reached which means the coef_ did not converge\n",
      "  warnings.warn(\n",
      "/home/sumon/anaconda3/lib/python3.9/site-packages/sklearn/linear_model/_sag.py:350: ConvergenceWarning: The max_iter was reached which means the coef_ did not converge\n",
      "  warnings.warn(\n",
      "/home/sumon/anaconda3/lib/python3.9/site-packages/sklearn/linear_model/_sag.py:350: ConvergenceWarning: The max_iter was reached which means the coef_ did not converge\n",
      "  warnings.warn(\n",
      "/home/sumon/anaconda3/lib/python3.9/site-packages/sklearn/linear_model/_sag.py:350: ConvergenceWarning: The max_iter was reached which means the coef_ did not converge\n",
      "  warnings.warn(\n",
      "/home/sumon/anaconda3/lib/python3.9/site-packages/sklearn/linear_model/_sag.py:350: ConvergenceWarning: The max_iter was reached which means the coef_ did not converge\n",
      "  warnings.warn(\n",
      "/home/sumon/anaconda3/lib/python3.9/site-packages/sklearn/linear_model/_sag.py:350: ConvergenceWarning: The max_iter was reached which means the coef_ did not converge\n",
      "  warnings.warn(\n",
      "/home/sumon/anaconda3/lib/python3.9/site-packages/sklearn/linear_model/_sag.py:350: ConvergenceWarning: The max_iter was reached which means the coef_ did not converge\n",
      "  warnings.warn(\n",
      "/home/sumon/anaconda3/lib/python3.9/site-packages/sklearn/linear_model/_sag.py:350: ConvergenceWarning: The max_iter was reached which means the coef_ did not converge\n",
      "  warnings.warn(\n",
      "/home/sumon/anaconda3/lib/python3.9/site-packages/sklearn/linear_model/_sag.py:350: ConvergenceWarning: The max_iter was reached which means the coef_ did not converge\n",
      "  warnings.warn(\n",
      "/home/sumon/anaconda3/lib/python3.9/site-packages/sklearn/linear_model/_sag.py:350: ConvergenceWarning: The max_iter was reached which means the coef_ did not converge\n",
      "  warnings.warn(\n",
      "/home/sumon/anaconda3/lib/python3.9/site-packages/sklearn/linear_model/_sag.py:350: ConvergenceWarning: The max_iter was reached which means the coef_ did not converge\n",
      "  warnings.warn(\n",
      "/home/sumon/anaconda3/lib/python3.9/site-packages/sklearn/linear_model/_sag.py:350: ConvergenceWarning: The max_iter was reached which means the coef_ did not converge\n",
      "  warnings.warn(\n",
      "/home/sumon/anaconda3/lib/python3.9/site-packages/sklearn/linear_model/_sag.py:350: ConvergenceWarning: The max_iter was reached which means the coef_ did not converge\n",
      "  warnings.warn(\n",
      "/home/sumon/anaconda3/lib/python3.9/site-packages/sklearn/linear_model/_sag.py:350: ConvergenceWarning: The max_iter was reached which means the coef_ did not converge\n",
      "  warnings.warn(\n",
      "/home/sumon/anaconda3/lib/python3.9/site-packages/sklearn/linear_model/_sag.py:350: ConvergenceWarning: The max_iter was reached which means the coef_ did not converge\n",
      "  warnings.warn(\n",
      "/home/sumon/anaconda3/lib/python3.9/site-packages/sklearn/linear_model/_sag.py:350: ConvergenceWarning: The max_iter was reached which means the coef_ did not converge\n",
      "  warnings.warn(\n",
      "/home/sumon/anaconda3/lib/python3.9/site-packages/sklearn/linear_model/_sag.py:350: ConvergenceWarning: The max_iter was reached which means the coef_ did not converge\n",
      "  warnings.warn(\n",
      "/home/sumon/anaconda3/lib/python3.9/site-packages/sklearn/linear_model/_sag.py:350: ConvergenceWarning: The max_iter was reached which means the coef_ did not converge\n",
      "  warnings.warn(\n",
      "/home/sumon/anaconda3/lib/python3.9/site-packages/sklearn/linear_model/_sag.py:350: ConvergenceWarning: The max_iter was reached which means the coef_ did not converge\n",
      "  warnings.warn(\n",
      "/home/sumon/anaconda3/lib/python3.9/site-packages/sklearn/linear_model/_sag.py:350: ConvergenceWarning: The max_iter was reached which means the coef_ did not converge\n",
      "  warnings.warn(\n",
      "/home/sumon/anaconda3/lib/python3.9/site-packages/sklearn/linear_model/_sag.py:350: ConvergenceWarning: The max_iter was reached which means the coef_ did not converge\n",
      "  warnings.warn(\n",
      "/home/sumon/anaconda3/lib/python3.9/site-packages/sklearn/linear_model/_sag.py:350: ConvergenceWarning: The max_iter was reached which means the coef_ did not converge\n",
      "  warnings.warn(\n",
      "/home/sumon/anaconda3/lib/python3.9/site-packages/sklearn/linear_model/_sag.py:350: ConvergenceWarning: The max_iter was reached which means the coef_ did not converge\n",
      "  warnings.warn(\n"
     ]
    },
    {
     "name": "stdout",
     "output_type": "stream",
     "text": [
      "[CV 5/8] END C=2.5, multi_class=ovr, solver=saga;, score=0.528 total time=   0.0s\n",
      "[CV 6/8] END C=2.5, multi_class=ovr, solver=saga;, score=0.472 total time=   0.0s\n",
      "[CV 7/8] END C=2.5, multi_class=ovr, solver=saga;, score=0.444 total time=   0.0s\n",
      "[CV 8/8] END C=2.5, multi_class=ovr, solver=saga;, score=0.444 total time=   0.0s\n",
      "[CV 1/8] END C=1.0, multi_class=multinomial, solver=liblinear;, score=nan total time=   0.0s\n",
      "[CV 2/8] END C=1.0, multi_class=multinomial, solver=liblinear;, score=nan total time=   0.0s\n",
      "[CV 3/8] END C=1.0, multi_class=multinomial, solver=liblinear;, score=nan total time=   0.0s\n",
      "[CV 4/8] END C=1.0, multi_class=multinomial, solver=liblinear;, score=nan total time=   0.0s\n",
      "[CV 5/8] END C=1.0, multi_class=multinomial, solver=liblinear;, score=nan total time=   0.0s\n",
      "[CV 6/8] END C=1.0, multi_class=multinomial, solver=liblinear;, score=nan total time=   0.0s\n",
      "[CV 7/8] END C=1.0, multi_class=multinomial, solver=liblinear;, score=nan total time=   0.0s\n",
      "[CV 8/8] END C=1.0, multi_class=multinomial, solver=liblinear;, score=nan total time=   0.0s\n",
      "[CV 1/8] END C=2.5, multi_class=multinomial, solver=liblinear;, score=nan total time=   0.0s\n",
      "[CV 2/8] END C=2.5, multi_class=multinomial, solver=liblinear;, score=nan total time=   0.0s\n",
      "[CV 3/8] END C=2.5, multi_class=multinomial, solver=liblinear;, score=nan total time=   0.0s\n",
      "[CV 4/8] END C=2.5, multi_class=multinomial, solver=liblinear;, score=nan total time=   0.0s\n",
      "[CV 5/8] END C=2.5, multi_class=multinomial, solver=liblinear;, score=nan total time=   0.0s\n",
      "[CV 6/8] END C=2.5, multi_class=multinomial, solver=liblinear;, score=nan total time=   0.0s\n",
      "[CV 7/8] END C=2.5, multi_class=multinomial, solver=liblinear;, score=nan total time=   0.0s\n",
      "[CV 8/8] END C=2.5, multi_class=multinomial, solver=liblinear;, score=nan total time=   0.0s\n"
     ]
    },
    {
     "name": "stderr",
     "output_type": "stream",
     "text": [
      "/home/sumon/anaconda3/lib/python3.9/site-packages/sklearn/utils/optimize.py:210: ConvergenceWarning: newton-cg failed to converge. Increase the number of iterations.\n",
      "  warnings.warn(\n"
     ]
    },
    {
     "name": "stdout",
     "output_type": "stream",
     "text": [
      "[CV 1/8] END C=2.0, multi_class=auto, solver=newton-cg;, score=0.639 total time=   0.8s\n"
     ]
    },
    {
     "name": "stderr",
     "output_type": "stream",
     "text": [
      "/home/sumon/anaconda3/lib/python3.9/site-packages/sklearn/utils/optimize.py:210: ConvergenceWarning: newton-cg failed to converge. Increase the number of iterations.\n",
      "  warnings.warn(\n"
     ]
    },
    {
     "name": "stdout",
     "output_type": "stream",
     "text": [
      "[CV 2/8] END C=2.0, multi_class=auto, solver=newton-cg;, score=0.583 total time=   0.7s\n"
     ]
    },
    {
     "name": "stderr",
     "output_type": "stream",
     "text": [
      "/home/sumon/anaconda3/lib/python3.9/site-packages/sklearn/utils/optimize.py:210: ConvergenceWarning: newton-cg failed to converge. Increase the number of iterations.\n",
      "  warnings.warn(\n"
     ]
    },
    {
     "name": "stdout",
     "output_type": "stream",
     "text": [
      "[CV 3/8] END C=2.0, multi_class=auto, solver=newton-cg;, score=0.694 total time=   0.8s\n"
     ]
    },
    {
     "name": "stderr",
     "output_type": "stream",
     "text": [
      "/home/sumon/anaconda3/lib/python3.9/site-packages/sklearn/utils/optimize.py:210: ConvergenceWarning: newton-cg failed to converge. Increase the number of iterations.\n",
      "  warnings.warn(\n"
     ]
    },
    {
     "name": "stdout",
     "output_type": "stream",
     "text": [
      "[CV 4/8] END C=2.0, multi_class=auto, solver=newton-cg;, score=0.778 total time=   0.7s\n"
     ]
    },
    {
     "name": "stderr",
     "output_type": "stream",
     "text": [
      "/home/sumon/anaconda3/lib/python3.9/site-packages/sklearn/utils/optimize.py:210: ConvergenceWarning: newton-cg failed to converge. Increase the number of iterations.\n",
      "  warnings.warn(\n"
     ]
    },
    {
     "name": "stdout",
     "output_type": "stream",
     "text": [
      "[CV 5/8] END C=2.0, multi_class=auto, solver=newton-cg;, score=0.694 total time=   0.6s\n"
     ]
    },
    {
     "name": "stderr",
     "output_type": "stream",
     "text": [
      "/home/sumon/anaconda3/lib/python3.9/site-packages/sklearn/utils/optimize.py:210: ConvergenceWarning: newton-cg failed to converge. Increase the number of iterations.\n",
      "  warnings.warn(\n"
     ]
    },
    {
     "name": "stdout",
     "output_type": "stream",
     "text": [
      "[CV 6/8] END C=2.0, multi_class=auto, solver=newton-cg;, score=0.611 total time=   0.7s\n"
     ]
    },
    {
     "name": "stderr",
     "output_type": "stream",
     "text": [
      "/home/sumon/anaconda3/lib/python3.9/site-packages/sklearn/utils/optimize.py:210: ConvergenceWarning: newton-cg failed to converge. Increase the number of iterations.\n",
      "  warnings.warn(\n"
     ]
    },
    {
     "name": "stdout",
     "output_type": "stream",
     "text": [
      "[CV 7/8] END C=2.0, multi_class=auto, solver=newton-cg;, score=0.444 total time=   0.7s\n"
     ]
    },
    {
     "name": "stderr",
     "output_type": "stream",
     "text": [
      "/home/sumon/anaconda3/lib/python3.9/site-packages/sklearn/utils/optimize.py:210: ConvergenceWarning: newton-cg failed to converge. Increase the number of iterations.\n",
      "  warnings.warn(\n",
      "/home/sumon/anaconda3/lib/python3.9/site-packages/sklearn/linear_model/_sag.py:350: ConvergenceWarning: The max_iter was reached which means the coef_ did not converge\n",
      "  warnings.warn(\n",
      "/home/sumon/anaconda3/lib/python3.9/site-packages/sklearn/linear_model/_sag.py:350: ConvergenceWarning: The max_iter was reached which means the coef_ did not converge\n",
      "  warnings.warn(\n",
      "/home/sumon/anaconda3/lib/python3.9/site-packages/sklearn/linear_model/_sag.py:350: ConvergenceWarning: The max_iter was reached which means the coef_ did not converge\n",
      "  warnings.warn(\n",
      "/home/sumon/anaconda3/lib/python3.9/site-packages/sklearn/linear_model/_sag.py:350: ConvergenceWarning: The max_iter was reached which means the coef_ did not converge\n",
      "  warnings.warn(\n"
     ]
    },
    {
     "name": "stdout",
     "output_type": "stream",
     "text": [
      "[CV 8/8] END C=2.0, multi_class=auto, solver=newton-cg;, score=0.667 total time=   0.8s\n",
      "[CV 1/8] END C=2.5, multi_class=ovr, solver=liblinear;, score=0.472 total time=   0.0s\n",
      "[CV 2/8] END C=2.5, multi_class=ovr, solver=liblinear;, score=0.556 total time=   0.0s\n",
      "[CV 3/8] END C=2.5, multi_class=ovr, solver=liblinear;, score=0.611 total time=   0.0s\n",
      "[CV 4/8] END C=2.5, multi_class=ovr, solver=liblinear;, score=0.778 total time=   0.0s\n",
      "[CV 5/8] END C=2.5, multi_class=ovr, solver=liblinear;, score=0.583 total time=   0.0s\n",
      "[CV 6/8] END C=2.5, multi_class=ovr, solver=liblinear;, score=0.500 total time=   0.0s\n",
      "[CV 7/8] END C=2.5, multi_class=ovr, solver=liblinear;, score=0.472 total time=   0.0s\n",
      "[CV 8/8] END C=2.5, multi_class=ovr, solver=liblinear;, score=0.639 total time=   0.0s\n",
      "[CV 1/8] END C=1.5, multi_class=auto, solver=sag;, score=0.417 total time=   0.0s\n",
      "[CV 2/8] END C=1.5, multi_class=auto, solver=sag;, score=0.528 total time=   0.0s\n",
      "[CV 3/8] END C=1.5, multi_class=auto, solver=sag;, score=0.639 total time=   0.0s\n",
      "[CV 4/8] END C=1.5, multi_class=auto, solver=sag;, score=0.667 total time=   0.0s\n"
     ]
    },
    {
     "name": "stderr",
     "output_type": "stream",
     "text": [
      "/home/sumon/anaconda3/lib/python3.9/site-packages/sklearn/linear_model/_sag.py:350: ConvergenceWarning: The max_iter was reached which means the coef_ did not converge\n",
      "  warnings.warn(\n",
      "/home/sumon/anaconda3/lib/python3.9/site-packages/sklearn/linear_model/_sag.py:350: ConvergenceWarning: The max_iter was reached which means the coef_ did not converge\n",
      "  warnings.warn(\n",
      "/home/sumon/anaconda3/lib/python3.9/site-packages/sklearn/linear_model/_sag.py:350: ConvergenceWarning: The max_iter was reached which means the coef_ did not converge\n",
      "  warnings.warn(\n",
      "/home/sumon/anaconda3/lib/python3.9/site-packages/sklearn/linear_model/_sag.py:350: ConvergenceWarning: The max_iter was reached which means the coef_ did not converge\n",
      "  warnings.warn(\n"
     ]
    },
    {
     "name": "stdout",
     "output_type": "stream",
     "text": [
      "[CV 5/8] END C=1.5, multi_class=auto, solver=sag;, score=0.528 total time=   0.0s\n",
      "[CV 6/8] END C=1.5, multi_class=auto, solver=sag;, score=0.500 total time=   0.0s\n",
      "[CV 7/8] END C=1.5, multi_class=auto, solver=sag;, score=0.389 total time=   0.0s\n",
      "[CV 8/8] END C=1.5, multi_class=auto, solver=sag;, score=0.472 total time=   0.0s\n",
      "[CV 1/8] END C=1.5, multi_class=multinomial, solver=liblinear;, score=nan total time=   0.0s\n",
      "[CV 2/8] END C=1.5, multi_class=multinomial, solver=liblinear;, score=nan total time=   0.0s\n",
      "[CV 3/8] END C=1.5, multi_class=multinomial, solver=liblinear;, score=nan total time=   0.0s\n",
      "[CV 4/8] END C=1.5, multi_class=multinomial, solver=liblinear;, score=nan total time=   0.0s\n",
      "[CV 5/8] END C=1.5, multi_class=multinomial, solver=liblinear;, score=nan total time=   0.0s\n",
      "[CV 6/8] END C=1.5, multi_class=multinomial, solver=liblinear;, score=nan total time=   0.0s\n",
      "[CV 7/8] END C=1.5, multi_class=multinomial, solver=liblinear;, score=nan total time=   0.0s\n",
      "[CV 8/8] END C=1.5, multi_class=multinomial, solver=liblinear;, score=nan total time=   0.0s\n",
      "[CV 1/8] END C=1.0, multi_class=ovr, solver=liblinear;, score=0.500 total time=   0.0s\n",
      "[CV 2/8] END C=1.0, multi_class=ovr, solver=liblinear;, score=0.556 total time=   0.0s\n",
      "[CV 3/8] END C=1.0, multi_class=ovr, solver=liblinear;, score=0.639 total time=   0.0s\n",
      "[CV 4/8] END C=1.0, multi_class=ovr, solver=liblinear;, score=0.778 total time=   0.0s\n",
      "[CV 5/8] END C=1.0, multi_class=ovr, solver=liblinear;, score=0.556 total time=   0.0s\n",
      "[CV 6/8] END C=1.0, multi_class=ovr, solver=liblinear;, score=0.528 total time=   0.0s\n",
      "[CV 7/8] END C=1.0, multi_class=ovr, solver=liblinear;, score=0.444 total time=   0.0s\n",
      "[CV 8/8] END C=1.0, multi_class=ovr, solver=liblinear;, score=0.639 total time=   0.0s\n"
     ]
    },
    {
     "name": "stderr",
     "output_type": "stream",
     "text": [
      "/home/sumon/anaconda3/lib/python3.9/site-packages/sklearn/utils/optimize.py:210: ConvergenceWarning: newton-cg failed to converge. Increase the number of iterations.\n",
      "  warnings.warn(\n"
     ]
    },
    {
     "name": "stdout",
     "output_type": "stream",
     "text": [
      "[CV 1/8] END C=1.5, multi_class=multinomial, solver=newton-cg;, score=0.556 total time=   0.7s\n"
     ]
    },
    {
     "name": "stderr",
     "output_type": "stream",
     "text": [
      "/home/sumon/anaconda3/lib/python3.9/site-packages/sklearn/utils/optimize.py:210: ConvergenceWarning: newton-cg failed to converge. Increase the number of iterations.\n",
      "  warnings.warn(\n"
     ]
    },
    {
     "name": "stdout",
     "output_type": "stream",
     "text": [
      "[CV 2/8] END C=1.5, multi_class=multinomial, solver=newton-cg;, score=0.583 total time=   0.7s\n"
     ]
    },
    {
     "name": "stderr",
     "output_type": "stream",
     "text": [
      "/home/sumon/anaconda3/lib/python3.9/site-packages/sklearn/utils/optimize.py:210: ConvergenceWarning: newton-cg failed to converge. Increase the number of iterations.\n",
      "  warnings.warn(\n"
     ]
    },
    {
     "name": "stdout",
     "output_type": "stream",
     "text": [
      "[CV 3/8] END C=1.5, multi_class=multinomial, solver=newton-cg;, score=0.667 total time=   0.7s\n"
     ]
    },
    {
     "name": "stderr",
     "output_type": "stream",
     "text": [
      "/home/sumon/anaconda3/lib/python3.9/site-packages/sklearn/utils/optimize.py:210: ConvergenceWarning: newton-cg failed to converge. Increase the number of iterations.\n",
      "  warnings.warn(\n"
     ]
    },
    {
     "name": "stdout",
     "output_type": "stream",
     "text": [
      "[CV 4/8] END C=1.5, multi_class=multinomial, solver=newton-cg;, score=0.778 total time=   0.8s\n"
     ]
    },
    {
     "name": "stderr",
     "output_type": "stream",
     "text": [
      "/home/sumon/anaconda3/lib/python3.9/site-packages/sklearn/utils/optimize.py:210: ConvergenceWarning: newton-cg failed to converge. Increase the number of iterations.\n",
      "  warnings.warn(\n"
     ]
    },
    {
     "name": "stdout",
     "output_type": "stream",
     "text": [
      "[CV 5/8] END C=1.5, multi_class=multinomial, solver=newton-cg;, score=0.694 total time=   0.8s\n"
     ]
    },
    {
     "name": "stderr",
     "output_type": "stream",
     "text": [
      "/home/sumon/anaconda3/lib/python3.9/site-packages/sklearn/utils/optimize.py:210: ConvergenceWarning: newton-cg failed to converge. Increase the number of iterations.\n",
      "  warnings.warn(\n"
     ]
    },
    {
     "name": "stdout",
     "output_type": "stream",
     "text": [
      "[CV 6/8] END C=1.5, multi_class=multinomial, solver=newton-cg;, score=0.611 total time=   0.7s\n"
     ]
    },
    {
     "name": "stderr",
     "output_type": "stream",
     "text": [
      "/home/sumon/anaconda3/lib/python3.9/site-packages/sklearn/utils/optimize.py:210: ConvergenceWarning: newton-cg failed to converge. Increase the number of iterations.\n",
      "  warnings.warn(\n"
     ]
    },
    {
     "name": "stdout",
     "output_type": "stream",
     "text": [
      "[CV 7/8] END C=1.5, multi_class=multinomial, solver=newton-cg;, score=0.500 total time=   0.8s\n"
     ]
    },
    {
     "name": "stderr",
     "output_type": "stream",
     "text": [
      "/home/sumon/anaconda3/lib/python3.9/site-packages/sklearn/utils/optimize.py:210: ConvergenceWarning: newton-cg failed to converge. Increase the number of iterations.\n",
      "  warnings.warn(\n",
      "/home/sumon/anaconda3/lib/python3.9/site-packages/sklearn/model_selection/_validation.py:378: FitFailedWarning: \n",
      "24 fits failed out of a total of 120.\n",
      "The score on these train-test partitions for these parameters will be set to nan.\n",
      "If these failures are not expected, you can try to debug them by setting error_score='raise'.\n",
      "\n",
      "Below are more details about the failures:\n",
      "--------------------------------------------------------------------------------\n",
      "24 fits failed with the following error:\n",
      "Traceback (most recent call last):\n",
      "  File \"/home/sumon/anaconda3/lib/python3.9/site-packages/sklearn/model_selection/_validation.py\", line 686, in _fit_and_score\n",
      "    estimator.fit(X_train, y_train, **fit_params)\n",
      "  File \"/home/sumon/anaconda3/lib/python3.9/site-packages/sklearn/linear_model/_logistic.py\", line 1149, in fit\n",
      "    multi_class = _check_multi_class(self.multi_class, solver, len(self.classes_))\n",
      "  File \"/home/sumon/anaconda3/lib/python3.9/site-packages/sklearn/linear_model/_logistic.py\", line 97, in _check_multi_class\n",
      "    raise ValueError(\"Solver %s does not support a multinomial backend.\" % solver)\n",
      "ValueError: Solver liblinear does not support a multinomial backend.\n",
      "\n",
      "  warnings.warn(some_fits_failed_message, FitFailedWarning)\n",
      "/home/sumon/anaconda3/lib/python3.9/site-packages/sklearn/model_selection/_search.py:953: UserWarning: One or more of the test scores are non-finite: [0.52430556 0.625      0.52430556 0.625      0.57986111 0.51388889\n",
      " 0.51388889        nan        nan 0.63888889 0.57638889 0.51736111\n",
      "        nan 0.57986111 0.63194444]\n",
      "  warnings.warn(\n"
     ]
    },
    {
     "name": "stdout",
     "output_type": "stream",
     "text": [
      "[CV 8/8] END C=1.5, multi_class=multinomial, solver=newton-cg;, score=0.667 total time=   0.8s\n"
     ]
    },
    {
     "name": "stderr",
     "output_type": "stream",
     "text": [
      "/home/sumon/anaconda3/lib/python3.9/site-packages/sklearn/utils/optimize.py:210: ConvergenceWarning: newton-cg failed to converge. Increase the number of iterations.\n",
      "  warnings.warn(\n"
     ]
    },
    {
     "data": {
      "text/html": [
       "<style>#sk-container-id-5 {color: black;background-color: white;}#sk-container-id-5 pre{padding: 0;}#sk-container-id-5 div.sk-toggleable {background-color: white;}#sk-container-id-5 label.sk-toggleable__label {cursor: pointer;display: block;width: 100%;margin-bottom: 0;padding: 0.3em;box-sizing: border-box;text-align: center;}#sk-container-id-5 label.sk-toggleable__label-arrow:before {content: \"▸\";float: left;margin-right: 0.25em;color: #696969;}#sk-container-id-5 label.sk-toggleable__label-arrow:hover:before {color: black;}#sk-container-id-5 div.sk-estimator:hover label.sk-toggleable__label-arrow:before {color: black;}#sk-container-id-5 div.sk-toggleable__content {max-height: 0;max-width: 0;overflow: hidden;text-align: left;background-color: #f0f8ff;}#sk-container-id-5 div.sk-toggleable__content pre {margin: 0.2em;color: black;border-radius: 0.25em;background-color: #f0f8ff;}#sk-container-id-5 input.sk-toggleable__control:checked~div.sk-toggleable__content {max-height: 200px;max-width: 100%;overflow: auto;}#sk-container-id-5 input.sk-toggleable__control:checked~label.sk-toggleable__label-arrow:before {content: \"▾\";}#sk-container-id-5 div.sk-estimator input.sk-toggleable__control:checked~label.sk-toggleable__label {background-color: #d4ebff;}#sk-container-id-5 div.sk-label input.sk-toggleable__control:checked~label.sk-toggleable__label {background-color: #d4ebff;}#sk-container-id-5 input.sk-hidden--visually {border: 0;clip: rect(1px 1px 1px 1px);clip: rect(1px, 1px, 1px, 1px);height: 1px;margin: -1px;overflow: hidden;padding: 0;position: absolute;width: 1px;}#sk-container-id-5 div.sk-estimator {font-family: monospace;background-color: #f0f8ff;border: 1px dotted black;border-radius: 0.25em;box-sizing: border-box;margin-bottom: 0.5em;}#sk-container-id-5 div.sk-estimator:hover {background-color: #d4ebff;}#sk-container-id-5 div.sk-parallel-item::after {content: \"\";width: 100%;border-bottom: 1px solid gray;flex-grow: 1;}#sk-container-id-5 div.sk-label:hover label.sk-toggleable__label {background-color: #d4ebff;}#sk-container-id-5 div.sk-serial::before {content: \"\";position: absolute;border-left: 1px solid gray;box-sizing: border-box;top: 0;bottom: 0;left: 50%;z-index: 0;}#sk-container-id-5 div.sk-serial {display: flex;flex-direction: column;align-items: center;background-color: white;padding-right: 0.2em;padding-left: 0.2em;position: relative;}#sk-container-id-5 div.sk-item {position: relative;z-index: 1;}#sk-container-id-5 div.sk-parallel {display: flex;align-items: stretch;justify-content: center;background-color: white;position: relative;}#sk-container-id-5 div.sk-item::before, #sk-container-id-5 div.sk-parallel-item::before {content: \"\";position: absolute;border-left: 1px solid gray;box-sizing: border-box;top: 0;bottom: 0;left: 50%;z-index: -1;}#sk-container-id-5 div.sk-parallel-item {display: flex;flex-direction: column;z-index: 1;position: relative;background-color: white;}#sk-container-id-5 div.sk-parallel-item:first-child::after {align-self: flex-end;width: 50%;}#sk-container-id-5 div.sk-parallel-item:last-child::after {align-self: flex-start;width: 50%;}#sk-container-id-5 div.sk-parallel-item:only-child::after {width: 0;}#sk-container-id-5 div.sk-dashed-wrapped {border: 1px dashed gray;margin: 0 0.4em 0.5em 0.4em;box-sizing: border-box;padding-bottom: 0.4em;background-color: white;}#sk-container-id-5 div.sk-label label {font-family: monospace;font-weight: bold;display: inline-block;line-height: 1.2em;}#sk-container-id-5 div.sk-label-container {text-align: center;}#sk-container-id-5 div.sk-container {/* jupyter's `normalize.less` sets `[hidden] { display: none; }` but bootstrap.min.css set `[hidden] { display: none !important; }` so we also need the `!important` here to be able to override the default hidden behavior on the sphinx rendered scikit-learn.org. See: https://github.com/scikit-learn/scikit-learn/issues/21755 */display: inline-block !important;position: relative;}#sk-container-id-5 div.sk-text-repr-fallback {display: none;}</style><div id=\"sk-container-id-5\" class=\"sk-top-container\"><div class=\"sk-text-repr-fallback\"><pre>RandomizedSearchCV(cv=8, estimator=LogisticRegression(), n_iter=15,\n",
       "                   param_distributions={&#x27;C&#x27;: [1.0, 1.5, 2.0, 2.5],\n",
       "                                        &#x27;multi_class&#x27;: [&#x27;auto&#x27;, &#x27;ovr&#x27;,\n",
       "                                                        &#x27;multinomial&#x27;],\n",
       "                                        &#x27;solver&#x27;: [&#x27;newton-cg&#x27;, &#x27;lbfgs&#x27;,\n",
       "                                                   &#x27;liblinear&#x27;, &#x27;sag&#x27;,\n",
       "                                                   &#x27;saga&#x27;]},\n",
       "                   verbose=3)</pre><b>In a Jupyter environment, please rerun this cell to show the HTML representation or trust the notebook. <br />On GitHub, the HTML representation is unable to render, please try loading this page with nbviewer.org.</b></div><div class=\"sk-container\" hidden><div class=\"sk-item sk-dashed-wrapped\"><div class=\"sk-label-container\"><div class=\"sk-label sk-toggleable\"><input class=\"sk-toggleable__control sk-hidden--visually\" id=\"sk-estimator-id-9\" type=\"checkbox\" ><label for=\"sk-estimator-id-9\" class=\"sk-toggleable__label sk-toggleable__label-arrow\">RandomizedSearchCV</label><div class=\"sk-toggleable__content\"><pre>RandomizedSearchCV(cv=8, estimator=LogisticRegression(), n_iter=15,\n",
       "                   param_distributions={&#x27;C&#x27;: [1.0, 1.5, 2.0, 2.5],\n",
       "                                        &#x27;multi_class&#x27;: [&#x27;auto&#x27;, &#x27;ovr&#x27;,\n",
       "                                                        &#x27;multinomial&#x27;],\n",
       "                                        &#x27;solver&#x27;: [&#x27;newton-cg&#x27;, &#x27;lbfgs&#x27;,\n",
       "                                                   &#x27;liblinear&#x27;, &#x27;sag&#x27;,\n",
       "                                                   &#x27;saga&#x27;]},\n",
       "                   verbose=3)</pre></div></div></div><div class=\"sk-parallel\"><div class=\"sk-parallel-item\"><div class=\"sk-item\"><div class=\"sk-label-container\"><div class=\"sk-label sk-toggleable\"><input class=\"sk-toggleable__control sk-hidden--visually\" id=\"sk-estimator-id-10\" type=\"checkbox\" ><label for=\"sk-estimator-id-10\" class=\"sk-toggleable__label sk-toggleable__label-arrow\">estimator: LogisticRegression</label><div class=\"sk-toggleable__content\"><pre>LogisticRegression()</pre></div></div></div><div class=\"sk-serial\"><div class=\"sk-item\"><div class=\"sk-estimator sk-toggleable\"><input class=\"sk-toggleable__control sk-hidden--visually\" id=\"sk-estimator-id-11\" type=\"checkbox\" ><label for=\"sk-estimator-id-11\" class=\"sk-toggleable__label sk-toggleable__label-arrow\">LogisticRegression</label><div class=\"sk-toggleable__content\"><pre>LogisticRegression()</pre></div></div></div></div></div></div></div></div></div></div>"
      ],
      "text/plain": [
       "RandomizedSearchCV(cv=8, estimator=LogisticRegression(), n_iter=15,\n",
       "                   param_distributions={'C': [1.0, 1.5, 2.0, 2.5],\n",
       "                                        'multi_class': ['auto', 'ovr',\n",
       "                                                        'multinomial'],\n",
       "                                        'solver': ['newton-cg', 'lbfgs',\n",
       "                                                   'liblinear', 'sag',\n",
       "                                                   'saga']},\n",
       "                   verbose=3)"
      ]
     },
     "execution_count": 14,
     "metadata": {},
     "output_type": "execute_result"
    }
   ],
   "source": [
    "lr_params = {\n",
    "    \"C\":[1.0, 1.5, 2.0, 2.5],\n",
    "    \"solver\" :['newton-cg', 'lbfgs', 'liblinear', 'sag', 'saga'],\n",
    "    \"multi_class\" :['auto', 'ovr', 'multinomial']\n",
    "}\n",
    "ran_search_lr = RandomizedSearchCV(LogisticRegression(), param_distributions = lr_params, n_iter = 15,cv = 8,verbose = 3)\n",
    "ran_search_lr.fit(X_train, np.array(y_train))"
   ]
  },
  {
   "cell_type": "markdown",
   "id": "36f37e74",
   "metadata": {},
   "source": [
    "#### Model Selection:"
   ]
  },
  {
   "cell_type": "code",
   "execution_count": 15,
   "id": "R2jCNvLIcrXF",
   "metadata": {
    "colab": {
     "base_uri": "https://localhost:8080/"
    },
    "executionInfo": {
     "elapsed": 1658,
     "status": "ok",
     "timestamp": 1644259188632,
     "user": {
      "displayName": "Chanaka Prabath",
      "photoUrl": "https://lh3.googleusercontent.com/a-/AOh14GgY5HW7P6KjGUyZKUMsO5Mog94LL5YjDTBpJrgS=s64",
      "userId": "17014943137112987779"
     },
     "user_tz": -330
    },
    "id": "R2jCNvLIcrXF",
    "outputId": "719addd3-e6b8-46c1-a0fe-7306f82fd609",
    "scrolled": true
   },
   "outputs": [
    {
     "name": "stderr",
     "output_type": "stream",
     "text": [
      "/home/sumon/anaconda3/lib/python3.9/site-packages/sklearn/utils/optimize.py:210: ConvergenceWarning: newton-cg failed to converge. Increase the number of iterations.\n",
      "  warnings.warn(\n"
     ]
    },
    {
     "data": {
      "text/html": [
       "<style>#sk-container-id-6 {color: black;background-color: white;}#sk-container-id-6 pre{padding: 0;}#sk-container-id-6 div.sk-toggleable {background-color: white;}#sk-container-id-6 label.sk-toggleable__label {cursor: pointer;display: block;width: 100%;margin-bottom: 0;padding: 0.3em;box-sizing: border-box;text-align: center;}#sk-container-id-6 label.sk-toggleable__label-arrow:before {content: \"▸\";float: left;margin-right: 0.25em;color: #696969;}#sk-container-id-6 label.sk-toggleable__label-arrow:hover:before {color: black;}#sk-container-id-6 div.sk-estimator:hover label.sk-toggleable__label-arrow:before {color: black;}#sk-container-id-6 div.sk-toggleable__content {max-height: 0;max-width: 0;overflow: hidden;text-align: left;background-color: #f0f8ff;}#sk-container-id-6 div.sk-toggleable__content pre {margin: 0.2em;color: black;border-radius: 0.25em;background-color: #f0f8ff;}#sk-container-id-6 input.sk-toggleable__control:checked~div.sk-toggleable__content {max-height: 200px;max-width: 100%;overflow: auto;}#sk-container-id-6 input.sk-toggleable__control:checked~label.sk-toggleable__label-arrow:before {content: \"▾\";}#sk-container-id-6 div.sk-estimator input.sk-toggleable__control:checked~label.sk-toggleable__label {background-color: #d4ebff;}#sk-container-id-6 div.sk-label input.sk-toggleable__control:checked~label.sk-toggleable__label {background-color: #d4ebff;}#sk-container-id-6 input.sk-hidden--visually {border: 0;clip: rect(1px 1px 1px 1px);clip: rect(1px, 1px, 1px, 1px);height: 1px;margin: -1px;overflow: hidden;padding: 0;position: absolute;width: 1px;}#sk-container-id-6 div.sk-estimator {font-family: monospace;background-color: #f0f8ff;border: 1px dotted black;border-radius: 0.25em;box-sizing: border-box;margin-bottom: 0.5em;}#sk-container-id-6 div.sk-estimator:hover {background-color: #d4ebff;}#sk-container-id-6 div.sk-parallel-item::after {content: \"\";width: 100%;border-bottom: 1px solid gray;flex-grow: 1;}#sk-container-id-6 div.sk-label:hover label.sk-toggleable__label {background-color: #d4ebff;}#sk-container-id-6 div.sk-serial::before {content: \"\";position: absolute;border-left: 1px solid gray;box-sizing: border-box;top: 0;bottom: 0;left: 50%;z-index: 0;}#sk-container-id-6 div.sk-serial {display: flex;flex-direction: column;align-items: center;background-color: white;padding-right: 0.2em;padding-left: 0.2em;position: relative;}#sk-container-id-6 div.sk-item {position: relative;z-index: 1;}#sk-container-id-6 div.sk-parallel {display: flex;align-items: stretch;justify-content: center;background-color: white;position: relative;}#sk-container-id-6 div.sk-item::before, #sk-container-id-6 div.sk-parallel-item::before {content: \"\";position: absolute;border-left: 1px solid gray;box-sizing: border-box;top: 0;bottom: 0;left: 50%;z-index: -1;}#sk-container-id-6 div.sk-parallel-item {display: flex;flex-direction: column;z-index: 1;position: relative;background-color: white;}#sk-container-id-6 div.sk-parallel-item:first-child::after {align-self: flex-end;width: 50%;}#sk-container-id-6 div.sk-parallel-item:last-child::after {align-self: flex-start;width: 50%;}#sk-container-id-6 div.sk-parallel-item:only-child::after {width: 0;}#sk-container-id-6 div.sk-dashed-wrapped {border: 1px dashed gray;margin: 0 0.4em 0.5em 0.4em;box-sizing: border-box;padding-bottom: 0.4em;background-color: white;}#sk-container-id-6 div.sk-label label {font-family: monospace;font-weight: bold;display: inline-block;line-height: 1.2em;}#sk-container-id-6 div.sk-label-container {text-align: center;}#sk-container-id-6 div.sk-container {/* jupyter's `normalize.less` sets `[hidden] { display: none; }` but bootstrap.min.css set `[hidden] { display: none !important; }` so we also need the `!important` here to be able to override the default hidden behavior on the sphinx rendered scikit-learn.org. See: https://github.com/scikit-learn/scikit-learn/issues/21755 */display: inline-block !important;position: relative;}#sk-container-id-6 div.sk-text-repr-fallback {display: none;}</style><div id=\"sk-container-id-6\" class=\"sk-top-container\"><div class=\"sk-text-repr-fallback\"><pre>LogisticRegression(C=2.0, solver=&#x27;newton-cg&#x27;)</pre><b>In a Jupyter environment, please rerun this cell to show the HTML representation or trust the notebook. <br />On GitHub, the HTML representation is unable to render, please try loading this page with nbviewer.org.</b></div><div class=\"sk-container\" hidden><div class=\"sk-item\"><div class=\"sk-estimator sk-toggleable\"><input class=\"sk-toggleable__control sk-hidden--visually\" id=\"sk-estimator-id-12\" type=\"checkbox\" checked><label for=\"sk-estimator-id-12\" class=\"sk-toggleable__label sk-toggleable__label-arrow\">LogisticRegression</label><div class=\"sk-toggleable__content\"><pre>LogisticRegression(C=2.0, solver=&#x27;newton-cg&#x27;)</pre></div></div></div></div></div>"
      ],
      "text/plain": [
       "LogisticRegression(C=2.0, solver='newton-cg')"
      ]
     },
     "execution_count": 15,
     "metadata": {},
     "output_type": "execute_result"
    }
   ],
   "source": [
    "lr = ran_search_lr.best_estimator_ # Selecting the best model.\n",
    "lr.fit(X_train, np.array(y_train)) # Fitting the training data."
   ]
  },
  {
   "cell_type": "markdown",
   "id": "8d744746",
   "metadata": {},
   "source": [
    "#### Accuracy, Confusion Matrix and ROC Plot:"
   ]
  },
  {
   "cell_type": "code",
   "execution_count": 16,
   "id": "KT5Gc2EKcjBs",
   "metadata": {
    "colab": {
     "base_uri": "https://localhost:8080/",
     "height": 1000
    },
    "executionInfo": {
     "elapsed": 776,
     "status": "ok",
     "timestamp": 1644259189403,
     "user": {
      "displayName": "Chanaka Prabath",
      "photoUrl": "https://lh3.googleusercontent.com/a-/AOh14GgY5HW7P6KjGUyZKUMsO5Mog94LL5YjDTBpJrgS=s64",
      "userId": "17014943137112987779"
     },
     "user_tz": -330
    },
    "id": "KT5Gc2EKcjBs",
    "outputId": "d4b7b9f6-20d3-4a92-9775-47549ba50e1e"
   },
   "outputs": [
    {
     "name": "stdout",
     "output_type": "stream",
     "text": [
      "Training Accuracy:  0.75\n",
      "Testing Accuracy:  0.6805555555555556\n"
     ]
    },
    {
     "data": {
      "image/png": "[encoded data removed]",
      "text/plain": [
       "<Figure size 720x504 with 2 Axes>"
      ]
     },
     "metadata": {
      "needs_background": "light"
     },
     "output_type": "display_data"
    },
    {
     "name": "stderr",
     "output_type": "stream",
     "text": [
      "/home/sumon/anaconda3/lib/python3.9/site-packages/sklearn/metrics/_ranking.py:1018: UndefinedMetricWarning: No positive samples in y_true, true positive value should be meaningless\n",
      "  warnings.warn(\n",
      "/home/sumon/anaconda3/lib/python3.9/site-packages/sklearn/metrics/_ranking.py:1018: UndefinedMetricWarning: No positive samples in y_true, true positive value should be meaningless\n",
      "  warnings.warn(\n",
      "/home/sumon/anaconda3/lib/python3.9/site-packages/sklearn/metrics/_ranking.py:1018: UndefinedMetricWarning: No positive samples in y_true, true positive value should be meaningless\n",
      "  warnings.warn(\n",
      "/home/sumon/anaconda3/lib/python3.9/site-packages/sklearn/metrics/_ranking.py:1018: UndefinedMetricWarning: No positive samples in y_true, true positive value should be meaningless\n",
      "  warnings.warn(\n",
      "/home/sumon/anaconda3/lib/python3.9/site-packages/sklearn/metrics/_ranking.py:1018: UndefinedMetricWarning: No positive samples in y_true, true positive value should be meaningless\n",
      "  warnings.warn(\n",
      "/home/sumon/anaconda3/lib/python3.9/site-packages/sklearn/metrics/_ranking.py:1018: UndefinedMetricWarning: No positive samples in y_true, true positive value should be meaningless\n",
      "  warnings.warn(\n",
      "/home/sumon/anaconda3/lib/python3.9/site-packages/sklearn/metrics/_ranking.py:1018: UndefinedMetricWarning: No positive samples in y_true, true positive value should be meaningless\n",
      "  warnings.warn(\n"
     ]
    },
    {
     "data": {
      "image/png": "[encoded data removed]",
      "text/plain": [
       "<Figure size 432x288 with 1 Axes>"
      ]
     },
     "metadata": {
      "needs_background": "light"
     },
     "output_type": "display_data"
    }
   ],
   "source": [
    "y_pred_lr = lr.predict(X_test) # Prediction on test data\n",
    "test_acc_lr = lr.score(X_test,np.array(y_test)) # Testing accuracy\n",
    "train_acc_lr = lr.score(X_train,np.array(y_train)) # Training accuracy\n",
    "print(\"Training Accuracy: \", train_acc_lr)\n",
    "print(\"Testing Accuracy: \", test_acc_lr)\n",
    "con_matrix(y_pred_lr, np.array(y_test))\n",
    "plot_roc(X_test, y_test,lr)"
   ]
  },
  {
   "cell_type": "markdown",
   "id": "wcYCcV6wc3P0",
   "metadata": {
    "id": "wcYCcV6wc3P0"
   },
   "source": [
    "#### XGBRegressor\n",
    "Reference: https://xgboost.readthedocs.io/en/stable/python/python_api.html#module-xgboost.sklearn"
   ]
  },
  {
   "cell_type": "code",
   "execution_count": 17,
   "id": "-IAoo4WBc1tX",
   "metadata": {
    "colab": {
     "base_uri": "https://localhost:8080/"
    },
    "executionInfo": {
     "elapsed": 25448,
     "status": "ok",
     "timestamp": 1644259214848,
     "user": {
      "displayName": "Chanaka Prabath",
      "photoUrl": "https://lh3.googleusercontent.com/a-/AOh14GgY5HW7P6KjGUyZKUMsO5Mog94LL5YjDTBpJrgS=s64",
      "userId": "17014943137112987779"
     },
     "user_tz": -330
    },
    "id": "-IAoo4WBc1tX",
    "outputId": "26e559fb-9df3-48c9-c816-4f20ef63f8b2"
   },
   "outputs": [
    {
     "name": "stdout",
     "output_type": "stream",
     "text": [
      "Fitting 8 folds for each of 15 candidates, totalling 120 fits\n",
      "[CV 1/8] END colsample_bytree=0.4, gamma=0.2, learning_rate=0.05, max_depth=8, min_child_weight=5, n_estimators=100;, score=0.611 total time=   0.6s\n",
      "[CV 2/8] END colsample_bytree=0.4, gamma=0.2, learning_rate=0.05, max_depth=8, min_child_weight=5, n_estimators=100;, score=0.528 total time=   0.6s\n",
      "[CV 3/8] END colsample_bytree=0.4, gamma=0.2, learning_rate=0.05, max_depth=8, min_child_weight=5, n_estimators=100;, score=0.778 total time=   0.5s\n",
      "[CV 4/8] END colsample_bytree=0.4, gamma=0.2, learning_rate=0.05, max_depth=8, min_child_weight=5, n_estimators=100;, score=0.667 total time=   0.5s\n",
      "[CV 5/8] END colsample_bytree=0.4, gamma=0.2, learning_rate=0.05, max_depth=8, min_child_weight=5, n_estimators=100;, score=0.611 total time=   0.5s\n",
      "[CV 6/8] END colsample_bytree=0.4, gamma=0.2, learning_rate=0.05, max_depth=8, min_child_weight=5, n_estimators=100;, score=0.500 total time=   0.7s\n",
      "[CV 7/8] END colsample_bytree=0.4, gamma=0.2, learning_rate=0.05, max_depth=8, min_child_weight=5, n_estimators=100;, score=0.583 total time=   0.5s\n",
      "[CV 8/8] END colsample_bytree=0.4, gamma=0.2, learning_rate=0.05, max_depth=8, min_child_weight=5, n_estimators=100;, score=0.528 total time=   0.5s\n",
      "[CV 1/8] END colsample_bytree=0.7, gamma=0.2, learning_rate=0.25, max_depth=15, min_child_weight=1, n_estimators=150;, score=0.667 total time=   0.7s\n",
      "[CV 2/8] END colsample_bytree=0.7, gamma=0.2, learning_rate=0.25, max_depth=15, min_child_weight=1, n_estimators=150;, score=0.611 total time=   0.8s\n",
      "[CV 3/8] END colsample_bytree=0.7, gamma=0.2, learning_rate=0.25, max_depth=15, min_child_weight=1, n_estimators=150;, score=0.750 total time=   1.0s\n",
      "[CV 4/8] END colsample_bytree=0.7, gamma=0.2, learning_rate=0.25, max_depth=15, min_child_weight=1, n_estimators=150;, score=0.694 total time=   0.8s\n",
      "[CV 5/8] END colsample_bytree=0.7, gamma=0.2, learning_rate=0.25, max_depth=15, min_child_weight=1, n_estimators=150;, score=0.556 total time=   1.0s\n",
      "[CV 6/8] END colsample_bytree=0.7, gamma=0.2, learning_rate=0.25, max_depth=15, min_child_weight=1, n_estimators=150;, score=0.444 total time=   0.8s\n",
      "[CV 7/8] END colsample_bytree=0.7, gamma=0.2, learning_rate=0.25, max_depth=15, min_child_weight=1, n_estimators=150;, score=0.500 total time=   0.9s\n",
      "[CV 8/8] END colsample_bytree=0.7, gamma=0.2, learning_rate=0.25, max_depth=15, min_child_weight=1, n_estimators=150;, score=0.583 total time=   1.3s\n",
      "[CV 1/8] END colsample_bytree=0.7, gamma=0.2, learning_rate=0.1, max_depth=10, min_child_weight=7, n_estimators=150;, score=0.556 total time=   0.5s\n",
      "[CV 2/8] END colsample_bytree=0.7, gamma=0.2, learning_rate=0.1, max_depth=10, min_child_weight=7, n_estimators=150;, score=0.472 total time=   0.6s\n",
      "[CV 3/8] END colsample_bytree=0.7, gamma=0.2, learning_rate=0.1, max_depth=10, min_child_weight=7, n_estimators=150;, score=0.694 total time=   0.7s\n",
      "[CV 4/8] END colsample_bytree=0.7, gamma=0.2, learning_rate=0.1, max_depth=10, min_child_weight=7, n_estimators=150;, score=0.750 total time=   0.7s\n",
      "[CV 5/8] END colsample_bytree=0.7, gamma=0.2, learning_rate=0.1, max_depth=10, min_child_weight=7, n_estimators=150;, score=0.500 total time=   0.6s\n",
      "[CV 6/8] END colsample_bytree=0.7, gamma=0.2, learning_rate=0.1, max_depth=10, min_child_weight=7, n_estimators=150;, score=0.556 total time=   0.7s\n",
      "[CV 7/8] END colsample_bytree=0.7, gamma=0.2, learning_rate=0.1, max_depth=10, min_child_weight=7, n_estimators=150;, score=0.611 total time=   1.1s\n",
      "[CV 8/8] END colsample_bytree=0.7, gamma=0.2, learning_rate=0.1, max_depth=10, min_child_weight=7, n_estimators=150;, score=0.528 total time=   0.6s\n",
      "[CV 1/8] END colsample_bytree=0.5, gamma=0.4, learning_rate=0.25, max_depth=5, min_child_weight=1, n_estimators=120;, score=0.639 total time=   0.8s\n",
      "[CV 2/8] END colsample_bytree=0.5, gamma=0.4, learning_rate=0.25, max_depth=5, min_child_weight=1, n_estimators=120;, score=0.611 total time=   0.9s\n",
      "[CV 3/8] END colsample_bytree=0.5, gamma=0.4, learning_rate=0.25, max_depth=5, min_child_weight=1, n_estimators=120;, score=0.611 total time=   0.9s\n",
      "[CV 4/8] END colsample_bytree=0.5, gamma=0.4, learning_rate=0.25, max_depth=5, min_child_weight=1, n_estimators=120;, score=0.722 total time=   0.7s\n",
      "[CV 5/8] END colsample_bytree=0.5, gamma=0.4, learning_rate=0.25, max_depth=5, min_child_weight=1, n_estimators=120;, score=0.556 total time=   0.7s\n",
      "[CV 6/8] END colsample_bytree=0.5, gamma=0.4, learning_rate=0.25, max_depth=5, min_child_weight=1, n_estimators=120;, score=0.444 total time=   0.9s\n",
      "[CV 7/8] END colsample_bytree=0.5, gamma=0.4, learning_rate=0.25, max_depth=5, min_child_weight=1, n_estimators=120;, score=0.528 total time=   0.7s\n",
      "[CV 8/8] END colsample_bytree=0.5, gamma=0.4, learning_rate=0.25, max_depth=5, min_child_weight=1, n_estimators=120;, score=0.528 total time=   0.6s\n",
      "[CV 1/8] END colsample_bytree=0.4, gamma=0.3, learning_rate=0.2, max_depth=8, min_child_weight=3, n_estimators=120;, score=0.556 total time=   0.5s\n",
      "[CV 2/8] END colsample_bytree=0.4, gamma=0.3, learning_rate=0.2, max_depth=8, min_child_weight=3, n_estimators=120;, score=0.556 total time=   0.8s\n",
      "[CV 3/8] END colsample_bytree=0.4, gamma=0.3, learning_rate=0.2, max_depth=8, min_child_weight=3, n_estimators=120;, score=0.750 total time=   0.5s\n",
      "[CV 4/8] END colsample_bytree=0.4, gamma=0.3, learning_rate=0.2, max_depth=8, min_child_weight=3, n_estimators=120;, score=0.722 total time=   0.6s\n",
      "[CV 5/8] END colsample_bytree=0.4, gamma=0.3, learning_rate=0.2, max_depth=8, min_child_weight=3, n_estimators=120;, score=0.639 total time=   0.6s\n",
      "[CV 6/8] END colsample_bytree=0.4, gamma=0.3, learning_rate=0.2, max_depth=8, min_child_weight=3, n_estimators=120;, score=0.583 total time=   0.8s\n",
      "[CV 7/8] END colsample_bytree=0.4, gamma=0.3, learning_rate=0.2, max_depth=8, min_child_weight=3, n_estimators=120;, score=0.556 total time=   1.0s\n",
      "[CV 8/8] END colsample_bytree=0.4, gamma=0.3, learning_rate=0.2, max_depth=8, min_child_weight=3, n_estimators=120;, score=0.444 total time=   0.8s\n",
      "[CV 1/8] END colsample_bytree=0.3, gamma=0.4, learning_rate=0.3, max_depth=5, min_child_weight=1, n_estimators=100;, score=0.639 total time=   0.5s\n",
      "[CV 2/8] END colsample_bytree=0.3, gamma=0.4, learning_rate=0.3, max_depth=5, min_child_weight=1, n_estimators=100;, score=0.583 total time=   0.7s\n",
      "[CV 3/8] END colsample_bytree=0.3, gamma=0.4, learning_rate=0.3, max_depth=5, min_child_weight=1, n_estimators=100;, score=0.667 total time=   0.6s\n",
      "[CV 4/8] END colsample_bytree=0.3, gamma=0.4, learning_rate=0.3, max_depth=5, min_child_weight=1, n_estimators=100;, score=0.639 total time=   0.6s\n",
      "[CV 5/8] END colsample_bytree=0.3, gamma=0.4, learning_rate=0.3, max_depth=5, min_child_weight=1, n_estimators=100;, score=0.611 total time=   0.5s\n",
      "[CV 6/8] END colsample_bytree=0.3, gamma=0.4, learning_rate=0.3, max_depth=5, min_child_weight=1, n_estimators=100;, score=0.528 total time=   0.4s\n",
      "[CV 7/8] END colsample_bytree=0.3, gamma=0.4, learning_rate=0.3, max_depth=5, min_child_weight=1, n_estimators=100;, score=0.500 total time=   0.5s\n",
      "[CV 8/8] END colsample_bytree=0.3, gamma=0.4, learning_rate=0.3, max_depth=5, min_child_weight=1, n_estimators=100;, score=0.500 total time=   0.4s\n",
      "[CV 1/8] END colsample_bytree=0.3, gamma=0.4, learning_rate=0.3, max_depth=10, min_child_weight=7, n_estimators=150;, score=0.583 total time=   0.6s\n",
      "[CV 2/8] END colsample_bytree=0.3, gamma=0.4, learning_rate=0.3, max_depth=10, min_child_weight=7, n_estimators=150;, score=0.500 total time=   0.7s\n",
      "[CV 3/8] END colsample_bytree=0.3, gamma=0.4, learning_rate=0.3, max_depth=10, min_child_weight=7, n_estimators=150;, score=0.667 total time=   0.7s\n",
      "[CV 4/8] END colsample_bytree=0.3, gamma=0.4, learning_rate=0.3, max_depth=10, min_child_weight=7, n_estimators=150;, score=0.667 total time=   0.6s\n",
      "[CV 5/8] END colsample_bytree=0.3, gamma=0.4, learning_rate=0.3, max_depth=10, min_child_weight=7, n_estimators=150;, score=0.556 total time=   0.6s\n",
      "[CV 6/8] END colsample_bytree=0.3, gamma=0.4, learning_rate=0.3, max_depth=10, min_child_weight=7, n_estimators=150;, score=0.583 total time=   0.8s\n",
      "[CV 7/8] END colsample_bytree=0.3, gamma=0.4, learning_rate=0.3, max_depth=10, min_child_weight=7, n_estimators=150;, score=0.556 total time=   0.5s\n"
     ]
    },
    {
     "name": "stdout",
     "output_type": "stream",
     "text": [
      "[CV 8/8] END colsample_bytree=0.3, gamma=0.4, learning_rate=0.3, max_depth=10, min_child_weight=7, n_estimators=150;, score=0.556 total time=   0.6s\n",
      "[CV 1/8] END colsample_bytree=0.4, gamma=0.1, learning_rate=0.05, max_depth=3, min_child_weight=5, n_estimators=120;, score=0.611 total time=   0.5s\n",
      "[CV 2/8] END colsample_bytree=0.4, gamma=0.1, learning_rate=0.05, max_depth=3, min_child_weight=5, n_estimators=120;, score=0.500 total time=   0.4s\n",
      "[CV 3/8] END colsample_bytree=0.4, gamma=0.1, learning_rate=0.05, max_depth=3, min_child_weight=5, n_estimators=120;, score=0.778 total time=   0.8s\n",
      "[CV 4/8] END colsample_bytree=0.4, gamma=0.1, learning_rate=0.05, max_depth=3, min_child_weight=5, n_estimators=120;, score=0.722 total time=   0.4s\n",
      "[CV 5/8] END colsample_bytree=0.4, gamma=0.1, learning_rate=0.05, max_depth=3, min_child_weight=5, n_estimators=120;, score=0.583 total time=   0.5s\n",
      "[CV 6/8] END colsample_bytree=0.4, gamma=0.1, learning_rate=0.05, max_depth=3, min_child_weight=5, n_estimators=120;, score=0.500 total time=   0.4s\n",
      "[CV 7/8] END colsample_bytree=0.4, gamma=0.1, learning_rate=0.05, max_depth=3, min_child_weight=5, n_estimators=120;, score=0.556 total time=   0.6s\n",
      "[CV 8/8] END colsample_bytree=0.4, gamma=0.1, learning_rate=0.05, max_depth=3, min_child_weight=5, n_estimators=120;, score=0.500 total time=   1.0s\n",
      "[CV 1/8] END colsample_bytree=0.4, gamma=0.4, learning_rate=0.15, max_depth=6, min_child_weight=1, n_estimators=150;, score=0.583 total time=   1.8s\n",
      "[CV 2/8] END colsample_bytree=0.4, gamma=0.4, learning_rate=0.15, max_depth=6, min_child_weight=1, n_estimators=150;, score=0.583 total time=   1.3s\n",
      "[CV 3/8] END colsample_bytree=0.4, gamma=0.4, learning_rate=0.15, max_depth=6, min_child_weight=1, n_estimators=150;, score=0.667 total time=   1.0s\n",
      "[CV 4/8] END colsample_bytree=0.4, gamma=0.4, learning_rate=0.15, max_depth=6, min_child_weight=1, n_estimators=150;, score=0.722 total time=   0.8s\n",
      "[CV 5/8] END colsample_bytree=0.4, gamma=0.4, learning_rate=0.15, max_depth=6, min_child_weight=1, n_estimators=150;, score=0.583 total time=   0.8s\n",
      "[CV 6/8] END colsample_bytree=0.4, gamma=0.4, learning_rate=0.15, max_depth=6, min_child_weight=1, n_estimators=150;, score=0.472 total time=   0.7s\n",
      "[CV 7/8] END colsample_bytree=0.4, gamma=0.4, learning_rate=0.15, max_depth=6, min_child_weight=1, n_estimators=150;, score=0.528 total time=   0.8s\n",
      "[CV 8/8] END colsample_bytree=0.4, gamma=0.4, learning_rate=0.15, max_depth=6, min_child_weight=1, n_estimators=150;, score=0.528 total time=   0.8s\n",
      "[CV 1/8] END colsample_bytree=0.4, gamma=0.2, learning_rate=0.25, max_depth=15, min_child_weight=3, n_estimators=50;, score=0.556 total time=   0.2s\n",
      "[CV 2/8] END colsample_bytree=0.4, gamma=0.2, learning_rate=0.25, max_depth=15, min_child_weight=3, n_estimators=50;, score=0.583 total time=   0.2s\n",
      "[CV 3/8] END colsample_bytree=0.4, gamma=0.2, learning_rate=0.25, max_depth=15, min_child_weight=3, n_estimators=50;, score=0.750 total time=   0.2s\n",
      "[CV 4/8] END colsample_bytree=0.4, gamma=0.2, learning_rate=0.25, max_depth=15, min_child_weight=3, n_estimators=50;, score=0.722 total time=   0.2s\n",
      "[CV 5/8] END colsample_bytree=0.4, gamma=0.2, learning_rate=0.25, max_depth=15, min_child_weight=3, n_estimators=50;, score=0.611 total time=   0.3s\n",
      "[CV 6/8] END colsample_bytree=0.4, gamma=0.2, learning_rate=0.25, max_depth=15, min_child_weight=3, n_estimators=50;, score=0.556 total time=   0.3s\n",
      "[CV 7/8] END colsample_bytree=0.4, gamma=0.2, learning_rate=0.25, max_depth=15, min_child_weight=3, n_estimators=50;, score=0.583 total time=   0.2s\n",
      "[CV 8/8] END colsample_bytree=0.4, gamma=0.2, learning_rate=0.25, max_depth=15, min_child_weight=3, n_estimators=50;, score=0.472 total time=   0.2s\n",
      "[CV 1/8] END colsample_bytree=0.4, gamma=0.1, learning_rate=0.2, max_depth=3, min_child_weight=7, n_estimators=50;, score=0.611 total time=   0.2s\n",
      "[CV 2/8] END colsample_bytree=0.4, gamma=0.1, learning_rate=0.2, max_depth=3, min_child_weight=7, n_estimators=50;, score=0.500 total time=   0.2s\n",
      "[CV 3/8] END colsample_bytree=0.4, gamma=0.1, learning_rate=0.2, max_depth=3, min_child_weight=7, n_estimators=50;, score=0.722 total time=   0.2s\n",
      "[CV 4/8] END colsample_bytree=0.4, gamma=0.1, learning_rate=0.2, max_depth=3, min_child_weight=7, n_estimators=50;, score=0.694 total time=   0.2s\n",
      "[CV 5/8] END colsample_bytree=0.4, gamma=0.1, learning_rate=0.2, max_depth=3, min_child_weight=7, n_estimators=50;, score=0.556 total time=   0.2s\n",
      "[CV 6/8] END colsample_bytree=0.4, gamma=0.1, learning_rate=0.2, max_depth=3, min_child_weight=7, n_estimators=50;, score=0.611 total time=   0.2s\n",
      "[CV 7/8] END colsample_bytree=0.4, gamma=0.1, learning_rate=0.2, max_depth=3, min_child_weight=7, n_estimators=50;, score=0.556 total time=   0.2s\n",
      "[CV 8/8] END colsample_bytree=0.4, gamma=0.1, learning_rate=0.2, max_depth=3, min_child_weight=7, n_estimators=50;, score=0.500 total time=   0.2s\n",
      "[CV 1/8] END colsample_bytree=0.3, gamma=0.2, learning_rate=0.05, max_depth=6, min_child_weight=1, n_estimators=150;, score=0.639 total time=   0.9s\n",
      "[CV 2/8] END colsample_bytree=0.3, gamma=0.2, learning_rate=0.05, max_depth=6, min_child_weight=1, n_estimators=150;, score=0.583 total time=   0.8s\n",
      "[CV 3/8] END colsample_bytree=0.3, gamma=0.2, learning_rate=0.05, max_depth=6, min_child_weight=1, n_estimators=150;, score=0.639 total time=   1.0s\n",
      "[CV 4/8] END colsample_bytree=0.3, gamma=0.2, learning_rate=0.05, max_depth=6, min_child_weight=1, n_estimators=150;, score=0.667 total time=   0.8s\n",
      "[CV 5/8] END colsample_bytree=0.3, gamma=0.2, learning_rate=0.05, max_depth=6, min_child_weight=1, n_estimators=150;, score=0.583 total time=   0.8s\n",
      "[CV 6/8] END colsample_bytree=0.3, gamma=0.2, learning_rate=0.05, max_depth=6, min_child_weight=1, n_estimators=150;, score=0.472 total time=   1.3s\n",
      "[CV 7/8] END colsample_bytree=0.3, gamma=0.2, learning_rate=0.05, max_depth=6, min_child_weight=1, n_estimators=150;, score=0.500 total time=   0.7s\n",
      "[CV 8/8] END colsample_bytree=0.3, gamma=0.2, learning_rate=0.05, max_depth=6, min_child_weight=1, n_estimators=150;, score=0.472 total time=   0.8s\n",
      "[CV 1/8] END colsample_bytree=0.3, gamma=0.1, learning_rate=0.25, max_depth=15, min_child_weight=7, n_estimators=50;, score=0.556 total time=   0.2s\n",
      "[CV 2/8] END colsample_bytree=0.3, gamma=0.1, learning_rate=0.25, max_depth=15, min_child_weight=7, n_estimators=50;, score=0.556 total time=   0.2s\n",
      "[CV 3/8] END colsample_bytree=0.3, gamma=0.1, learning_rate=0.25, max_depth=15, min_child_weight=7, n_estimators=50;, score=0.667 total time=   0.2s\n",
      "[CV 4/8] END colsample_bytree=0.3, gamma=0.1, learning_rate=0.25, max_depth=15, min_child_weight=7, n_estimators=50;, score=0.667 total time=   0.2s\n",
      "[CV 5/8] END colsample_bytree=0.3, gamma=0.1, learning_rate=0.25, max_depth=15, min_child_weight=7, n_estimators=50;, score=0.583 total time=   0.2s\n",
      "[CV 6/8] END colsample_bytree=0.3, gamma=0.1, learning_rate=0.25, max_depth=15, min_child_weight=7, n_estimators=50;, score=0.528 total time=   0.2s\n",
      "[CV 7/8] END colsample_bytree=0.3, gamma=0.1, learning_rate=0.25, max_depth=15, min_child_weight=7, n_estimators=50;, score=0.611 total time=   0.2s\n",
      "[CV 8/8] END colsample_bytree=0.3, gamma=0.1, learning_rate=0.25, max_depth=15, min_child_weight=7, n_estimators=50;, score=0.528 total time=   0.2s\n",
      "[CV 1/8] END colsample_bytree=0.7, gamma=0.4, learning_rate=0.05, max_depth=7, min_child_weight=1, n_estimators=100;, score=0.639 total time=   0.5s\n",
      "[CV 2/8] END colsample_bytree=0.7, gamma=0.4, learning_rate=0.05, max_depth=7, min_child_weight=1, n_estimators=100;, score=0.611 total time=   0.5s\n",
      "[CV 3/8] END colsample_bytree=0.7, gamma=0.4, learning_rate=0.05, max_depth=7, min_child_weight=1, n_estimators=100;, score=0.694 total time=   0.5s\n",
      "[CV 4/8] END colsample_bytree=0.7, gamma=0.4, learning_rate=0.05, max_depth=7, min_child_weight=1, n_estimators=100;, score=0.694 total time=   0.6s\n",
      "[CV 5/8] END colsample_bytree=0.7, gamma=0.4, learning_rate=0.05, max_depth=7, min_child_weight=1, n_estimators=100;, score=0.528 total time=   0.5s\n",
      "[CV 6/8] END colsample_bytree=0.7, gamma=0.4, learning_rate=0.05, max_depth=7, min_child_weight=1, n_estimators=100;, score=0.444 total time=   0.6s\n",
      "[CV 7/8] END colsample_bytree=0.7, gamma=0.4, learning_rate=0.05, max_depth=7, min_child_weight=1, n_estimators=100;, score=0.528 total time=   0.5s\n"
     ]
    },
    {
     "name": "stdout",
     "output_type": "stream",
     "text": [
      "[CV 8/8] END colsample_bytree=0.7, gamma=0.4, learning_rate=0.05, max_depth=7, min_child_weight=1, n_estimators=100;, score=0.528 total time=   0.7s\n",
      "[CV 1/8] END colsample_bytree=0.4, gamma=0.3, learning_rate=0.05, max_depth=5, min_child_weight=5, n_estimators=120;, score=0.639 total time=   0.5s\n",
      "[CV 2/8] END colsample_bytree=0.4, gamma=0.3, learning_rate=0.05, max_depth=5, min_child_weight=5, n_estimators=120;, score=0.528 total time=   0.5s\n",
      "[CV 3/8] END colsample_bytree=0.4, gamma=0.3, learning_rate=0.05, max_depth=5, min_child_weight=5, n_estimators=120;, score=0.778 total time=   0.6s\n",
      "[CV 4/8] END colsample_bytree=0.4, gamma=0.3, learning_rate=0.05, max_depth=5, min_child_weight=5, n_estimators=120;, score=0.694 total time=   0.5s\n",
      "[CV 5/8] END colsample_bytree=0.4, gamma=0.3, learning_rate=0.05, max_depth=5, min_child_weight=5, n_estimators=120;, score=0.611 total time=   0.5s\n",
      "[CV 6/8] END colsample_bytree=0.4, gamma=0.3, learning_rate=0.05, max_depth=5, min_child_weight=5, n_estimators=120;, score=0.500 total time=   0.4s\n",
      "[CV 7/8] END colsample_bytree=0.4, gamma=0.3, learning_rate=0.05, max_depth=5, min_child_weight=5, n_estimators=120;, score=0.583 total time=   0.5s\n",
      "[CV 8/8] END colsample_bytree=0.4, gamma=0.3, learning_rate=0.05, max_depth=5, min_child_weight=5, n_estimators=120;, score=0.528 total time=   0.5s\n"
     ]
    },
    {
     "data": {
      "text/html": [
       "<style>#sk-container-id-7 {color: black;background-color: white;}#sk-container-id-7 pre{padding: 0;}#sk-container-id-7 div.sk-toggleable {background-color: white;}#sk-container-id-7 label.sk-toggleable__label {cursor: pointer;display: block;width: 100%;margin-bottom: 0;padding: 0.3em;box-sizing: border-box;text-align: center;}#sk-container-id-7 label.sk-toggleable__label-arrow:before {content: \"▸\";float: left;margin-right: 0.25em;color: #696969;}#sk-container-id-7 label.sk-toggleable__label-arrow:hover:before {color: black;}#sk-container-id-7 div.sk-estimator:hover label.sk-toggleable__label-arrow:before {color: black;}#sk-container-id-7 div.sk-toggleable__content {max-height: 0;max-width: 0;overflow: hidden;text-align: left;background-color: #f0f8ff;}#sk-container-id-7 div.sk-toggleable__content pre {margin: 0.2em;color: black;border-radius: 0.25em;background-color: #f0f8ff;}#sk-container-id-7 input.sk-toggleable__control:checked~div.sk-toggleable__content {max-height: 200px;max-width: 100%;overflow: auto;}#sk-container-id-7 input.sk-toggleable__control:checked~label.sk-toggleable__label-arrow:before {content: \"▾\";}#sk-container-id-7 div.sk-estimator input.sk-toggleable__control:checked~label.sk-toggleable__label {background-color: #d4ebff;}#sk-container-id-7 div.sk-label input.sk-toggleable__control:checked~label.sk-toggleable__label {background-color: #d4ebff;}#sk-container-id-7 input.sk-hidden--visually {border: 0;clip: rect(1px 1px 1px 1px);clip: rect(1px, 1px, 1px, 1px);height: 1px;margin: -1px;overflow: hidden;padding: 0;position: absolute;width: 1px;}#sk-container-id-7 div.sk-estimator {font-family: monospace;background-color: #f0f8ff;border: 1px dotted black;border-radius: 0.25em;box-sizing: border-box;margin-bottom: 0.5em;}#sk-container-id-7 div.sk-estimator:hover {background-color: #d4ebff;}#sk-container-id-7 div.sk-parallel-item::after {content: \"\";width: 100%;border-bottom: 1px solid gray;flex-grow: 1;}#sk-container-id-7 div.sk-label:hover label.sk-toggleable__label {background-color: #d4ebff;}#sk-container-id-7 div.sk-serial::before {content: \"\";position: absolute;border-left: 1px solid gray;box-sizing: border-box;top: 0;bottom: 0;left: 50%;z-index: 0;}#sk-container-id-7 div.sk-serial {display: flex;flex-direction: column;align-items: center;background-color: white;padding-right: 0.2em;padding-left: 0.2em;position: relative;}#sk-container-id-7 div.sk-item {position: relative;z-index: 1;}#sk-container-id-7 div.sk-parallel {display: flex;align-items: stretch;justify-content: center;background-color: white;position: relative;}#sk-container-id-7 div.sk-item::before, #sk-container-id-7 div.sk-parallel-item::before {content: \"\";position: absolute;border-left: 1px solid gray;box-sizing: border-box;top: 0;bottom: 0;left: 50%;z-index: -1;}#sk-container-id-7 div.sk-parallel-item {display: flex;flex-direction: column;z-index: 1;position: relative;background-color: white;}#sk-container-id-7 div.sk-parallel-item:first-child::after {align-self: flex-end;width: 50%;}#sk-container-id-7 div.sk-parallel-item:last-child::after {align-self: flex-start;width: 50%;}#sk-container-id-7 div.sk-parallel-item:only-child::after {width: 0;}#sk-container-id-7 div.sk-dashed-wrapped {border: 1px dashed gray;margin: 0 0.4em 0.5em 0.4em;box-sizing: border-box;padding-bottom: 0.4em;background-color: white;}#sk-container-id-7 div.sk-label label {font-family: monospace;font-weight: bold;display: inline-block;line-height: 1.2em;}#sk-container-id-7 div.sk-label-container {text-align: center;}#sk-container-id-7 div.sk-container {/* jupyter's `normalize.less` sets `[hidden] { display: none; }` but bootstrap.min.css set `[hidden] { display: none !important; }` so we also need the `!important` here to be able to override the default hidden behavior on the sphinx rendered scikit-learn.org. See: https://github.com/scikit-learn/scikit-learn/issues/21755 */display: inline-block !important;position: relative;}#sk-container-id-7 div.sk-text-repr-fallback {display: none;}</style><div id=\"sk-container-id-7\" class=\"sk-top-container\"><div class=\"sk-text-repr-fallback\"><pre>RandomizedSearchCV(cv=8,\n",
       "                   estimator=XGBClassifier(base_score=None, booster=None,\n",
       "                                           callbacks=None,\n",
       "                                           colsample_bylevel=None,\n",
       "                                           colsample_bynode=None,\n",
       "                                           colsample_bytree=None,\n",
       "                                           early_stopping_rounds=None,\n",
       "                                           enable_categorical=False,\n",
       "                                           eval_metric=None, gamma=None,\n",
       "                                           gpu_id=None, grow_policy=None,\n",
       "                                           importance_type=None,\n",
       "                                           interaction_constraints=None,\n",
       "                                           learning_rate=None, max_bin=None,...\n",
       "                                           n_estimators=100, n_jobs=None,\n",
       "                                           num_parallel_tree=None,\n",
       "                                           predictor=None, random_state=None,\n",
       "                                           reg_alpha=None, reg_lambda=None, ...),\n",
       "                   n_iter=15,\n",
       "                   param_distributions={&#x27;colsample_bytree&#x27;: [0.3, 0.4, 0.5,\n",
       "                                                             0.7],\n",
       "                                        &#x27;gamma&#x27;: [0, 0.1, 0.2, 0.3, 0.4],\n",
       "                                        &#x27;learning_rate&#x27;: [0.05, 0.1, 0.15, 0.2,\n",
       "                                                          0.25, 0.3],\n",
       "                                        &#x27;max_depth&#x27;: [3, 4, 5, 6, 7, 8, 10, 12,\n",
       "                                                      15],\n",
       "                                        &#x27;min_child_weight&#x27;: [1, 3, 5, 7],\n",
       "                                        &#x27;n_estimators&#x27;: [50, 100, 120, 150]},\n",
       "                   verbose=3)</pre><b>In a Jupyter environment, please rerun this cell to show the HTML representation or trust the notebook. <br />On GitHub, the HTML representation is unable to render, please try loading this page with nbviewer.org.</b></div><div class=\"sk-container\" hidden><div class=\"sk-item sk-dashed-wrapped\"><div class=\"sk-label-container\"><div class=\"sk-label sk-toggleable\"><input class=\"sk-toggleable__control sk-hidden--visually\" id=\"sk-estimator-id-13\" type=\"checkbox\" ><label for=\"sk-estimator-id-13\" class=\"sk-toggleable__label sk-toggleable__label-arrow\">RandomizedSearchCV</label><div class=\"sk-toggleable__content\"><pre>RandomizedSearchCV(cv=8,\n",
       "                   estimator=XGBClassifier(base_score=None, booster=None,\n",
       "                                           callbacks=None,\n",
       "                                           colsample_bylevel=None,\n",
       "                                           colsample_bynode=None,\n",
       "                                           colsample_bytree=None,\n",
       "                                           early_stopping_rounds=None,\n",
       "                                           enable_categorical=False,\n",
       "                                           eval_metric=None, gamma=None,\n",
       "                                           gpu_id=None, grow_policy=None,\n",
       "                                           importance_type=None,\n",
       "                                           interaction_constraints=None,\n",
       "                                           learning_rate=None, max_bin=None,...\n",
       "                                           n_estimators=100, n_jobs=None,\n",
       "                                           num_parallel_tree=None,\n",
       "                                           predictor=None, random_state=None,\n",
       "                                           reg_alpha=None, reg_lambda=None, ...),\n",
       "                   n_iter=15,\n",
       "                   param_distributions={&#x27;colsample_bytree&#x27;: [0.3, 0.4, 0.5,\n",
       "                                                             0.7],\n",
       "                                        &#x27;gamma&#x27;: [0, 0.1, 0.2, 0.3, 0.4],\n",
       "                                        &#x27;learning_rate&#x27;: [0.05, 0.1, 0.15, 0.2,\n",
       "                                                          0.25, 0.3],\n",
       "                                        &#x27;max_depth&#x27;: [3, 4, 5, 6, 7, 8, 10, 12,\n",
       "                                                      15],\n",
       "                                        &#x27;min_child_weight&#x27;: [1, 3, 5, 7],\n",
       "                                        &#x27;n_estimators&#x27;: [50, 100, 120, 150]},\n",
       "                   verbose=3)</pre></div></div></div><div class=\"sk-parallel\"><div class=\"sk-parallel-item\"><div class=\"sk-item\"><div class=\"sk-label-container\"><div class=\"sk-label sk-toggleable\"><input class=\"sk-toggleable__control sk-hidden--visually\" id=\"sk-estimator-id-14\" type=\"checkbox\" ><label for=\"sk-estimator-id-14\" class=\"sk-toggleable__label sk-toggleable__label-arrow\">estimator: XGBClassifier</label><div class=\"sk-toggleable__content\"><pre>XGBClassifier(base_score=None, booster=None, callbacks=None,\n",
       "              colsample_bylevel=None, colsample_bynode=None,\n",
       "              colsample_bytree=None, early_stopping_rounds=None,\n",
       "              enable_categorical=False, eval_metric=None, gamma=None,\n",
       "              gpu_id=None, grow_policy=None, importance_type=None,\n",
       "              interaction_constraints=None, learning_rate=None, max_bin=None,\n",
       "              max_cat_to_onehot=None, max_delta_step=None, max_depth=None,\n",
       "              max_leaves=None, min_child_weight=None, missing=nan,\n",
       "              monotone_constraints=None, n_estimators=100, n_jobs=None,\n",
       "              num_parallel_tree=None, predictor=None, random_state=None,\n",
       "              reg_alpha=None, reg_lambda=None, ...)</pre></div></div></div><div class=\"sk-serial\"><div class=\"sk-item\"><div class=\"sk-estimator sk-toggleable\"><input class=\"sk-toggleable__control sk-hidden--visually\" id=\"sk-estimator-id-15\" type=\"checkbox\" ><label for=\"sk-estimator-id-15\" class=\"sk-toggleable__label sk-toggleable__label-arrow\">XGBClassifier</label><div class=\"sk-toggleable__content\"><pre>XGBClassifier(base_score=None, booster=None, callbacks=None,\n",
       "              colsample_bylevel=None, colsample_bynode=None,\n",
       "              colsample_bytree=None, early_stopping_rounds=None,\n",
       "              enable_categorical=False, eval_metric=None, gamma=None,\n",
       "              gpu_id=None, grow_policy=None, importance_type=None,\n",
       "              interaction_constraints=None, learning_rate=None, max_bin=None,\n",
       "              max_cat_to_onehot=None, max_delta_step=None, max_depth=None,\n",
       "              max_leaves=None, min_child_weight=None, missing=nan,\n",
       "              monotone_constraints=None, n_estimators=100, n_jobs=None,\n",
       "              num_parallel_tree=None, predictor=None, random_state=None,\n",
       "              reg_alpha=None, reg_lambda=None, ...)</pre></div></div></div></div></div></div></div></div></div></div>"
      ],
      "text/plain": [
       "RandomizedSearchCV(cv=8,\n",
       "                   estimator=XGBClassifier(base_score=None, booster=None,\n",
       "                                           callbacks=None,\n",
       "                                           colsample_bylevel=None,\n",
       "                                           colsample_bynode=None,\n",
       "                                           colsample_bytree=None,\n",
       "                                           early_stopping_rounds=None,\n",
       "                                           enable_categorical=False,\n",
       "                                           eval_metric=None, gamma=None,\n",
       "                                           gpu_id=None, grow_policy=None,\n",
       "                                           importance_type=None,\n",
       "                                           interaction_constraints=None,\n",
       "                                           learning_rate=None, max_bin=None,...\n",
       "                                           n_estimators=100, n_jobs=None,\n",
       "                                           num_parallel_tree=None,\n",
       "                                           predictor=None, random_state=None,\n",
       "                                           reg_alpha=None, reg_lambda=None, ...),\n",
       "                   n_iter=15,\n",
       "                   param_distributions={'colsample_bytree': [0.3, 0.4, 0.5,\n",
       "                                                             0.7],\n",
       "                                        'gamma': [0, 0.1, 0.2, 0.3, 0.4],\n",
       "                                        'learning_rate': [0.05, 0.1, 0.15, 0.2,\n",
       "                                                          0.25, 0.3],\n",
       "                                        'max_depth': [3, 4, 5, 6, 7, 8, 10, 12,\n",
       "                                                      15],\n",
       "                                        'min_child_weight': [1, 3, 5, 7],\n",
       "                                        'n_estimators': [50, 100, 120, 150]},\n",
       "                   verbose=3)"
      ]
     },
     "execution_count": 17,
     "metadata": {},
     "output_type": "execute_result"
    }
   ],
   "source": [
    "# xgboost\n",
    "xgb_params = {\n",
    "    \"learning_rate\":[0.05, 0.1, 0.15, 0.20, 0.25, 0.30],\n",
    "    \"max_depth\":[3, 4, 5, 6, 7, 8, 10, 12, 15],\n",
    "    \"min_child_weight\":[1, 3, 5, 7],\n",
    "    \"n_estimators\":[50, 100, 120, 150],\n",
    "    \"gamma\":[0, 0.1, 0.2, 0.3, 0.4],\n",
    "    \"colsample_bytree\":[0.3, 0.4, 0.5, 0.7]\n",
    "}\n",
    "\n",
    "ran_search_xgb = RandomizedSearchCV(XGBClassifier(), param_distributions = xgb_params, n_iter = 15, cv = 8, verbose = 3)\n",
    "ran_search_xgb.fit(X_train, np.array(y_train))"
   ]
  },
  {
   "cell_type": "markdown",
   "id": "77db3fd5",
   "metadata": {},
   "source": [
    "#### Model Selection:"
   ]
  },
  {
   "cell_type": "code",
   "execution_count": 18,
   "id": "amaTYPScc9pN",
   "metadata": {
    "colab": {
     "base_uri": "https://localhost:8080/"
    },
    "executionInfo": {
     "elapsed": 693,
     "status": "ok",
     "timestamp": 1644259215539,
     "user": {
      "displayName": "Chanaka Prabath",
      "photoUrl": "https://lh3.googleusercontent.com/a-/AOh14GgY5HW7P6KjGUyZKUMsO5Mog94LL5YjDTBpJrgS=s64",
      "userId": "17014943137112987779"
     },
     "user_tz": -330
    },
    "id": "amaTYPScc9pN",
    "outputId": "a3897a9a-1712-4e7a-a658-318fe9b0e369",
    "scrolled": true
   },
   "outputs": [
    {
     "data": {
      "text/html": [
       "<style>#sk-container-id-8 {color: black;background-color: white;}#sk-container-id-8 pre{padding: 0;}#sk-container-id-8 div.sk-toggleable {background-color: white;}#sk-container-id-8 label.sk-toggleable__label {cursor: pointer;display: block;width: 100%;margin-bottom: 0;padding: 0.3em;box-sizing: border-box;text-align: center;}#sk-container-id-8 label.sk-toggleable__label-arrow:before {content: \"▸\";float: left;margin-right: 0.25em;color: #696969;}#sk-container-id-8 label.sk-toggleable__label-arrow:hover:before {color: black;}#sk-container-id-8 div.sk-estimator:hover label.sk-toggleable__label-arrow:before {color: black;}#sk-container-id-8 div.sk-toggleable__content {max-height: 0;max-width: 0;overflow: hidden;text-align: left;background-color: #f0f8ff;}#sk-container-id-8 div.sk-toggleable__content pre {margin: 0.2em;color: black;border-radius: 0.25em;background-color: #f0f8ff;}#sk-container-id-8 input.sk-toggleable__control:checked~div.sk-toggleable__content {max-height: 200px;max-width: 100%;overflow: auto;}#sk-container-id-8 input.sk-toggleable__control:checked~label.sk-toggleable__label-arrow:before {content: \"▾\";}#sk-container-id-8 div.sk-estimator input.sk-toggleable__control:checked~label.sk-toggleable__label {background-color: #d4ebff;}#sk-container-id-8 div.sk-label input.sk-toggleable__control:checked~label.sk-toggleable__label {background-color: #d4ebff;}#sk-container-id-8 input.sk-hidden--visually {border: 0;clip: rect(1px 1px 1px 1px);clip: rect(1px, 1px, 1px, 1px);height: 1px;margin: -1px;overflow: hidden;padding: 0;position: absolute;width: 1px;}#sk-container-id-8 div.sk-estimator {font-family: monospace;background-color: #f0f8ff;border: 1px dotted black;border-radius: 0.25em;box-sizing: border-box;margin-bottom: 0.5em;}#sk-container-id-8 div.sk-estimator:hover {background-color: #d4ebff;}#sk-container-id-8 div.sk-parallel-item::after {content: \"\";width: 100%;border-bottom: 1px solid gray;flex-grow: 1;}#sk-container-id-8 div.sk-label:hover label.sk-toggleable__label {background-color: #d4ebff;}#sk-container-id-8 div.sk-serial::before {content: \"\";position: absolute;border-left: 1px solid gray;box-sizing: border-box;top: 0;bottom: 0;left: 50%;z-index: 0;}#sk-container-id-8 div.sk-serial {display: flex;flex-direction: column;align-items: center;background-color: white;padding-right: 0.2em;padding-left: 0.2em;position: relative;}#sk-container-id-8 div.sk-item {position: relative;z-index: 1;}#sk-container-id-8 div.sk-parallel {display: flex;align-items: stretch;justify-content: center;background-color: white;position: relative;}#sk-container-id-8 div.sk-item::before, #sk-container-id-8 div.sk-parallel-item::before {content: \"\";position: absolute;border-left: 1px solid gray;box-sizing: border-box;top: 0;bottom: 0;left: 50%;z-index: -1;}#sk-container-id-8 div.sk-parallel-item {display: flex;flex-direction: column;z-index: 1;position: relative;background-color: white;}#sk-container-id-8 div.sk-parallel-item:first-child::after {align-self: flex-end;width: 50%;}#sk-container-id-8 div.sk-parallel-item:last-child::after {align-self: flex-start;width: 50%;}#sk-container-id-8 div.sk-parallel-item:only-child::after {width: 0;}#sk-container-id-8 div.sk-dashed-wrapped {border: 1px dashed gray;margin: 0 0.4em 0.5em 0.4em;box-sizing: border-box;padding-bottom: 0.4em;background-color: white;}#sk-container-id-8 div.sk-label label {font-family: monospace;font-weight: bold;display: inline-block;line-height: 1.2em;}#sk-container-id-8 div.sk-label-container {text-align: center;}#sk-container-id-8 div.sk-container {/* jupyter's `normalize.less` sets `[hidden] { display: none; }` but bootstrap.min.css set `[hidden] { display: none !important; }` so we also need the `!important` here to be able to override the default hidden behavior on the sphinx rendered scikit-learn.org. See: https://github.com/scikit-learn/scikit-learn/issues/21755 */display: inline-block !important;position: relative;}#sk-container-id-8 div.sk-text-repr-fallback {display: none;}</style><div id=\"sk-container-id-8\" class=\"sk-top-container\"><div class=\"sk-text-repr-fallback\"><pre>XGBClassifier(base_score=0.5, booster=&#x27;gbtree&#x27;, callbacks=None,\n",
       "              colsample_bylevel=1, colsample_bynode=1, colsample_bytree=0.4,\n",
       "              early_stopping_rounds=None, enable_categorical=False,\n",
       "              eval_metric=None, gamma=0.3, gpu_id=-1, grow_policy=&#x27;depthwise&#x27;,\n",
       "              importance_type=None, interaction_constraints=&#x27;&#x27;,\n",
       "              learning_rate=0.05, max_bin=256, max_cat_to_onehot=4,\n",
       "              max_delta_step=0, max_depth=5, max_leaves=0, min_child_weight=5,\n",
       "              missing=nan, monotone_constraints=&#x27;()&#x27;, n_estimators=120,\n",
       "              n_jobs=0, num_parallel_tree=1, objective=&#x27;multi:softprob&#x27;,\n",
       "              predictor=&#x27;auto&#x27;, random_state=0, reg_alpha=0, ...)</pre><b>In a Jupyter environment, please rerun this cell to show the HTML representation or trust the notebook. <br />On GitHub, the HTML representation is unable to render, please try loading this page with nbviewer.org.</b></div><div class=\"sk-container\" hidden><div class=\"sk-item\"><div class=\"sk-estimator sk-toggleable\"><input class=\"sk-toggleable__control sk-hidden--visually\" id=\"sk-estimator-id-16\" type=\"checkbox\" checked><label for=\"sk-estimator-id-16\" class=\"sk-toggleable__label sk-toggleable__label-arrow\">XGBClassifier</label><div class=\"sk-toggleable__content\"><pre>XGBClassifier(base_score=0.5, booster=&#x27;gbtree&#x27;, callbacks=None,\n",
       "              colsample_bylevel=1, colsample_bynode=1, colsample_bytree=0.4,\n",
       "              early_stopping_rounds=None, enable_categorical=False,\n",
       "              eval_metric=None, gamma=0.3, gpu_id=-1, grow_policy=&#x27;depthwise&#x27;,\n",
       "              importance_type=None, interaction_constraints=&#x27;&#x27;,\n",
       "              learning_rate=0.05, max_bin=256, max_cat_to_onehot=4,\n",
       "              max_delta_step=0, max_depth=5, max_leaves=0, min_child_weight=5,\n",
       "              missing=nan, monotone_constraints=&#x27;()&#x27;, n_estimators=120,\n",
       "              n_jobs=0, num_parallel_tree=1, objective=&#x27;multi:softprob&#x27;,\n",
       "              predictor=&#x27;auto&#x27;, random_state=0, reg_alpha=0, ...)</pre></div></div></div></div></div>"
      ],
      "text/plain": [
       "XGBClassifier(base_score=0.5, booster='gbtree', callbacks=None,\n",
       "              colsample_bylevel=1, colsample_bynode=1, colsample_bytree=0.4,\n",
       "              early_stopping_rounds=None, enable_categorical=False,\n",
       "              eval_metric=None, gamma=0.3, gpu_id=-1, grow_policy='depthwise',\n",
       "              importance_type=None, interaction_constraints='',\n",
       "              learning_rate=0.05, max_bin=256, max_cat_to_onehot=4,\n",
       "              max_delta_step=0, max_depth=5, max_leaves=0, min_child_weight=5,\n",
       "              missing=nan, monotone_constraints='()', n_estimators=120,\n",
       "              n_jobs=0, num_parallel_tree=1, objective='multi:softprob',\n",
       "              predictor='auto', random_state=0, reg_alpha=0, ...)"
      ]
     },
     "execution_count": 18,
     "metadata": {},
     "output_type": "execute_result"
    }
   ],
   "source": [
    "xgb = ran_search_xgb.best_estimator_ # Selecting the best model.\n",
    "xgb.fit(X_train, np.array(y_train)) # Fitting the training data."
   ]
  },
  {
   "cell_type": "markdown",
   "id": "8562542c",
   "metadata": {},
   "source": [
    "#### Accuracy, Confusion Matrix and ROC Plot:"
   ]
  },
  {
   "cell_type": "code",
   "execution_count": 19,
   "id": "8hS3Gu4ddAWf",
   "metadata": {
    "colab": {
     "base_uri": "https://localhost:8080/",
     "height": 1000
    },
    "executionInfo": {
     "elapsed": 959,
     "status": "ok",
     "timestamp": 1644259216495,
     "user": {
      "displayName": "Chanaka Prabath",
      "photoUrl": "https://lh3.googleusercontent.com/a-/AOh14GgY5HW7P6KjGUyZKUMsO5Mog94LL5YjDTBpJrgS=s64",
      "userId": "17014943137112987779"
     },
     "user_tz": -330
    },
    "id": "8hS3Gu4ddAWf",
    "outputId": "fa9d4f3f-5162-4a15-fb2c-7785bc35f29c"
   },
   "outputs": [
    {
     "name": "stdout",
     "output_type": "stream",
     "text": [
      "Training Accuracy:  0.9618055555555556\n",
      "Testing Accuracy:  0.6527777777777778\n"
     ]
    },
    {
     "data": {
      "image/png": "[encoded data removed]",
      "text/plain": [
       "<Figure size 720x504 with 2 Axes>"
      ]
     },
     "metadata": {
      "needs_background": "light"
     },
     "output_type": "display_data"
    },
    {
     "name": "stderr",
     "output_type": "stream",
     "text": [
      "/home/sumon/anaconda3/lib/python3.9/site-packages/sklearn/metrics/_ranking.py:1018: UndefinedMetricWarning: No positive samples in y_true, true positive value should be meaningless\n",
      "  warnings.warn(\n",
      "/home/sumon/anaconda3/lib/python3.9/site-packages/sklearn/metrics/_ranking.py:1018: UndefinedMetricWarning: No positive samples in y_true, true positive value should be meaningless\n",
      "  warnings.warn(\n",
      "/home/sumon/anaconda3/lib/python3.9/site-packages/sklearn/metrics/_ranking.py:1018: UndefinedMetricWarning: No positive samples in y_true, true positive value should be meaningless\n",
      "  warnings.warn(\n",
      "/home/sumon/anaconda3/lib/python3.9/site-packages/sklearn/metrics/_ranking.py:1018: UndefinedMetricWarning: No positive samples in y_true, true positive value should be meaningless\n",
      "  warnings.warn(\n",
      "/home/sumon/anaconda3/lib/python3.9/site-packages/sklearn/metrics/_ranking.py:1018: UndefinedMetricWarning: No positive samples in y_true, true positive value should be meaningless\n",
      "  warnings.warn(\n",
      "/home/sumon/anaconda3/lib/python3.9/site-packages/sklearn/metrics/_ranking.py:1018: UndefinedMetricWarning: No positive samples in y_true, true positive value should be meaningless\n",
      "  warnings.warn(\n",
      "/home/sumon/anaconda3/lib/python3.9/site-packages/sklearn/metrics/_ranking.py:1018: UndefinedMetricWarning: No positive samples in y_true, true positive value should be meaningless\n",
      "  warnings.warn(\n"
     ]
    },
    {
     "data": {
      "image/png": "[encoded data removed]",
      "text/plain": [
       "<Figure size 432x288 with 1 Axes>"
      ]
     },
     "metadata": {
      "needs_background": "light"
     },
     "output_type": "display_data"
    }
   ],
   "source": [
    "y_pred_xgb = xgb.predict(X_test) # Prediction on test data\n",
    "test_acc_xgb = xgb.score(X_test, np.array(y_test)) # Testing accuracy\n",
    "train_acc_xgb = xgb.score(X_train, np.array(y_train)) # Training accuracy\n",
    "print(\"Training Accuracy: \", train_acc_xgb)\n",
    "print(\"Testing Accuracy: \", test_acc_xgb)\n",
    "con_matrix(y_pred_xgb, np.array(y_test))\n",
    "plot_roc(X_test, y_test, xgb)"
   ]
  },
  {
   "cell_type": "markdown",
   "id": "1UwJxG5IdWNu",
   "metadata": {
    "id": "1UwJxG5IdWNu"
   },
   "source": [
    "### Evaluation"
   ]
  },
  {
   "cell_type": "code",
   "execution_count": 20,
   "id": "D25MJQOOdHsG",
   "metadata": {
    "colab": {
     "base_uri": "https://localhost:8080/",
     "height": 175
    },
    "executionInfo": {
     "elapsed": 421,
     "status": "ok",
     "timestamp": 1644259718176,
     "user": {
      "displayName": "Chanaka Prabath",
      "photoUrl": "https://lh3.googleusercontent.com/a-/AOh14GgY5HW7P6KjGUyZKUMsO5Mog94LL5YjDTBpJrgS=s64",
      "userId": "17014943137112987779"
     },
     "user_tz": -330
    },
    "id": "D25MJQOOdHsG",
    "outputId": "d9771fca-6dc7-42d0-ef13-c51d94a070f7"
   },
   "outputs": [
    {
     "data": {
      "text/html": [
       "<div>\n",
       "<style scoped>\n",
       "    .dataframe tbody tr th:only-of-type {\n",
       "        vertical-align: middle;\n",
       "    }\n",
       "\n",
       "    .dataframe tbody tr th {\n",
       "        vertical-align: top;\n",
       "    }\n",
       "\n",
       "    .dataframe thead th {\n",
       "        text-align: right;\n",
       "    }\n",
       "</style>\n",
       "<table border=\"1\" class=\"dataframe\">\n",
       "  <thead>\n",
       "    <tr style=\"text-align: right;\">\n",
       "      <th></th>\n",
       "      <th>Algorithm</th>\n",
       "      <th>Training Accuracy</th>\n",
       "      <th>Testing Accuracy</th>\n",
       "    </tr>\n",
       "  </thead>\n",
       "  <tbody>\n",
       "    <tr>\n",
       "      <th>0</th>\n",
       "      <td>Extra Tree Classification</td>\n",
       "      <td>1.000000</td>\n",
       "      <td>0.625000</td>\n",
       "    </tr>\n",
       "    <tr>\n",
       "      <th>1</th>\n",
       "      <td>Random Forest Classification</td>\n",
       "      <td>1.000000</td>\n",
       "      <td>0.652778</td>\n",
       "    </tr>\n",
       "    <tr>\n",
       "      <th>2</th>\n",
       "      <td>Logistic Regression</td>\n",
       "      <td>0.750000</td>\n",
       "      <td>0.680556</td>\n",
       "    </tr>\n",
       "    <tr>\n",
       "      <th>3</th>\n",
       "      <td>XGBoost Regression</td>\n",
       "      <td>0.961806</td>\n",
       "      <td>0.652778</td>\n",
       "    </tr>\n",
       "  </tbody>\n",
       "</table>\n",
       "</div>"
      ],
      "text/plain": [
       "                      Algorithm  Training Accuracy  Testing Accuracy\n",
       "0     Extra Tree Classification           1.000000          0.625000\n",
       "1  Random Forest Classification           1.000000          0.652778\n",
       "2           Logistic Regression           0.750000          0.680556\n",
       "3            XGBoost Regression           0.961806          0.652778"
      ]
     },
     "execution_count": 20,
     "metadata": {},
     "output_type": "execute_result"
    }
   ],
   "source": [
    "df_evl = pd.DataFrame()\n",
    "df_evl[\"Algorithm\"]=[\"Extra Tree Classification\", \"Random Forest Classification\", \"Logistic Regression\", \"XGBoost Regression\"]\n",
    "df_evl[\"Training Accuracy\"] = [train_acc_etc, train_acc_rfc, train_acc_lr, train_acc_xgb]\n",
    "df_evl[\"Testing Accuracy\"] = [test_acc_etc, test_acc_rfc, test_acc_lr, test_acc_xgb]\n",
    "df_evl"
   ]
  },
  {
   "cell_type": "markdown",
   "id": "c085b08c",
   "metadata": {},
   "source": [
    "### Validation - Predicting Classes from random Audio Files"
   ]
  },
  {
   "cell_type": "code",
   "execution_count": 21,
   "id": "5utoDwPdaqBy",
   "metadata": {
    "executionInfo": {
     "elapsed": 451,
     "status": "ok",
     "timestamp": 1644259725411,
     "user": {
      "displayName": "Chanaka Prabath",
      "photoUrl": "https://lh3.googleusercontent.com/a-/AOh14GgY5HW7P6KjGUyZKUMsO5Mog94LL5YjDTBpJrgS=s64",
      "userId": "17014943137112987779"
     },
     "user_tz": -330
    },
    "id": "5utoDwPdaqBy"
   },
   "outputs": [],
   "source": [
    "def predict(name, model):\n",
    "  # Creating input vectror from the data\n",
    "  # Extracting Spectrum Features\n",
    "  pre_spectrum_features=[]\n",
    "  hf =h5py.File(AED_C_dir+'/tracts/'+name+'.hdf5', 'r')\n",
    "  S_E = np.array(hf.get('E'))\n",
    "  Spt_E=Spectral_Centroids=librosa.feature.spectral_centroid(S=S_E, freq=np.linspace(0, 1, num=S_E.shape[0]))\n",
    "  if Spt_E.shape[1]!=8498:\n",
    "      Spt_E=np.hstack((Spt_E,[[0]*(8498-Spt_E.shape[1])]))\n",
    "  S_f_tract= np.array(hf.get('f_tract'))\n",
    "  Spt_f=Spectral_Centroids=librosa.feature.spectral_centroid(S=S_f_tract, freq=np.linspace(0, 1, num=S_E.shape[0]))\n",
    "  if Spt_f.shape[1]!=8498:\n",
    "      Spt_f=np.hstack((Spt_f,[[0]*(8498-Spt_f.shape[1])]))\n",
    "  S_s_tract= np.array(hf.get('s_tract'))\n",
    "  Spt_s=Spectral_Centroids=librosa.feature.spectral_centroid(S=S_f_tract, freq=np.linspace(0, 1, num=S_E.shape[0]))\n",
    "  if Spt_s.shape[1]!=8498:\n",
    "      Spt_s=np.hstack((Spt_s,[[0]*(8498-Spt_s.shape[1])]))\n",
    "  mean=[np.mean(Spt_E),np.mean(Spt_s),np.mean(Spt_f)]\n",
    "  min=[np.min(Spt_E),np.min(Spt_s),np.min(Spt_f)]\n",
    "  max=[np.max(Spt_E),np.max(Spt_s),np.max(Spt_f)]\n",
    "  pre_spectrum_features.append(mean+min+max)\n",
    "  pre_spectrum_features=np.array(pre_spectrum_features)\n",
    "\n",
    "  # Extracting PTNE Features\n",
    "  pre_ptne_features=[]\n",
    "  hf =h5py.File(AED_C_dir+'/ptne/'+name+'.hdf5', 'r')\n",
    "  energy=np.array(hf.get('energy'))\n",
    "  noise=np.array(hf.get('noise'))\n",
    "  pulse=np.array(hf.get('pulse'))\n",
    "  tone=np.array(hf.get('tone'))\n",
    "  energy_features=[np.mean(energy),np.min(energy),np.max(energy)]\n",
    "  noise_features=[np.mean(noise),np.min(noise),np.max(noise)]\n",
    "  pulse_features=[np.mean(pulse),np.min(pulse),np.max(pulse)]\n",
    "  tone_features=[np.mean(tone),np.min(tone),np.max(tone)]\n",
    "  pre_ptne_features.append(energy_features+noise_features+pulse_features+tone_features)\n",
    "  pre_ptne_features=np.array(pre_ptne_features)\n",
    "  X=np.hstack((pre_spectrum_features,pre_ptne_features))\n",
    "  \n",
    "  # Class Prediction from the Audio File\n",
    "  out=classes[model.predict(X)[0]]\n",
    "  return(out)"
   ]
  },
  {
   "cell_type": "markdown",
   "id": "0269170d",
   "metadata": {},
   "source": [
    "#### Displaying Metadata for Class Prediction"
   ]
  },
  {
   "cell_type": "code",
   "execution_count": 22,
   "id": "HmA9937dcCuR",
   "metadata": {
    "colab": {
     "base_uri": "https://localhost:8080/",
     "height": 206
    },
    "executionInfo": {
     "elapsed": 5,
     "status": "ok",
     "timestamp": 1644259728700,
     "user": {
      "displayName": "Chanaka Prabath",
      "photoUrl": "https://lh3.googleusercontent.com/a-/AOh14GgY5HW7P6KjGUyZKUMsO5Mog94LL5YjDTBpJrgS=s64",
      "userId": "17014943137112987779"
     },
     "user_tz": -330
    },
    "id": "HmA9937dcCuR",
    "outputId": "093aa435-9829-4d32-9cee-c7ea3e15c7e4"
   },
   "outputs": [
    {
     "data": {
      "text/html": [
       "<div>\n",
       "<style scoped>\n",
       "    .dataframe tbody tr th:only-of-type {\n",
       "        vertical-align: middle;\n",
       "    }\n",
       "\n",
       "    .dataframe tbody tr th {\n",
       "        vertical-align: top;\n",
       "    }\n",
       "\n",
       "    .dataframe thead th {\n",
       "        text-align: right;\n",
       "    }\n",
       "</style>\n",
       "<table border=\"1\" class=\"dataframe\">\n",
       "  <thead>\n",
       "    <tr style=\"text-align: right;\">\n",
       "      <th></th>\n",
       "      <th>Unnamed: 0</th>\n",
       "      <th>filename</th>\n",
       "      <th>fold</th>\n",
       "      <th>target</th>\n",
       "      <th>category</th>\n",
       "      <th>esc10</th>\n",
       "      <th>src_file</th>\n",
       "      <th>take</th>\n",
       "    </tr>\n",
       "  </thead>\n",
       "  <tbody>\n",
       "    <tr>\n",
       "      <th>0</th>\n",
       "      <td>3</td>\n",
       "      <td>1-100210-A-36.wav</td>\n",
       "      <td>1</td>\n",
       "      <td>36</td>\n",
       "      <td>vacuum_cleaner</td>\n",
       "      <td>False</td>\n",
       "      <td>100210</td>\n",
       "      <td>A</td>\n",
       "    </tr>\n",
       "    <tr>\n",
       "      <th>1</th>\n",
       "      <td>4</td>\n",
       "      <td>1-100210-B-36.wav</td>\n",
       "      <td>1</td>\n",
       "      <td>36</td>\n",
       "      <td>vacuum_cleaner</td>\n",
       "      <td>False</td>\n",
       "      <td>100210</td>\n",
       "      <td>B</td>\n",
       "    </tr>\n",
       "    <tr>\n",
       "      <th>2</th>\n",
       "      <td>40</td>\n",
       "      <td>1-155858-A-25.wav</td>\n",
       "      <td>1</td>\n",
       "      <td>25</td>\n",
       "      <td>footsteps</td>\n",
       "      <td>False</td>\n",
       "      <td>155858</td>\n",
       "      <td>A</td>\n",
       "    </tr>\n",
       "    <tr>\n",
       "      <th>3</th>\n",
       "      <td>41</td>\n",
       "      <td>1-155858-B-25.wav</td>\n",
       "      <td>1</td>\n",
       "      <td>25</td>\n",
       "      <td>footsteps</td>\n",
       "      <td>False</td>\n",
       "      <td>155858</td>\n",
       "      <td>B</td>\n",
       "    </tr>\n",
       "    <tr>\n",
       "      <th>4</th>\n",
       "      <td>42</td>\n",
       "      <td>1-155858-C-25.wav</td>\n",
       "      <td>1</td>\n",
       "      <td>25</td>\n",
       "      <td>footsteps</td>\n",
       "      <td>False</td>\n",
       "      <td>155858</td>\n",
       "      <td>C</td>\n",
       "    </tr>\n",
       "    <tr>\n",
       "      <th>...</th>\n",
       "      <td>...</td>\n",
       "      <td>...</td>\n",
       "      <td>...</td>\n",
       "      <td>...</td>\n",
       "      <td>...</td>\n",
       "      <td>...</td>\n",
       "      <td>...</td>\n",
       "      <td>...</td>\n",
       "    </tr>\n",
       "    <tr>\n",
       "      <th>355</th>\n",
       "      <td>1992</td>\n",
       "      <td>5-263501-A-25.wav</td>\n",
       "      <td>5</td>\n",
       "      <td>25</td>\n",
       "      <td>footsteps</td>\n",
       "      <td>False</td>\n",
       "      <td>263501</td>\n",
       "      <td>A</td>\n",
       "    </tr>\n",
       "    <tr>\n",
       "      <th>356</th>\n",
       "      <td>1993</td>\n",
       "      <td>5-263775-A-26.wav</td>\n",
       "      <td>5</td>\n",
       "      <td>26</td>\n",
       "      <td>laughing</td>\n",
       "      <td>False</td>\n",
       "      <td>263775</td>\n",
       "      <td>A</td>\n",
       "    </tr>\n",
       "    <tr>\n",
       "      <th>357</th>\n",
       "      <td>1994</td>\n",
       "      <td>5-263775-B-26.wav</td>\n",
       "      <td>5</td>\n",
       "      <td>26</td>\n",
       "      <td>laughing</td>\n",
       "      <td>False</td>\n",
       "      <td>263775</td>\n",
       "      <td>B</td>\n",
       "    </tr>\n",
       "    <tr>\n",
       "      <th>358</th>\n",
       "      <td>1997</td>\n",
       "      <td>5-263902-A-36.wav</td>\n",
       "      <td>5</td>\n",
       "      <td>36</td>\n",
       "      <td>vacuum_cleaner</td>\n",
       "      <td>False</td>\n",
       "      <td>263902</td>\n",
       "      <td>A</td>\n",
       "    </tr>\n",
       "    <tr>\n",
       "      <th>359</th>\n",
       "      <td>1998</td>\n",
       "      <td>5-51149-A-25.wav</td>\n",
       "      <td>5</td>\n",
       "      <td>25</td>\n",
       "      <td>footsteps</td>\n",
       "      <td>False</td>\n",
       "      <td>51149</td>\n",
       "      <td>A</td>\n",
       "    </tr>\n",
       "  </tbody>\n",
       "</table>\n",
       "<p>360 rows × 8 columns</p>\n",
       "</div>"
      ],
      "text/plain": [
       "     Unnamed: 0           filename  fold  target        category  esc10  \\\n",
       "0             3  1-100210-A-36.wav     1      36  vacuum_cleaner  False   \n",
       "1             4  1-100210-B-36.wav     1      36  vacuum_cleaner  False   \n",
       "2            40  1-155858-A-25.wav     1      25       footsteps  False   \n",
       "3            41  1-155858-B-25.wav     1      25       footsteps  False   \n",
       "4            42  1-155858-C-25.wav     1      25       footsteps  False   \n",
       "..          ...                ...   ...     ...             ...    ...   \n",
       "355        1992  5-263501-A-25.wav     5      25       footsteps  False   \n",
       "356        1993  5-263775-A-26.wav     5      26        laughing  False   \n",
       "357        1994  5-263775-B-26.wav     5      26        laughing  False   \n",
       "358        1997  5-263902-A-36.wav     5      36  vacuum_cleaner  False   \n",
       "359        1998   5-51149-A-25.wav     5      25       footsteps  False   \n",
       "\n",
       "     src_file take  \n",
       "0      100210    A  \n",
       "1      100210    B  \n",
       "2      155858    A  \n",
       "3      155858    B  \n",
       "4      155858    C  \n",
       "..        ...  ...  \n",
       "355    263501    A  \n",
       "356    263775    A  \n",
       "357    263775    B  \n",
       "358    263902    A  \n",
       "359     51149    A  \n",
       "\n",
       "[360 rows x 8 columns]"
      ]
     },
     "execution_count": 22,
     "metadata": {},
     "output_type": "execute_result"
    }
   ],
   "source": [
    "meta_data"
   ]
  },
  {
   "cell_type": "code",
   "execution_count": 23,
   "id": "SrGuAJSdcRhX",
   "metadata": {
    "colab": {
     "base_uri": "https://localhost:8080/",
     "height": 35
    },
    "executionInfo": {
     "elapsed": 636,
     "status": "ok",
     "timestamp": 1644259730834,
     "user": {
      "displayName": "Chanaka Prabath",
      "photoUrl": "https://lh3.googleusercontent.com/a-/AOh14GgY5HW7P6KjGUyZKUMsO5Mog94LL5YjDTBpJrgS=s64",
      "userId": "17014943137112987779"
     },
     "user_tz": -330
    },
    "id": "SrGuAJSdcRhX",
    "outputId": "872aa6c5-8133-44aa-d50b-c826acaac785"
   },
   "outputs": [
    {
     "data": {
      "text/plain": [
       "'vacuum_cleaner'"
      ]
     },
     "execution_count": 23,
     "metadata": {},
     "output_type": "execute_result"
    }
   ],
   "source": [
    "predict('1-100210-A-36', etc)"
   ]
  },
  {
   "cell_type": "code",
   "execution_count": 24,
   "id": "TzAW95rudqVb",
   "metadata": {
    "colab": {
     "base_uri": "https://localhost:8080/",
     "height": 35
    },
    "executionInfo": {
     "elapsed": 5,
     "status": "ok",
     "timestamp": 1644259731310,
     "user": {
      "displayName": "Chanaka Prabath",
      "photoUrl": "https://lh3.googleusercontent.com/a-/AOh14GgY5HW7P6KjGUyZKUMsO5Mog94LL5YjDTBpJrgS=s64",
      "userId": "17014943137112987779"
     },
     "user_tz": -330
    },
    "id": "TzAW95rudqVb",
    "outputId": "8df5c5a3-a521-4bf2-e2fe-dc159d7ebc44"
   },
   "outputs": [
    {
     "data": {
      "text/plain": [
       "'vacuum_cleaner'"
      ]
     },
     "execution_count": 24,
     "metadata": {},
     "output_type": "execute_result"
    }
   ],
   "source": [
    "predict('1-100210-B-36', etc)"
   ]
  },
  {
   "cell_type": "code",
   "execution_count": 25,
   "id": "OwmSkGWIduor",
   "metadata": {
    "colab": {
     "base_uri": "https://localhost:8080/",
     "height": 35
    },
    "executionInfo": {
     "elapsed": 4,
     "status": "ok",
     "timestamp": 1644259732220,
     "user": {
      "displayName": "Chanaka Prabath",
      "photoUrl": "https://lh3.googleusercontent.com/a-/AOh14GgY5HW7P6KjGUyZKUMsO5Mog94LL5YjDTBpJrgS=s64",
      "userId": "17014943137112987779"
     },
     "user_tz": -330
    },
    "id": "OwmSkGWIduor",
    "outputId": "f3c704d2-a03c-4423-a01b-541a475a82c2"
   },
   "outputs": [
    {
     "data": {
      "text/plain": [
       "'footsteps'"
      ]
     },
     "execution_count": 25,
     "metadata": {},
     "output_type": "execute_result"
    }
   ],
   "source": [
    "predict('1-155858-A-25', etc)"
   ]
  },
  {
   "cell_type": "code",
   "execution_count": null,
   "id": "a2f967c1",
   "metadata": {},
   "outputs": [],
   "source": []
  }
 ],
 "metadata": {
  "accelerator": "GPU",
  "colab": {
   "collapsed_sections": [],
   "name": "audio clasification_modeling_method2.ipynb",
   "provenance": []
  },
  "kernelspec": {
   "display_name": "Python 3 (ipykernel)",
   "language": "python",
   "name": "python3"
  },
  "language_info": {
   "codemirror_mode": {
    "name": "ipython",
    "version": 3
   },
   "file_extension": ".py",
   "mimetype": "text/x-python",
   "name": "python",
   "nbconvert_exporter": "python",
   "pygments_lexer": "ipython3",
   "version": "3.9.12"
  }
 },
 "nbformat": 4,
 "nbformat_minor": 5
}
