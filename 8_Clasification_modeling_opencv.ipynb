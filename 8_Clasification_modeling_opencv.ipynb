{
 "cells": [
  {
   "cell_type": "markdown",
   "id": "33fd518c",
   "metadata": {},
   "source": [
    "# Notebook 8: Classification using OpenCV Modeling and CNN \n",
    "\n",
    "#### Training\n",
    "* The Machine Learning Algorithm is trained using Spectrum Images generated using OpenCV Preprocessing.\n",
    "* The Spectrum Images are converted to Arrays and then concatenated.\n",
    "* The Model is trained from the concatenated arrays."
   ]
  },
  {
   "cell_type": "markdown",
   "id": "f2013795",
   "metadata": {},
   "source": [
    "### Setting up working directory:"
   ]
  },
  {
   "cell_type": "code",
   "execution_count": 1,
   "id": "ssPEMK-3L5LU",
   "metadata": {
    "executionInfo": {
     "elapsed": 11,
     "status": "ok",
     "timestamp": 1644259786186,
     "user": {
      "displayName": "Chanaka Prabath",
      "photoUrl": "https://lh3.googleusercontent.com/a-/AOh14GgY5HW7P6KjGUyZKUMsO5Mog94LL5YjDTBpJrgS=s64",
      "userId": "17014943137112987779"
     },
     "user_tz": -330
    },
    "id": "ssPEMK-3L5LU"
   },
   "outputs": [],
   "source": [
    "AED_C_dir = 'ESC50/Dataset'"
   ]
  },
  {
   "cell_type": "markdown",
   "id": "76e0076c",
   "metadata": {},
   "source": [
    "### Importing necessary libraries:"
   ]
  },
  {
   "cell_type": "code",
   "execution_count": 2,
   "id": "Cr_dkc68MQLx",
   "metadata": {
    "executionInfo": {
     "elapsed": 7276,
     "status": "ok",
     "timestamp": 1644259824723,
     "user": {
      "displayName": "Chanaka Prabath",
      "photoUrl": "https://lh3.googleusercontent.com/a-/AOh14GgY5HW7P6KjGUyZKUMsO5Mog94LL5YjDTBpJrgS=s64",
      "userId": "17014943137112987779"
     },
     "user_tz": -330
    },
    "id": "Cr_dkc68MQLx"
   },
   "outputs": [
    {
     "name": "stderr",
     "output_type": "stream",
     "text": [
      "2022-09-29 21:47:28.923174: W tensorflow/stream_executor/platform/default/dso_loader.cc:64] Could not load dynamic library 'libcudart.so.11.0'; dlerror: libcudart.so.11.0: cannot open shared object file: No such file or directory; LD_LIBRARY_PATH: /home/sumon/anaconda3/lib/python3.9/site-packages/cv2/../../lib64:\n",
      "2022-09-29 21:47:28.923200: I tensorflow/stream_executor/cuda/cudart_stub.cc:29] Ignore above cudart dlerror if you do not have a GPU set up on your machine.\n"
     ]
    }
   ],
   "source": [
    "import pandas as pd\n",
    "import h5py\n",
    "import os\n",
    "import numpy as np\n",
    "import librosa.display\n",
    "import matplotlib.pyplot as plt\n",
    "import librosa\n",
    "import cv2\n",
    "from tensorflow.keras.utils import to_categorical\n",
    "from keras.layers import Dense, Activation, Flatten, Dropout, BatchNormalization\n",
    "from keras.models import Sequential, Model\n",
    "from keras.layers import Conv2D, MaxPooling2D\n",
    "from tensorflow.keras import optimizers\n",
    "from sklearn.model_selection import train_test_split\n",
    "from sklearn.metrics import confusion_matrix, roc_auc_score, roc_curve, accuracy_score\n",
    "import seaborn as sn"
   ]
  },
  {
   "cell_type": "markdown",
   "id": "1255a607",
   "metadata": {},
   "source": [
    "### Reading the Metadata file and displaying the headers:"
   ]
  },
  {
   "cell_type": "code",
   "execution_count": 3,
   "id": "drIgqDsHhjaa",
   "metadata": {
    "executionInfo": {
     "elapsed": 1266,
     "status": "ok",
     "timestamp": 1644259825986,
     "user": {
      "displayName": "Chanaka Prabath",
      "photoUrl": "https://lh3.googleusercontent.com/a-/AOh14GgY5HW7P6KjGUyZKUMsO5Mog94LL5YjDTBpJrgS=s64",
      "userId": "17014943137112987779"
     },
     "user_tz": -330
    },
    "id": "drIgqDsHhjaa"
   },
   "outputs": [
    {
     "data": {
      "text/html": [
       "<div>\n",
       "<style scoped>\n",
       "    .dataframe tbody tr th:only-of-type {\n",
       "        vertical-align: middle;\n",
       "    }\n",
       "\n",
       "    .dataframe tbody tr th {\n",
       "        vertical-align: top;\n",
       "    }\n",
       "\n",
       "    .dataframe thead th {\n",
       "        text-align: right;\n",
       "    }\n",
       "</style>\n",
       "<table border=\"1\" class=\"dataframe\">\n",
       "  <thead>\n",
       "    <tr style=\"text-align: right;\">\n",
       "      <th></th>\n",
       "      <th>Unnamed: 0</th>\n",
       "      <th>filename</th>\n",
       "      <th>fold</th>\n",
       "      <th>target</th>\n",
       "      <th>category</th>\n",
       "      <th>esc10</th>\n",
       "      <th>src_file</th>\n",
       "      <th>take</th>\n",
       "    </tr>\n",
       "  </thead>\n",
       "  <tbody>\n",
       "    <tr>\n",
       "      <th>0</th>\n",
       "      <td>3</td>\n",
       "      <td>1-100210-A-36.wav</td>\n",
       "      <td>1</td>\n",
       "      <td>36</td>\n",
       "      <td>vacuum_cleaner</td>\n",
       "      <td>False</td>\n",
       "      <td>100210</td>\n",
       "      <td>A</td>\n",
       "    </tr>\n",
       "    <tr>\n",
       "      <th>1</th>\n",
       "      <td>4</td>\n",
       "      <td>1-100210-B-36.wav</td>\n",
       "      <td>1</td>\n",
       "      <td>36</td>\n",
       "      <td>vacuum_cleaner</td>\n",
       "      <td>False</td>\n",
       "      <td>100210</td>\n",
       "      <td>B</td>\n",
       "    </tr>\n",
       "    <tr>\n",
       "      <th>2</th>\n",
       "      <td>40</td>\n",
       "      <td>1-155858-A-25.wav</td>\n",
       "      <td>1</td>\n",
       "      <td>25</td>\n",
       "      <td>footsteps</td>\n",
       "      <td>False</td>\n",
       "      <td>155858</td>\n",
       "      <td>A</td>\n",
       "    </tr>\n",
       "    <tr>\n",
       "      <th>3</th>\n",
       "      <td>41</td>\n",
       "      <td>1-155858-B-25.wav</td>\n",
       "      <td>1</td>\n",
       "      <td>25</td>\n",
       "      <td>footsteps</td>\n",
       "      <td>False</td>\n",
       "      <td>155858</td>\n",
       "      <td>B</td>\n",
       "    </tr>\n",
       "    <tr>\n",
       "      <th>4</th>\n",
       "      <td>42</td>\n",
       "      <td>1-155858-C-25.wav</td>\n",
       "      <td>1</td>\n",
       "      <td>25</td>\n",
       "      <td>footsteps</td>\n",
       "      <td>False</td>\n",
       "      <td>155858</td>\n",
       "      <td>C</td>\n",
       "    </tr>\n",
       "  </tbody>\n",
       "</table>\n",
       "</div>"
      ],
      "text/plain": [
       "   Unnamed: 0           filename  fold  target        category  esc10  \\\n",
       "0           3  1-100210-A-36.wav     1      36  vacuum_cleaner  False   \n",
       "1           4  1-100210-B-36.wav     1      36  vacuum_cleaner  False   \n",
       "2          40  1-155858-A-25.wav     1      25       footsteps  False   \n",
       "3          41  1-155858-B-25.wav     1      25       footsteps  False   \n",
       "4          42  1-155858-C-25.wav     1      25       footsteps  False   \n",
       "\n",
       "   src_file take  \n",
       "0    100210    A  \n",
       "1    100210    B  \n",
       "2    155858    A  \n",
       "3    155858    B  \n",
       "4    155858    C  "
      ]
     },
     "execution_count": 3,
     "metadata": {},
     "output_type": "execute_result"
    }
   ],
   "source": [
    "meta_data = pd.read_csv(AED_C_dir+'/metadata.csv')\n",
    "meta_data.head()"
   ]
  },
  {
   "cell_type": "markdown",
   "id": "b4fbe024",
   "metadata": {},
   "source": [
    "### Preparing the data for Modeling "
   ]
  },
  {
   "cell_type": "code",
   "execution_count": 4,
   "id": "Ck2gtezPMfZW",
   "metadata": {
    "executionInfo": {
     "elapsed": 504777,
     "status": "ok",
     "timestamp": 1644260330747,
     "user": {
      "displayName": "Chanaka Prabath",
      "photoUrl": "https://lh3.googleusercontent.com/a-/AOh14GgY5HW7P6KjGUyZKUMsO5Mog94LL5YjDTBpJrgS=s64",
      "userId": "17014943137112987779"
     },
     "user_tz": -330
    },
    "id": "Ck2gtezPMfZW"
   },
   "outputs": [],
   "source": [
    "save_loc = 'ESC50/Dataset/Dataset_image/'\n",
    "images = []\n",
    "labels = []\n",
    "unique_labels = meta_data['category'].unique()\n",
    "for i in range(len(meta_data)):\n",
    "        name = meta_data['filename'][i].split('.')[0]\n",
    "        a = cv2.resize(cv2.imread(save_loc+'E_'+name+'.jpg'), (64, 64))\n",
    "        b = cv2.resize(cv2.imread(save_loc+'f_tract_'+name+'.jpg'), (64, 64))\n",
    "        c = cv2.resize(cv2.imread(save_loc+'s_tract_'+name+'.jpg'), (64, 64))\n",
    "        images.append(np.vstack((a.T, b.T, c.T)).T) #Concatenating image arrays.\n",
    "        labels.append(np.where(unique_labels == meta_data['category'][i])[0][0])\n",
    "images = np.array(images)\n",
    "images = images.astype('float32') / 255\n",
    "labels = to_categorical(np.array(labels))"
   ]
  },
  {
   "cell_type": "markdown",
   "id": "3ffe9b82",
   "metadata": {},
   "source": [
    "### Dividing the data into training and testing sets:"
   ]
  },
  {
   "cell_type": "code",
   "execution_count": 5,
   "id": "kQvFTHXuZa82",
   "metadata": {
    "executionInfo": {
     "elapsed": 18,
     "status": "ok",
     "timestamp": 1644260330748,
     "user": {
      "displayName": "Chanaka Prabath",
      "photoUrl": "https://lh3.googleusercontent.com/a-/AOh14GgY5HW7P6KjGUyZKUMsO5Mog94LL5YjDTBpJrgS=s64",
      "userId": "17014943137112987779"
     },
     "user_tz": -330
    },
    "id": "kQvFTHXuZa82"
   },
   "outputs": [],
   "source": [
    "train_images, val_images, train_labels, val_labels = train_test_split(\n",
    "                                             images, labels, train_size = 0.85, \n",
    "                                             test_size = 0.15, random_state = 42)"
   ]
  },
  {
   "cell_type": "code",
   "execution_count": 6,
   "id": "pIafOGNDZl0E",
   "metadata": {
    "colab": {
     "base_uri": "https://localhost:8080/"
    },
    "executionInfo": {
     "elapsed": 13,
     "status": "ok",
     "timestamp": 1644260330749,
     "user": {
      "displayName": "Chanaka Prabath",
      "photoUrl": "https://lh3.googleusercontent.com/a-/AOh14GgY5HW7P6KjGUyZKUMsO5Mog94LL5YjDTBpJrgS=s64",
      "userId": "17014943137112987779"
     },
     "user_tz": -330
    },
    "id": "pIafOGNDZl0E",
    "outputId": "cf589acd-4e98-40bb-906b-da7eeebbc9e9"
   },
   "outputs": [
    {
     "data": {
      "text/plain": [
       "(306, 54)"
      ]
     },
     "execution_count": 6,
     "metadata": {},
     "output_type": "execute_result"
    }
   ],
   "source": [
    "len(train_labels), len(val_labels)"
   ]
  },
  {
   "cell_type": "markdown",
   "id": "CVAu7I6nscce",
   "metadata": {
    "id": "CVAu7I6nscce"
   },
   "source": [
    "###  Machine Learning Modelling:"
   ]
  },
  {
   "cell_type": "code",
   "execution_count": 7,
   "id": "LgMVkr-GMfew",
   "metadata": {
    "colab": {
     "base_uri": "https://localhost:8080/"
    },
    "executionInfo": {
     "elapsed": 2750,
     "status": "ok",
     "timestamp": 1644260333492,
     "user": {
      "displayName": "Chanaka Prabath",
      "photoUrl": "https://lh3.googleusercontent.com/a-/AOh14GgY5HW7P6KjGUyZKUMsO5Mog94LL5YjDTBpJrgS=s64",
      "userId": "17014943137112987779"
     },
     "user_tz": -330
    },
    "id": "LgMVkr-GMfew",
    "outputId": "0cda7344-5fba-4821-bc7f-30441b79d7cb"
   },
   "outputs": [
    {
     "name": "stdout",
     "output_type": "stream",
     "text": [
      "Model: \"sequential\"\n",
      "_________________________________________________________________\n",
      " Layer (type)                Output Shape              Param #   \n",
      "=================================================================\n",
      " conv2d (Conv2D)             (None, 64, 64, 32)        2624      \n",
      "                                                                 \n",
      " activation (Activation)     (None, 64, 64, 32)        0         \n",
      "                                                                 \n",
      " conv2d_1 (Conv2D)           (None, 62, 62, 64)        18496     \n",
      "                                                                 \n",
      " activation_1 (Activation)   (None, 62, 62, 64)        0         \n",
      "                                                                 \n",
      " max_pooling2d (MaxPooling2D  (None, 31, 31, 64)       0         \n",
      " )                                                               \n",
      "                                                                 \n",
      " dropout (Dropout)           (None, 31, 31, 64)        0         \n",
      "                                                                 \n",
      " conv2d_2 (Conv2D)           (None, 31, 31, 64)        36928     \n",
      "                                                                 \n",
      " activation_2 (Activation)   (None, 31, 31, 64)        0         \n",
      "                                                                 \n",
      " conv2d_3 (Conv2D)           (None, 29, 29, 64)        36928     \n",
      "                                                                 \n",
      " activation_3 (Activation)   (None, 29, 29, 64)        0         \n",
      "                                                                 \n",
      " max_pooling2d_1 (MaxPooling  (None, 14, 14, 64)       0         \n",
      " 2D)                                                             \n",
      "                                                                 \n",
      " dropout_1 (Dropout)         (None, 14, 14, 64)        0         \n",
      "                                                                 \n",
      " conv2d_4 (Conv2D)           (None, 14, 14, 128)       73856     \n",
      "                                                                 \n",
      " activation_4 (Activation)   (None, 14, 14, 128)       0         \n",
      "                                                                 \n",
      " conv2d_5 (Conv2D)           (None, 12, 12, 128)       147584    \n",
      "                                                                 \n",
      " activation_5 (Activation)   (None, 12, 12, 128)       0         \n",
      "                                                                 \n",
      " max_pooling2d_2 (MaxPooling  (None, 6, 6, 128)        0         \n",
      " 2D)                                                             \n",
      "                                                                 \n",
      " dropout_2 (Dropout)         (None, 6, 6, 128)         0         \n",
      "                                                                 \n",
      " flatten (Flatten)           (None, 4608)              0         \n",
      "                                                                 \n",
      " dense (Dense)               (None, 512)               2359808   \n",
      "                                                                 \n",
      " activation_6 (Activation)   (None, 512)               0         \n",
      "                                                                 \n",
      " dropout_3 (Dropout)         (None, 512)               0         \n",
      "                                                                 \n",
      " dense_1 (Dense)             (None, 9)                 4617      \n",
      "                                                                 \n",
      "=================================================================\n",
      "Total params: 2,680,841\n",
      "Trainable params: 2,680,841\n",
      "Non-trainable params: 0\n",
      "_________________________________________________________________\n"
     ]
    },
    {
     "name": "stderr",
     "output_type": "stream",
     "text": [
      "2022-09-29 21:47:30.410385: E tensorflow/stream_executor/cuda/cuda_driver.cc:271] failed call to cuInit: CUDA_ERROR_NO_DEVICE: no CUDA-capable device is detected\n",
      "2022-09-29 21:47:30.410412: I tensorflow/stream_executor/cuda/cuda_diagnostics.cc:156] kernel driver does not appear to be running on this host (sumonpc): /proc/driver/nvidia/version does not exist\n",
      "2022-09-29 21:47:30.410884: I tensorflow/core/platform/cpu_feature_guard.cc:193] This TensorFlow binary is optimized with oneAPI Deep Neural Network Library (oneDNN) to use the following CPU instructions in performance-critical operations:  AVX2 FMA\n",
      "To enable them in other operations, rebuild TensorFlow with the appropriate compiler flags.\n",
      "/home/sumon/anaconda3/lib/python3.9/site-packages/keras/optimizers/optimizer_v2/rmsprop.py:135: UserWarning: The `lr` argument is deprecated, use `learning_rate` instead.\n",
      "  super(RMSprop, self).__init__(name, **kwargs)\n"
     ]
    }
   ],
   "source": [
    "model = Sequential()\n",
    "model.add(Conv2D(32, (3, 3), padding ='same',\n",
    "                 input_shape=(64, 64, 9)))\n",
    "model.add(Activation('relu'))\n",
    "model.add(Conv2D(64, (3, 3)))\n",
    "model.add(Activation('relu'))\n",
    "model.add(MaxPooling2D(pool_size = (2, 2)))\n",
    "model.add(Dropout(0.25))\n",
    "model.add(Conv2D(64, (3, 3), padding='same'))\n",
    "model.add(Activation('relu'))\n",
    "model.add(Conv2D(64, (3, 3)))\n",
    "model.add(Activation('relu'))\n",
    "model.add(MaxPooling2D(pool_size = (2, 2)))\n",
    "model.add(Dropout(0.5))\n",
    "model.add(Conv2D(128, (3, 3), padding ='same'))\n",
    "model.add(Activation('relu'))\n",
    "model.add(Conv2D(128, (3, 3)))\n",
    "model.add(Activation('relu'))\n",
    "model.add(MaxPooling2D(pool_size = (2, 2)))\n",
    "model.add(Dropout(0.5))\n",
    "model.add(Flatten())\n",
    "model.add(Dense(512))\n",
    "model.add(Activation('relu'))\n",
    "model.add(Dropout(0.5))\n",
    "model.add(Dense(9, activation = 'softmax'))\n",
    "model.compile(optimizers.RMSprop(lr=0.0005, decay=1e-6), loss = \"categorical_crossentropy\", metrics=[\"accuracy\"])\n",
    "model.summary()"
   ]
  },
  {
   "cell_type": "markdown",
   "id": "686dcf95",
   "metadata": {},
   "source": [
    "### Model Fitting"
   ]
  },
  {
   "cell_type": "code",
   "execution_count": 8,
   "id": "pjO3-LJUQtnQ",
   "metadata": {
    "colab": {
     "base_uri": "https://localhost:8080/"
    },
    "executionInfo": {
     "elapsed": 43199,
     "status": "ok",
     "timestamp": 1644260376689,
     "user": {
      "displayName": "Chanaka Prabath",
      "photoUrl": "https://lh3.googleusercontent.com/a-/AOh14GgY5HW7P6KjGUyZKUMsO5Mog94LL5YjDTBpJrgS=s64",
      "userId": "17014943137112987779"
     },
     "user_tz": -330
    },
    "id": "pjO3-LJUQtnQ",
    "outputId": "12a1fa17-7e2b-45dc-c6ce-1173d003a135",
    "scrolled": false
   },
   "outputs": [
    {
     "name": "stdout",
     "output_type": "stream",
     "text": [
      "Epoch 1/80\n",
      "5/5 [==============================] - 2s 317ms/step - loss: 2.2645 - accuracy: 0.0915\n",
      "Epoch 2/80\n",
      "5/5 [==============================] - 2s 313ms/step - loss: 2.2065 - accuracy: 0.1928\n",
      "Epoch 3/80\n",
      "5/5 [==============================] - 2s 327ms/step - loss: 2.0415 - accuracy: 0.2418\n",
      "Epoch 4/80\n",
      "5/5 [==============================] - 2s 315ms/step - loss: 1.9703 - accuracy: 0.2157\n",
      "Epoch 5/80\n",
      "5/5 [==============================] - 2s 313ms/step - loss: 1.8130 - accuracy: 0.2941\n",
      "Epoch 6/80\n",
      "5/5 [==============================] - 2s 320ms/step - loss: 1.9226 - accuracy: 0.2582\n",
      "Epoch 7/80\n",
      "5/5 [==============================] - 2s 320ms/step - loss: 1.7632 - accuracy: 0.2876\n",
      "Epoch 8/80\n",
      "5/5 [==============================] - 2s 322ms/step - loss: 1.5906 - accuracy: 0.3627\n",
      "Epoch 9/80\n",
      "5/5 [==============================] - 2s 334ms/step - loss: 1.8540 - accuracy: 0.3203\n",
      "Epoch 10/80\n",
      "5/5 [==============================] - 2s 324ms/step - loss: 1.6672 - accuracy: 0.3725\n",
      "Epoch 11/80\n",
      "5/5 [==============================] - 2s 316ms/step - loss: 1.4945 - accuracy: 0.4510\n",
      "Epoch 12/80\n",
      "5/5 [==============================] - 2s 317ms/step - loss: 1.5069 - accuracy: 0.3987\n",
      "Epoch 13/80\n",
      "5/5 [==============================] - 2s 329ms/step - loss: 1.4791 - accuracy: 0.4575\n",
      "Epoch 14/80\n",
      "5/5 [==============================] - 2s 312ms/step - loss: 1.3952 - accuracy: 0.4412\n",
      "Epoch 15/80\n",
      "5/5 [==============================] - 2s 311ms/step - loss: 1.3536 - accuracy: 0.4412\n",
      "Epoch 16/80\n",
      "5/5 [==============================] - 2s 316ms/step - loss: 1.2091 - accuracy: 0.5556\n",
      "Epoch 17/80\n",
      "5/5 [==============================] - 2s 316ms/step - loss: 1.4637 - accuracy: 0.4281\n",
      "Epoch 18/80\n",
      "5/5 [==============================] - 2s 316ms/step - loss: 1.1159 - accuracy: 0.5784\n",
      "Epoch 19/80\n",
      "5/5 [==============================] - 2s 318ms/step - loss: 1.0903 - accuracy: 0.5980\n",
      "Epoch 20/80\n",
      "5/5 [==============================] - 2s 315ms/step - loss: 1.0827 - accuracy: 0.6013\n",
      "Epoch 21/80\n",
      "5/5 [==============================] - 2s 314ms/step - loss: 1.3289 - accuracy: 0.5621\n",
      "Epoch 22/80\n",
      "5/5 [==============================] - 2s 316ms/step - loss: 0.9896 - accuracy: 0.6405\n",
      "Epoch 23/80\n",
      "5/5 [==============================] - 2s 322ms/step - loss: 1.1116 - accuracy: 0.5719\n",
      "Epoch 24/80\n",
      "5/5 [==============================] - 2s 318ms/step - loss: 0.9661 - accuracy: 0.6667\n",
      "Epoch 25/80\n",
      "5/5 [==============================] - 2s 317ms/step - loss: 0.7961 - accuracy: 0.7255\n",
      "Epoch 26/80\n",
      "5/5 [==============================] - 2s 318ms/step - loss: 0.8767 - accuracy: 0.6961\n",
      "Epoch 27/80\n",
      "5/5 [==============================] - 2s 312ms/step - loss: 0.7497 - accuracy: 0.7386\n",
      "Epoch 28/80\n",
      "5/5 [==============================] - 2s 316ms/step - loss: 0.7789 - accuracy: 0.7059\n",
      "Epoch 29/80\n",
      "5/5 [==============================] - 2s 316ms/step - loss: 0.7236 - accuracy: 0.7288\n",
      "Epoch 30/80\n",
      "5/5 [==============================] - 2s 316ms/step - loss: 0.7587 - accuracy: 0.7222\n",
      "Epoch 31/80\n",
      "5/5 [==============================] - 2s 322ms/step - loss: 0.7897 - accuracy: 0.7255\n",
      "Epoch 32/80\n",
      "5/5 [==============================] - 2s 316ms/step - loss: 0.5772 - accuracy: 0.8170\n",
      "Epoch 33/80\n",
      "5/5 [==============================] - 2s 330ms/step - loss: 0.6653 - accuracy: 0.7712\n",
      "Epoch 34/80\n",
      "5/5 [==============================] - 2s 314ms/step - loss: 0.7681 - accuracy: 0.7549\n",
      "Epoch 35/80\n",
      "5/5 [==============================] - 2s 322ms/step - loss: 0.5832 - accuracy: 0.8007\n",
      "Epoch 36/80\n",
      "5/5 [==============================] - 2s 320ms/step - loss: 0.6209 - accuracy: 0.7941\n",
      "Epoch 37/80\n",
      "5/5 [==============================] - 2s 321ms/step - loss: 0.6073 - accuracy: 0.7843\n",
      "Epoch 38/80\n",
      "5/5 [==============================] - 2s 330ms/step - loss: 0.4309 - accuracy: 0.8431\n",
      "Epoch 39/80\n",
      "5/5 [==============================] - 2s 327ms/step - loss: 0.4951 - accuracy: 0.8072\n",
      "Epoch 40/80\n",
      "5/5 [==============================] - 2s 321ms/step - loss: 0.7098 - accuracy: 0.7680\n",
      "Epoch 41/80\n",
      "5/5 [==============================] - 2s 317ms/step - loss: 0.4055 - accuracy: 0.8824\n",
      "Epoch 42/80\n",
      "5/5 [==============================] - 2s 331ms/step - loss: 0.3668 - accuracy: 0.8725\n",
      "Epoch 43/80\n",
      "5/5 [==============================] - 2s 326ms/step - loss: 0.5135 - accuracy: 0.8105\n",
      "Epoch 44/80\n",
      "5/5 [==============================] - 2s 316ms/step - loss: 0.5739 - accuracy: 0.8137\n",
      "Epoch 45/80\n",
      "5/5 [==============================] - 2s 319ms/step - loss: 0.3348 - accuracy: 0.9085\n",
      "Epoch 46/80\n",
      "5/5 [==============================] - 2s 317ms/step - loss: 0.3530 - accuracy: 0.8758\n",
      "Epoch 47/80\n",
      "5/5 [==============================] - 2s 315ms/step - loss: 0.4967 - accuracy: 0.8235\n",
      "Epoch 48/80\n",
      "5/5 [==============================] - 2s 320ms/step - loss: 0.2800 - accuracy: 0.9052\n",
      "Epoch 49/80\n",
      "5/5 [==============================] - 2s 333ms/step - loss: 0.3989 - accuracy: 0.8529\n",
      "Epoch 50/80\n",
      "5/5 [==============================] - 2s 324ms/step - loss: 0.3256 - accuracy: 0.8922\n",
      "Epoch 51/80\n",
      "5/5 [==============================] - 2s 316ms/step - loss: 0.5324 - accuracy: 0.8497\n",
      "Epoch 52/80\n",
      "5/5 [==============================] - 2s 324ms/step - loss: 0.4105 - accuracy: 0.8725\n",
      "Epoch 53/80\n",
      "5/5 [==============================] - 2s 330ms/step - loss: 0.2923 - accuracy: 0.9020\n",
      "Epoch 54/80\n",
      "5/5 [==============================] - 2s 325ms/step - loss: 0.2927 - accuracy: 0.9118\n",
      "Epoch 55/80\n",
      "5/5 [==============================] - 2s 327ms/step - loss: 0.2010 - accuracy: 0.9281\n",
      "Epoch 56/80\n",
      "5/5 [==============================] - 2s 327ms/step - loss: 0.3466 - accuracy: 0.8791\n",
      "Epoch 57/80\n",
      "5/5 [==============================] - 2s 322ms/step - loss: 0.3750 - accuracy: 0.8595\n",
      "Epoch 58/80\n",
      "5/5 [==============================] - 2s 326ms/step - loss: 0.1808 - accuracy: 0.9412\n",
      "Epoch 59/80\n",
      "5/5 [==============================] - 2s 322ms/step - loss: 0.2719 - accuracy: 0.9118\n",
      "Epoch 60/80\n",
      "5/5 [==============================] - 2s 316ms/step - loss: 0.2572 - accuracy: 0.9085\n",
      "Epoch 61/80\n",
      "5/5 [==============================] - 2s 318ms/step - loss: 0.2820 - accuracy: 0.9085\n",
      "Epoch 62/80\n",
      "5/5 [==============================] - 2s 330ms/step - loss: 0.2039 - accuracy: 0.9216\n",
      "Epoch 63/80\n",
      "5/5 [==============================] - 2s 321ms/step - loss: 0.2018 - accuracy: 0.9314\n",
      "Epoch 64/80\n",
      "5/5 [==============================] - 2s 320ms/step - loss: 0.1928 - accuracy: 0.9314\n",
      "Epoch 65/80\n",
      "5/5 [==============================] - 2s 324ms/step - loss: 0.5759 - accuracy: 0.8366\n",
      "Epoch 66/80\n",
      "5/5 [==============================] - 2s 329ms/step - loss: 0.1648 - accuracy: 0.9477\n",
      "Epoch 67/80\n",
      "5/5 [==============================] - 2s 322ms/step - loss: 0.1283 - accuracy: 0.9510\n",
      "Epoch 68/80\n",
      "5/5 [==============================] - 2s 320ms/step - loss: 0.1353 - accuracy: 0.9641\n",
      "Epoch 69/80\n",
      "5/5 [==============================] - 2s 322ms/step - loss: 0.1505 - accuracy: 0.9444\n",
      "Epoch 70/80\n",
      "5/5 [==============================] - 2s 314ms/step - loss: 0.1983 - accuracy: 0.9346\n",
      "Epoch 71/80\n",
      "5/5 [==============================] - 2s 315ms/step - loss: 0.1168 - accuracy: 0.9641\n",
      "Epoch 72/80\n",
      "5/5 [==============================] - 2s 329ms/step - loss: 0.1713 - accuracy: 0.9444\n",
      "Epoch 73/80\n",
      "5/5 [==============================] - 2s 318ms/step - loss: 0.2516 - accuracy: 0.9085\n",
      "Epoch 74/80\n",
      "5/5 [==============================] - 2s 323ms/step - loss: 0.1136 - accuracy: 0.9608\n",
      "Epoch 75/80\n",
      "5/5 [==============================] - 2s 318ms/step - loss: 0.1602 - accuracy: 0.9281\n",
      "Epoch 76/80\n",
      "5/5 [==============================] - 2s 319ms/step - loss: 0.1016 - accuracy: 0.9673\n",
      "Epoch 77/80\n",
      "5/5 [==============================] - 2s 320ms/step - loss: 0.0680 - accuracy: 0.9837\n",
      "Epoch 78/80\n",
      "5/5 [==============================] - 2s 317ms/step - loss: 0.6909 - accuracy: 0.8529\n",
      "Epoch 79/80\n",
      "5/5 [==============================] - 2s 317ms/step - loss: 0.1476 - accuracy: 0.9542\n",
      "Epoch 80/80\n",
      "5/5 [==============================] - 2s 316ms/step - loss: 0.0897 - accuracy: 0.9771\n"
     ]
    }
   ],
   "source": [
    "history = model.fit(train_images, train_labels, epochs = 80, batch_size = 64)"
   ]
  },
  {
   "cell_type": "markdown",
   "id": "PzjkliYssuXl",
   "metadata": {
    "id": "PzjkliYssuXl"
   },
   "source": [
    "### Evaluation\n",
    "#### Accuracy, Model Evaluation Plot and Confusion Matrix:"
   ]
  },
  {
   "cell_type": "code",
   "execution_count": 9,
   "id": "tD7VxWrGrRBC",
   "metadata": {
    "executionInfo": {
     "elapsed": 16,
     "status": "ok",
     "timestamp": 1644260376690,
     "user": {
      "displayName": "Chanaka Prabath",
      "photoUrl": "https://lh3.googleusercontent.com/a-/AOh14GgY5HW7P6KjGUyZKUMsO5Mog94LL5YjDTBpJrgS=s64",
      "userId": "17014943137112987779"
     },
     "user_tz": -330
    },
    "id": "tD7VxWrGrRBC"
   },
   "outputs": [],
   "source": [
    "def con_matrix(y_test, y_predict):\n",
    "    cm = confusion_matrix(y_test, y_predict, normalize=\"true\")*100\n",
    "    plt.figure(figsize = (10,7))\n",
    "    df=pd.DataFrame(cm, index = unique_labels)\n",
    "    df.columns = unique_labels\n",
    "    sn.heatmap(df, annot = True)\n",
    "    plt.xlabel(\"Predicted\")\n",
    "    plt.ylabel(\"Truth\")\n",
    "    plt.show()"
   ]
  },
  {
   "cell_type": "markdown",
   "id": "40749106",
   "metadata": {},
   "source": [
    "#### Model Evaluation Plot"
   ]
  },
  {
   "cell_type": "code",
   "execution_count": 10,
   "id": "OPjaalCcZ4D0",
   "metadata": {
    "colab": {
     "base_uri": "https://localhost:8080/",
     "height": 295
    },
    "executionInfo": {
     "elapsed": 16,
     "status": "ok",
     "timestamp": 1644260376691,
     "user": {
      "displayName": "Chanaka Prabath",
      "photoUrl": "https://lh3.googleusercontent.com/a-/AOh14GgY5HW7P6KjGUyZKUMsO5Mog94LL5YjDTBpJrgS=s64",
      "userId": "17014943137112987779"
     },
     "user_tz": -330
    },
    "id": "OPjaalCcZ4D0",
    "outputId": "8070e0e5-c573-4f68-e835-a6f25e0d9894"
   },
   "outputs": [
    {
     "data": {
      "image/png": "[encoded data removed]",
      "text/plain": [
       "<Figure size 432x288 with 1 Axes>"
      ]
     },
     "metadata": {
      "needs_background": "light"
     },
     "output_type": "display_data"
    }
   ],
   "source": [
    "plt.plot(history.history['accuracy'])\n",
    "plt.plot(history.history['loss'])\n",
    "plt.title('Model Evaluation')\n",
    "plt.ylabel('Accuracy')\n",
    "plt.xlabel('Epoch')\n",
    "plt.legend(['Accuracy', 'Loss'], loc = 'upper right')\n",
    "plt.show()"
   ]
  },
  {
   "cell_type": "markdown",
   "id": "d75681e0",
   "metadata": {},
   "source": [
    "#### Confusion Matrix"
   ]
  },
  {
   "cell_type": "code",
   "execution_count": 11,
   "id": "m7tsT3M_l1m8",
   "metadata": {
    "colab": {
     "base_uri": "https://localhost:8080/",
     "height": 463
    },
    "executionInfo": {
     "elapsed": 1611,
     "status": "ok",
     "timestamp": 1644260378288,
     "user": {
      "displayName": "Chanaka Prabath",
      "photoUrl": "https://lh3.googleusercontent.com/a-/AOh14GgY5HW7P6KjGUyZKUMsO5Mog94LL5YjDTBpJrgS=s64",
      "userId": "17014943137112987779"
     },
     "user_tz": -330
    },
    "id": "m7tsT3M_l1m8",
    "outputId": "d1a9c023-5829-4a84-c514-e3dc54b0880f"
   },
   "outputs": [
    {
     "name": "stdout",
     "output_type": "stream",
     "text": [
      "2/2 [==============================] - 0s 17ms/step\n",
      "Accuracy: 75.92592592592592 %\n"
     ]
    },
    {
     "data": {
      "image/png": "[encoded data removed]",
      "text/plain": [
       "<Figure size 720x504 with 2 Axes>"
      ]
     },
     "metadata": {
      "needs_background": "light"
     },
     "output_type": "display_data"
    }
   ],
   "source": [
    "pred = model.predict(val_images)\n",
    "predicted_class_indices = np.argmax(pred, axis = 1)\n",
    "y_test = np.argmax(val_labels, axis = 1)\n",
    "acc = accuracy_score(predicted_class_indices, y_test)\n",
    "print('Accuracy:', acc*100,'%')\n",
    "con_matrix(y_test, predicted_class_indices)"
   ]
  },
  {
   "cell_type": "code",
   "execution_count": null,
   "id": "894e9511",
   "metadata": {},
   "outputs": [],
   "source": []
  }
 ],
 "metadata": {
  "accelerator": "GPU",
  "colab": {
   "collapsed_sections": [],
   "name": "audio clasification_final_modeling_method1.ipynb",
   "provenance": []
  },
  "kernelspec": {
   "display_name": "Python 3 (ipykernel)",
   "language": "python",
   "name": "python3"
  },
  "language_info": {
   "codemirror_mode": {
    "name": "ipython",
    "version": 3
   },
   "file_extension": ".py",
   "mimetype": "text/x-python",
   "name": "python",
   "nbconvert_exporter": "python",
   "pygments_lexer": "ipython3",
   "version": "3.9.12"
  }
 },
 "nbformat": 4,
 "nbformat_minor": 5
}
